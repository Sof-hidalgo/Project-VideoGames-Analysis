{
  "cells": [
    {
      "cell_type": "markdown",
      "metadata": {
        "id": "kN049MUsR2pP"
      },
      "source": [
        "# Análisis de Ventas de Videojuegos\n",
        "\n",
        "## Introducción\n",
        "\n",
        "En el competitivo mundo de los videojuegos, comprender qué factores contribuyen al éxito o fracaso de un título es fundamental para desarrolladores y publicadores. Ice, una tienda online que vende videojuegos globalmente, desea identificar patrones en las ventas que le permitan planificar campañas publicitarias más efectivas y detectar proyectos prometedores. El análisis se basa en datos históricos hasta 2016, evaluando aspectos como las plataformas, géneros, reseñas de usuarios y críticos, y clasificaciones ESRB. Este proyecto busca proporcionar insights valiosos para tomar decisiones informadas de cara al 2017.\n",
        "\n",
        "## Objetivo\n",
        "\n",
        "El objetivo de este proyecto es analizar los datos históricos de ventas de videojuegos para identificar los patrones clave que determinan el éxito comercial de un título. Este análisis permitirá a Ice optimizar sus estrategias de marketing, seleccionando proyectos con mayor potencial y ajustando sus campañas publicitarias según las características del mercado.\n",
        "\n",
        "## Etapas de Análisis\n",
        "\n",
        "1. **Limpieza de Datos**:\n",
        "    - Convertir los nombres de las columnas a minúsculas para evitar errores de tipografía.\n",
        "    - Manejar los valores ausentes imputando datos adecuados o marcando los valores como `unknown`.\n",
        "    - Realizar análisis exploratorio de datos para identificar tendencias iniciales y detectar posibles outliers.\n",
        "    \n",
        "\n",
        "2. **Análisis de Ventas**:\n",
        "    - Evaluar la suma total de ventas por juego y plataforma.\n",
        "    - Analizar la distribución de lanzamientos de juegos a lo largo de los años y su impacto en las ventas.\n",
        "    - Identificar las plataformas más rentables y evaluar la duración de su ciclo de vida.\n",
        "    \n",
        "\n",
        "3. **Impacto de Reseñas y Críticas**:\n",
        "    - Investigar cómo las calificaciones de usuarios y críticos afectan las ventas de juegos en diferentes plataformas.\n",
        "    - Analizar la correlación entre las reseñas y el éxito comercial de un juego.\n",
        "    \n",
        "\n",
        "4. **Distribución por Género**:\n",
        "    - Examinar la distribución de juegos por género y su rentabilidad.\n",
        "    - Identificar patrones de ventas en géneros populares y de nicho.\n",
        "    \n",
        "\n",
        "5. **Análisis Regional**:\n",
        "    - Determinar las plataformas más populares en Norteamérica, Europa y Japón, y las diferencias en las cuotas de mercado.\n",
        "    - Evaluar cómo las clasificaciones ESRB afectan las ventas en cada región.\n",
        "    \n",
        "\n",
        "6. **Formulación de Hipótesis**:\n",
        "    - Comparar las calificaciones promedio de usuarios para diferentes plataformas y géneros, y probar la significancia de las diferencias observadas.\n",
        "\n",
        "\n",
        "7. **Conclusiones**:\n",
        "    - Resumir los hallazgos clave del análisis, destacando los factores que influyen en el éxito de los videojuegos, y proporcionar recomendaciones estratégicas para futuras campañas publicitarias.\n",
        "---"
      ]
    },
    {
      "cell_type": "markdown",
      "metadata": {
        "id": "QHKFGkNwR2pP"
      },
      "source": [
        "## Inicialización"
      ]
    },
    {
      "cell_type": "code",
      "execution_count": null,
      "metadata": {
        "tags": [
          "e5c1f0c2-db9f-43a0-99b9-4875c52427e8"
        ],
        "id": "RXI0TeinR2pQ"
      },
      "outputs": [],
      "source": [
        "import pandas as pd\n",
        "import numpy as np\n",
        "import matplotlib.pyplot as plt\n",
        "import seaborn as sns\n",
        "from math import factorial\n",
        "from scipy import stats as st"
      ]
    },
    {
      "cell_type": "markdown",
      "metadata": {
        "id": "wkKLhXbVR2pS"
      },
      "source": [
        "### Cargar datos"
      ]
    },
    {
      "cell_type": "code",
      "execution_count": null,
      "metadata": {
        "id": "u9SJ9Lr-R2pS"
      },
      "outputs": [],
      "source": [
        "games_data = '/datasets/games.csv'\n",
        "games_df = pd.read_csv(games_data)"
      ]
    },
    {
      "cell_type": "code",
      "execution_count": null,
      "metadata": {
        "id": "dsCG519uR2pU",
        "outputId": "61ec3bf5-543c-4fa9-c856-969f15410fea"
      },
      "outputs": [
        {
          "data": {
            "text/html": [
              "<div>\n",
              "<style scoped>\n",
              "    .dataframe tbody tr th:only-of-type {\n",
              "        vertical-align: middle;\n",
              "    }\n",
              "\n",
              "    .dataframe tbody tr th {\n",
              "        vertical-align: top;\n",
              "    }\n",
              "\n",
              "    .dataframe thead th {\n",
              "        text-align: right;\n",
              "    }\n",
              "</style>\n",
              "<table border=\"1\" class=\"dataframe\">\n",
              "  <thead>\n",
              "    <tr style=\"text-align: right;\">\n",
              "      <th></th>\n",
              "      <th>Name</th>\n",
              "      <th>Platform</th>\n",
              "      <th>Year_of_Release</th>\n",
              "      <th>Genre</th>\n",
              "      <th>NA_sales</th>\n",
              "      <th>EU_sales</th>\n",
              "      <th>JP_sales</th>\n",
              "      <th>Other_sales</th>\n",
              "      <th>Critic_Score</th>\n",
              "      <th>User_Score</th>\n",
              "      <th>Rating</th>\n",
              "    </tr>\n",
              "  </thead>\n",
              "  <tbody>\n",
              "    <tr>\n",
              "      <th>0</th>\n",
              "      <td>Wii Sports</td>\n",
              "      <td>Wii</td>\n",
              "      <td>2006.0</td>\n",
              "      <td>Sports</td>\n",
              "      <td>41.36</td>\n",
              "      <td>28.96</td>\n",
              "      <td>3.77</td>\n",
              "      <td>8.45</td>\n",
              "      <td>76.0</td>\n",
              "      <td>8</td>\n",
              "      <td>E</td>\n",
              "    </tr>\n",
              "    <tr>\n",
              "      <th>1</th>\n",
              "      <td>Super Mario Bros.</td>\n",
              "      <td>NES</td>\n",
              "      <td>1985.0</td>\n",
              "      <td>Platform</td>\n",
              "      <td>29.08</td>\n",
              "      <td>3.58</td>\n",
              "      <td>6.81</td>\n",
              "      <td>0.77</td>\n",
              "      <td>NaN</td>\n",
              "      <td>NaN</td>\n",
              "      <td>NaN</td>\n",
              "    </tr>\n",
              "    <tr>\n",
              "      <th>2</th>\n",
              "      <td>Mario Kart Wii</td>\n",
              "      <td>Wii</td>\n",
              "      <td>2008.0</td>\n",
              "      <td>Racing</td>\n",
              "      <td>15.68</td>\n",
              "      <td>12.76</td>\n",
              "      <td>3.79</td>\n",
              "      <td>3.29</td>\n",
              "      <td>82.0</td>\n",
              "      <td>8.3</td>\n",
              "      <td>E</td>\n",
              "    </tr>\n",
              "    <tr>\n",
              "      <th>3</th>\n",
              "      <td>Wii Sports Resort</td>\n",
              "      <td>Wii</td>\n",
              "      <td>2009.0</td>\n",
              "      <td>Sports</td>\n",
              "      <td>15.61</td>\n",
              "      <td>10.93</td>\n",
              "      <td>3.28</td>\n",
              "      <td>2.95</td>\n",
              "      <td>80.0</td>\n",
              "      <td>8</td>\n",
              "      <td>E</td>\n",
              "    </tr>\n",
              "    <tr>\n",
              "      <th>4</th>\n",
              "      <td>Pokemon Red/Pokemon Blue</td>\n",
              "      <td>GB</td>\n",
              "      <td>1996.0</td>\n",
              "      <td>Role-Playing</td>\n",
              "      <td>11.27</td>\n",
              "      <td>8.89</td>\n",
              "      <td>10.22</td>\n",
              "      <td>1.00</td>\n",
              "      <td>NaN</td>\n",
              "      <td>NaN</td>\n",
              "      <td>NaN</td>\n",
              "    </tr>\n",
              "  </tbody>\n",
              "</table>\n",
              "</div>"
            ],
            "text/plain": [
              "                       Name Platform  Year_of_Release         Genre  NA_sales  \\\n",
              "0                Wii Sports      Wii           2006.0        Sports     41.36   \n",
              "1         Super Mario Bros.      NES           1985.0      Platform     29.08   \n",
              "2            Mario Kart Wii      Wii           2008.0        Racing     15.68   \n",
              "3         Wii Sports Resort      Wii           2009.0        Sports     15.61   \n",
              "4  Pokemon Red/Pokemon Blue       GB           1996.0  Role-Playing     11.27   \n",
              "\n",
              "   EU_sales  JP_sales  Other_sales  Critic_Score User_Score Rating  \n",
              "0     28.96      3.77         8.45          76.0          8      E  \n",
              "1      3.58      6.81         0.77           NaN        NaN    NaN  \n",
              "2     12.76      3.79         3.29          82.0        8.3      E  \n",
              "3     10.93      3.28         2.95          80.0          8      E  \n",
              "4      8.89     10.22         1.00           NaN        NaN    NaN  "
            ]
          },
          "execution_count": 3,
          "metadata": {},
          "output_type": "execute_result"
        }
      ],
      "source": [
        "games_df.head()"
      ]
    },
    {
      "cell_type": "markdown",
      "metadata": {
        "id": "29sKoXgfR2pV"
      },
      "source": [
        "Tenemos un set de datos con nombres, plataformas año de lanzamiento, género, ventas de diferentes regiones, las puntuaciones de los usuarios y de críticos, y su clasificación según el ESRB."
      ]
    },
    {
      "cell_type": "markdown",
      "metadata": {
        "id": "Qfa3M6HxR2pV"
      },
      "source": [
        "### Estudiar la información general"
      ]
    },
    {
      "cell_type": "code",
      "execution_count": null,
      "metadata": {
        "id": "Opq_ZdU-R2pV",
        "outputId": "c62b2088-6b50-42e9-bcc9-056ef5d08728"
      },
      "outputs": [
        {
          "name": "stdout",
          "output_type": "stream",
          "text": [
            "<class 'pandas.core.frame.DataFrame'>\n",
            "RangeIndex: 16715 entries, 0 to 16714\n",
            "Data columns (total 11 columns):\n",
            " #   Column           Non-Null Count  Dtype  \n",
            "---  ------           --------------  -----  \n",
            " 0   Name             16713 non-null  object \n",
            " 1   Platform         16715 non-null  object \n",
            " 2   Year_of_Release  16446 non-null  float64\n",
            " 3   Genre            16713 non-null  object \n",
            " 4   NA_sales         16715 non-null  float64\n",
            " 5   EU_sales         16715 non-null  float64\n",
            " 6   JP_sales         16715 non-null  float64\n",
            " 7   Other_sales      16715 non-null  float64\n",
            " 8   Critic_Score     8137 non-null   float64\n",
            " 9   User_Score       10014 non-null  object \n",
            " 10  Rating           9949 non-null   object \n",
            "dtypes: float64(6), object(5)\n",
            "memory usage: 1.4+ MB\n"
          ]
        }
      ],
      "source": [
        "games_df.info()"
      ]
    },
    {
      "cell_type": "code",
      "execution_count": null,
      "metadata": {
        "id": "xHbpVwnUR2pW",
        "outputId": "88049bae-689c-4a56-a19e-5d101aa4cd15"
      },
      "outputs": [
        {
          "data": {
            "text/html": [
              "<div>\n",
              "<style scoped>\n",
              "    .dataframe tbody tr th:only-of-type {\n",
              "        vertical-align: middle;\n",
              "    }\n",
              "\n",
              "    .dataframe tbody tr th {\n",
              "        vertical-align: top;\n",
              "    }\n",
              "\n",
              "    .dataframe thead th {\n",
              "        text-align: right;\n",
              "    }\n",
              "</style>\n",
              "<table border=\"1\" class=\"dataframe\">\n",
              "  <thead>\n",
              "    <tr style=\"text-align: right;\">\n",
              "      <th></th>\n",
              "      <th>Year_of_Release</th>\n",
              "      <th>NA_sales</th>\n",
              "      <th>EU_sales</th>\n",
              "      <th>JP_sales</th>\n",
              "      <th>Other_sales</th>\n",
              "      <th>Critic_Score</th>\n",
              "    </tr>\n",
              "  </thead>\n",
              "  <tbody>\n",
              "    <tr>\n",
              "      <th>count</th>\n",
              "      <td>16446.000000</td>\n",
              "      <td>16715.000000</td>\n",
              "      <td>16715.000000</td>\n",
              "      <td>16715.000000</td>\n",
              "      <td>16715.000000</td>\n",
              "      <td>8137.000000</td>\n",
              "    </tr>\n",
              "    <tr>\n",
              "      <th>mean</th>\n",
              "      <td>2006.484616</td>\n",
              "      <td>0.263377</td>\n",
              "      <td>0.145060</td>\n",
              "      <td>0.077617</td>\n",
              "      <td>0.047342</td>\n",
              "      <td>68.967679</td>\n",
              "    </tr>\n",
              "    <tr>\n",
              "      <th>std</th>\n",
              "      <td>5.877050</td>\n",
              "      <td>0.813604</td>\n",
              "      <td>0.503339</td>\n",
              "      <td>0.308853</td>\n",
              "      <td>0.186731</td>\n",
              "      <td>13.938165</td>\n",
              "    </tr>\n",
              "    <tr>\n",
              "      <th>min</th>\n",
              "      <td>1980.000000</td>\n",
              "      <td>0.000000</td>\n",
              "      <td>0.000000</td>\n",
              "      <td>0.000000</td>\n",
              "      <td>0.000000</td>\n",
              "      <td>13.000000</td>\n",
              "    </tr>\n",
              "    <tr>\n",
              "      <th>25%</th>\n",
              "      <td>2003.000000</td>\n",
              "      <td>0.000000</td>\n",
              "      <td>0.000000</td>\n",
              "      <td>0.000000</td>\n",
              "      <td>0.000000</td>\n",
              "      <td>60.000000</td>\n",
              "    </tr>\n",
              "    <tr>\n",
              "      <th>50%</th>\n",
              "      <td>2007.000000</td>\n",
              "      <td>0.080000</td>\n",
              "      <td>0.020000</td>\n",
              "      <td>0.000000</td>\n",
              "      <td>0.010000</td>\n",
              "      <td>71.000000</td>\n",
              "    </tr>\n",
              "    <tr>\n",
              "      <th>75%</th>\n",
              "      <td>2010.000000</td>\n",
              "      <td>0.240000</td>\n",
              "      <td>0.110000</td>\n",
              "      <td>0.040000</td>\n",
              "      <td>0.030000</td>\n",
              "      <td>79.000000</td>\n",
              "    </tr>\n",
              "    <tr>\n",
              "      <th>max</th>\n",
              "      <td>2016.000000</td>\n",
              "      <td>41.360000</td>\n",
              "      <td>28.960000</td>\n",
              "      <td>10.220000</td>\n",
              "      <td>10.570000</td>\n",
              "      <td>98.000000</td>\n",
              "    </tr>\n",
              "  </tbody>\n",
              "</table>\n",
              "</div>"
            ],
            "text/plain": [
              "       Year_of_Release      NA_sales      EU_sales      JP_sales  \\\n",
              "count     16446.000000  16715.000000  16715.000000  16715.000000   \n",
              "mean       2006.484616      0.263377      0.145060      0.077617   \n",
              "std           5.877050      0.813604      0.503339      0.308853   \n",
              "min        1980.000000      0.000000      0.000000      0.000000   \n",
              "25%        2003.000000      0.000000      0.000000      0.000000   \n",
              "50%        2007.000000      0.080000      0.020000      0.000000   \n",
              "75%        2010.000000      0.240000      0.110000      0.040000   \n",
              "max        2016.000000     41.360000     28.960000     10.220000   \n",
              "\n",
              "        Other_sales  Critic_Score  \n",
              "count  16715.000000   8137.000000  \n",
              "mean       0.047342     68.967679  \n",
              "std        0.186731     13.938165  \n",
              "min        0.000000     13.000000  \n",
              "25%        0.000000     60.000000  \n",
              "50%        0.010000     71.000000  \n",
              "75%        0.030000     79.000000  \n",
              "max       10.570000     98.000000  "
            ]
          },
          "execution_count": 5,
          "metadata": {},
          "output_type": "execute_result"
        }
      ],
      "source": [
        "games_df.describe()"
      ]
    },
    {
      "cell_type": "markdown",
      "metadata": {
        "id": "IA1IMCKZR2pW"
      },
      "source": [
        "###### comparar promedio y mediana"
      ]
    },
    {
      "cell_type": "code",
      "execution_count": null,
      "metadata": {
        "id": "gDojTnqyR2pW",
        "outputId": "39240690-baf4-4dec-f326-73f6b9867894"
      },
      "outputs": [
        {
          "data": {
            "text/plain": [
              "Year_of_Release    2007.00\n",
              "NA_sales              0.08\n",
              "EU_sales              0.02\n",
              "JP_sales              0.00\n",
              "Other_sales           0.01\n",
              "Critic_Score         71.00\n",
              "dtype: float64"
            ]
          },
          "execution_count": 6,
          "metadata": {},
          "output_type": "execute_result"
        }
      ],
      "source": [
        "# mirar mediana\n",
        "games_df.median()"
      ]
    },
    {
      "cell_type": "code",
      "execution_count": null,
      "metadata": {
        "id": "Lw7WqRwDR2pX",
        "outputId": "87d3e7b1-9657-49c1-88d3-54d69010e8f8"
      },
      "outputs": [
        {
          "data": {
            "text/plain": [
              "Year_of_Release    2006.484616\n",
              "NA_sales              0.263377\n",
              "EU_sales              0.145060\n",
              "JP_sales              0.077617\n",
              "Other_sales           0.047342\n",
              "Critic_Score         68.967679\n",
              "dtype: float64"
            ]
          },
          "execution_count": 7,
          "metadata": {},
          "output_type": "execute_result"
        }
      ],
      "source": [
        "# media o promedio\n",
        "games_df.mean()"
      ]
    },
    {
      "cell_type": "markdown",
      "metadata": {
        "id": "IgfEevWZR2pX"
      },
      "source": [
        "---"
      ]
    },
    {
      "cell_type": "markdown",
      "metadata": {
        "id": "KwCjot-DR2pX"
      },
      "source": [
        "## Limpieza de datos"
      ]
    },
    {
      "cell_type": "markdown",
      "metadata": {
        "id": "q_sPolTQR2pX"
      },
      "source": [
        "Convertimos los nombres de las columnas a minúsculas para evitar posibles errores de typo y facilitar al llamar las columnas."
      ]
    },
    {
      "cell_type": "code",
      "execution_count": null,
      "metadata": {
        "id": "aArLCBasR2pX"
      },
      "outputs": [],
      "source": [
        "def lowercase_columns(data):\n",
        "    data.columns = data.columns.str.lower()\n",
        "    return data"
      ]
    },
    {
      "cell_type": "code",
      "execution_count": null,
      "metadata": {
        "id": "W_7bFjBsR2pY",
        "outputId": "8e874ef0-3c16-4c2b-93a0-d5120a20cf89"
      },
      "outputs": [
        {
          "data": {
            "text/html": [
              "<div>\n",
              "<style scoped>\n",
              "    .dataframe tbody tr th:only-of-type {\n",
              "        vertical-align: middle;\n",
              "    }\n",
              "\n",
              "    .dataframe tbody tr th {\n",
              "        vertical-align: top;\n",
              "    }\n",
              "\n",
              "    .dataframe thead th {\n",
              "        text-align: right;\n",
              "    }\n",
              "</style>\n",
              "<table border=\"1\" class=\"dataframe\">\n",
              "  <thead>\n",
              "    <tr style=\"text-align: right;\">\n",
              "      <th></th>\n",
              "      <th>name</th>\n",
              "      <th>platform</th>\n",
              "      <th>year_of_release</th>\n",
              "      <th>genre</th>\n",
              "      <th>na_sales</th>\n",
              "      <th>eu_sales</th>\n",
              "      <th>jp_sales</th>\n",
              "      <th>other_sales</th>\n",
              "      <th>critic_score</th>\n",
              "      <th>user_score</th>\n",
              "      <th>rating</th>\n",
              "    </tr>\n",
              "  </thead>\n",
              "  <tbody>\n",
              "    <tr>\n",
              "      <th>0</th>\n",
              "      <td>Wii Sports</td>\n",
              "      <td>Wii</td>\n",
              "      <td>2006.0</td>\n",
              "      <td>Sports</td>\n",
              "      <td>41.36</td>\n",
              "      <td>28.96</td>\n",
              "      <td>3.77</td>\n",
              "      <td>8.45</td>\n",
              "      <td>76.0</td>\n",
              "      <td>8</td>\n",
              "      <td>E</td>\n",
              "    </tr>\n",
              "    <tr>\n",
              "      <th>1</th>\n",
              "      <td>Super Mario Bros.</td>\n",
              "      <td>NES</td>\n",
              "      <td>1985.0</td>\n",
              "      <td>Platform</td>\n",
              "      <td>29.08</td>\n",
              "      <td>3.58</td>\n",
              "      <td>6.81</td>\n",
              "      <td>0.77</td>\n",
              "      <td>NaN</td>\n",
              "      <td>NaN</td>\n",
              "      <td>NaN</td>\n",
              "    </tr>\n",
              "    <tr>\n",
              "      <th>2</th>\n",
              "      <td>Mario Kart Wii</td>\n",
              "      <td>Wii</td>\n",
              "      <td>2008.0</td>\n",
              "      <td>Racing</td>\n",
              "      <td>15.68</td>\n",
              "      <td>12.76</td>\n",
              "      <td>3.79</td>\n",
              "      <td>3.29</td>\n",
              "      <td>82.0</td>\n",
              "      <td>8.3</td>\n",
              "      <td>E</td>\n",
              "    </tr>\n",
              "    <tr>\n",
              "      <th>3</th>\n",
              "      <td>Wii Sports Resort</td>\n",
              "      <td>Wii</td>\n",
              "      <td>2009.0</td>\n",
              "      <td>Sports</td>\n",
              "      <td>15.61</td>\n",
              "      <td>10.93</td>\n",
              "      <td>3.28</td>\n",
              "      <td>2.95</td>\n",
              "      <td>80.0</td>\n",
              "      <td>8</td>\n",
              "      <td>E</td>\n",
              "    </tr>\n",
              "    <tr>\n",
              "      <th>4</th>\n",
              "      <td>Pokemon Red/Pokemon Blue</td>\n",
              "      <td>GB</td>\n",
              "      <td>1996.0</td>\n",
              "      <td>Role-Playing</td>\n",
              "      <td>11.27</td>\n",
              "      <td>8.89</td>\n",
              "      <td>10.22</td>\n",
              "      <td>1.00</td>\n",
              "      <td>NaN</td>\n",
              "      <td>NaN</td>\n",
              "      <td>NaN</td>\n",
              "    </tr>\n",
              "    <tr>\n",
              "      <th>...</th>\n",
              "      <td>...</td>\n",
              "      <td>...</td>\n",
              "      <td>...</td>\n",
              "      <td>...</td>\n",
              "      <td>...</td>\n",
              "      <td>...</td>\n",
              "      <td>...</td>\n",
              "      <td>...</td>\n",
              "      <td>...</td>\n",
              "      <td>...</td>\n",
              "      <td>...</td>\n",
              "    </tr>\n",
              "    <tr>\n",
              "      <th>16710</th>\n",
              "      <td>Samurai Warriors: Sanada Maru</td>\n",
              "      <td>PS3</td>\n",
              "      <td>2016.0</td>\n",
              "      <td>Action</td>\n",
              "      <td>0.00</td>\n",
              "      <td>0.00</td>\n",
              "      <td>0.01</td>\n",
              "      <td>0.00</td>\n",
              "      <td>NaN</td>\n",
              "      <td>NaN</td>\n",
              "      <td>NaN</td>\n",
              "    </tr>\n",
              "    <tr>\n",
              "      <th>16711</th>\n",
              "      <td>LMA Manager 2007</td>\n",
              "      <td>X360</td>\n",
              "      <td>2006.0</td>\n",
              "      <td>Sports</td>\n",
              "      <td>0.00</td>\n",
              "      <td>0.01</td>\n",
              "      <td>0.00</td>\n",
              "      <td>0.00</td>\n",
              "      <td>NaN</td>\n",
              "      <td>NaN</td>\n",
              "      <td>NaN</td>\n",
              "    </tr>\n",
              "    <tr>\n",
              "      <th>16712</th>\n",
              "      <td>Haitaka no Psychedelica</td>\n",
              "      <td>PSV</td>\n",
              "      <td>2016.0</td>\n",
              "      <td>Adventure</td>\n",
              "      <td>0.00</td>\n",
              "      <td>0.00</td>\n",
              "      <td>0.01</td>\n",
              "      <td>0.00</td>\n",
              "      <td>NaN</td>\n",
              "      <td>NaN</td>\n",
              "      <td>NaN</td>\n",
              "    </tr>\n",
              "    <tr>\n",
              "      <th>16713</th>\n",
              "      <td>Spirits &amp; Spells</td>\n",
              "      <td>GBA</td>\n",
              "      <td>2003.0</td>\n",
              "      <td>Platform</td>\n",
              "      <td>0.01</td>\n",
              "      <td>0.00</td>\n",
              "      <td>0.00</td>\n",
              "      <td>0.00</td>\n",
              "      <td>NaN</td>\n",
              "      <td>NaN</td>\n",
              "      <td>NaN</td>\n",
              "    </tr>\n",
              "    <tr>\n",
              "      <th>16714</th>\n",
              "      <td>Winning Post 8 2016</td>\n",
              "      <td>PSV</td>\n",
              "      <td>2016.0</td>\n",
              "      <td>Simulation</td>\n",
              "      <td>0.00</td>\n",
              "      <td>0.00</td>\n",
              "      <td>0.01</td>\n",
              "      <td>0.00</td>\n",
              "      <td>NaN</td>\n",
              "      <td>NaN</td>\n",
              "      <td>NaN</td>\n",
              "    </tr>\n",
              "  </tbody>\n",
              "</table>\n",
              "<p>16715 rows × 11 columns</p>\n",
              "</div>"
            ],
            "text/plain": [
              "                                name platform  year_of_release         genre  \\\n",
              "0                         Wii Sports      Wii           2006.0        Sports   \n",
              "1                  Super Mario Bros.      NES           1985.0      Platform   \n",
              "2                     Mario Kart Wii      Wii           2008.0        Racing   \n",
              "3                  Wii Sports Resort      Wii           2009.0        Sports   \n",
              "4           Pokemon Red/Pokemon Blue       GB           1996.0  Role-Playing   \n",
              "...                              ...      ...              ...           ...   \n",
              "16710  Samurai Warriors: Sanada Maru      PS3           2016.0        Action   \n",
              "16711               LMA Manager 2007     X360           2006.0        Sports   \n",
              "16712        Haitaka no Psychedelica      PSV           2016.0     Adventure   \n",
              "16713               Spirits & Spells      GBA           2003.0      Platform   \n",
              "16714            Winning Post 8 2016      PSV           2016.0    Simulation   \n",
              "\n",
              "       na_sales  eu_sales  jp_sales  other_sales  critic_score user_score  \\\n",
              "0         41.36     28.96      3.77         8.45          76.0          8   \n",
              "1         29.08      3.58      6.81         0.77           NaN        NaN   \n",
              "2         15.68     12.76      3.79         3.29          82.0        8.3   \n",
              "3         15.61     10.93      3.28         2.95          80.0          8   \n",
              "4         11.27      8.89     10.22         1.00           NaN        NaN   \n",
              "...         ...       ...       ...          ...           ...        ...   \n",
              "16710      0.00      0.00      0.01         0.00           NaN        NaN   \n",
              "16711      0.00      0.01      0.00         0.00           NaN        NaN   \n",
              "16712      0.00      0.00      0.01         0.00           NaN        NaN   \n",
              "16713      0.01      0.00      0.00         0.00           NaN        NaN   \n",
              "16714      0.00      0.00      0.01         0.00           NaN        NaN   \n",
              "\n",
              "      rating  \n",
              "0          E  \n",
              "1        NaN  \n",
              "2          E  \n",
              "3          E  \n",
              "4        NaN  \n",
              "...      ...  \n",
              "16710    NaN  \n",
              "16711    NaN  \n",
              "16712    NaN  \n",
              "16713    NaN  \n",
              "16714    NaN  \n",
              "\n",
              "[16715 rows x 11 columns]"
            ]
          },
          "execution_count": 9,
          "metadata": {},
          "output_type": "execute_result"
        }
      ],
      "source": [
        "lowercase_columns(games_df)"
      ]
    },
    {
      "cell_type": "markdown",
      "metadata": {
        "id": "AexRjDqSR2pY"
      },
      "source": [
        "---"
      ]
    },
    {
      "cell_type": "markdown",
      "metadata": {
        "id": "fnwm7fOYR2pZ"
      },
      "source": [
        "### Revisar valores duplicados"
      ]
    },
    {
      "cell_type": "code",
      "execution_count": null,
      "metadata": {
        "id": "dS2qgXDHR2pZ",
        "outputId": "078766ea-5e72-401e-84c9-e19de4fe8221"
      },
      "outputs": [
        {
          "data": {
            "text/plain": [
              "0"
            ]
          },
          "execution_count": 10,
          "metadata": {},
          "output_type": "execute_result"
        }
      ],
      "source": [
        "games_df.duplicated().sum()"
      ]
    },
    {
      "cell_type": "markdown",
      "metadata": {
        "id": "dFthUJytR2pZ"
      },
      "source": [
        "No hay duplicados :D"
      ]
    },
    {
      "cell_type": "markdown",
      "metadata": {
        "id": "jlG8k2FUR2pZ"
      },
      "source": [
        "### Cambios de tipo de datos y relleno de datos ausentes"
      ]
    },
    {
      "cell_type": "code",
      "execution_count": null,
      "metadata": {
        "id": "vAqm1r4SR2pZ",
        "outputId": "03408d30-58fd-4f60-9bb2-d24c2bb71408"
      },
      "outputs": [
        {
          "name": "stdout",
          "output_type": "stream",
          "text": [
            "<class 'pandas.core.frame.DataFrame'>\n",
            "RangeIndex: 16715 entries, 0 to 16714\n",
            "Data columns (total 11 columns):\n",
            " #   Column           Non-Null Count  Dtype  \n",
            "---  ------           --------------  -----  \n",
            " 0   name             16713 non-null  object \n",
            " 1   platform         16715 non-null  object \n",
            " 2   year_of_release  16446 non-null  float64\n",
            " 3   genre            16713 non-null  object \n",
            " 4   na_sales         16715 non-null  float64\n",
            " 5   eu_sales         16715 non-null  float64\n",
            " 6   jp_sales         16715 non-null  float64\n",
            " 7   other_sales      16715 non-null  float64\n",
            " 8   critic_score     8137 non-null   float64\n",
            " 9   user_score       10014 non-null  object \n",
            " 10  rating           9949 non-null   object \n",
            "dtypes: float64(6), object(5)\n",
            "memory usage: 1.4+ MB\n"
          ]
        }
      ],
      "source": [
        "games_df.info()"
      ]
    },
    {
      "cell_type": "markdown",
      "metadata": {
        "id": "DH9eAtZ2R2pa"
      },
      "source": [
        "Podemos ver que nos faltan valores, así que determinaremos cuántos valores ausentes hay"
      ]
    },
    {
      "cell_type": "code",
      "execution_count": null,
      "metadata": {
        "id": "7AI9rvowR2pa",
        "outputId": "646dc135-0088-4f7e-8eaf-5142d67d0672"
      },
      "outputs": [
        {
          "data": {
            "text/plain": [
              "name                  2\n",
              "platform              0\n",
              "year_of_release     269\n",
              "genre                 2\n",
              "na_sales              0\n",
              "eu_sales              0\n",
              "jp_sales              0\n",
              "other_sales           0\n",
              "critic_score       8578\n",
              "user_score         6701\n",
              "rating             6766\n",
              "dtype: int64"
            ]
          },
          "execution_count": 12,
          "metadata": {},
          "output_type": "execute_result"
        }
      ],
      "source": [
        "games_df.isna().sum()"
      ]
    },
    {
      "cell_type": "markdown",
      "metadata": {
        "id": "As7M9vtyR2pa"
      },
      "source": [
        "#### `name`\n",
        "\n",
        "Rellené los valores NaN esta columna por el valor unknown por dos razones:\n",
        "1. Para que personas fuera del campo puedan entender el conjunto de datos de una mejor manera. A demás de eso, es una variable categórica, así que no modifica mucho al dataset agregar esto.\n",
        "2. Si lo rellenamos con otro nombre, estamos asegurando algo que no puede ser cierto."
      ]
    },
    {
      "cell_type": "code",
      "execution_count": null,
      "metadata": {
        "id": "RqPFNeqrR2pa",
        "outputId": "9ba55740-10d3-456b-c5ee-70eda2e571a2"
      },
      "outputs": [
        {
          "data": {
            "text/html": [
              "<div>\n",
              "<style scoped>\n",
              "    .dataframe tbody tr th:only-of-type {\n",
              "        vertical-align: middle;\n",
              "    }\n",
              "\n",
              "    .dataframe tbody tr th {\n",
              "        vertical-align: top;\n",
              "    }\n",
              "\n",
              "    .dataframe thead th {\n",
              "        text-align: right;\n",
              "    }\n",
              "</style>\n",
              "<table border=\"1\" class=\"dataframe\">\n",
              "  <thead>\n",
              "    <tr style=\"text-align: right;\">\n",
              "      <th></th>\n",
              "      <th>name</th>\n",
              "      <th>platform</th>\n",
              "      <th>year_of_release</th>\n",
              "      <th>genre</th>\n",
              "      <th>na_sales</th>\n",
              "      <th>eu_sales</th>\n",
              "      <th>jp_sales</th>\n",
              "      <th>other_sales</th>\n",
              "      <th>critic_score</th>\n",
              "      <th>user_score</th>\n",
              "      <th>rating</th>\n",
              "    </tr>\n",
              "  </thead>\n",
              "  <tbody>\n",
              "    <tr>\n",
              "      <th>659</th>\n",
              "      <td>NaN</td>\n",
              "      <td>GEN</td>\n",
              "      <td>1993.0</td>\n",
              "      <td>NaN</td>\n",
              "      <td>1.78</td>\n",
              "      <td>0.53</td>\n",
              "      <td>0.00</td>\n",
              "      <td>0.08</td>\n",
              "      <td>NaN</td>\n",
              "      <td>NaN</td>\n",
              "      <td>NaN</td>\n",
              "    </tr>\n",
              "    <tr>\n",
              "      <th>14244</th>\n",
              "      <td>NaN</td>\n",
              "      <td>GEN</td>\n",
              "      <td>1993.0</td>\n",
              "      <td>NaN</td>\n",
              "      <td>0.00</td>\n",
              "      <td>0.00</td>\n",
              "      <td>0.03</td>\n",
              "      <td>0.00</td>\n",
              "      <td>NaN</td>\n",
              "      <td>NaN</td>\n",
              "      <td>NaN</td>\n",
              "    </tr>\n",
              "  </tbody>\n",
              "</table>\n",
              "</div>"
            ],
            "text/plain": [
              "      name platform  year_of_release genre  na_sales  eu_sales  jp_sales  \\\n",
              "659    NaN      GEN           1993.0   NaN      1.78      0.53      0.00   \n",
              "14244  NaN      GEN           1993.0   NaN      0.00      0.00      0.03   \n",
              "\n",
              "       other_sales  critic_score user_score rating  \n",
              "659           0.08           NaN        NaN    NaN  \n",
              "14244         0.00           NaN        NaN    NaN  "
            ]
          },
          "execution_count": 13,
          "metadata": {},
          "output_type": "execute_result"
        }
      ],
      "source": [
        "games_df[games_df['name'].isnull()]"
      ]
    },
    {
      "cell_type": "code",
      "execution_count": null,
      "metadata": {
        "id": "E_yqWIGzR2pb"
      },
      "outputs": [],
      "source": [
        "games_df['name'].fillna('unknown', inplace=True)"
      ]
    },
    {
      "cell_type": "code",
      "execution_count": null,
      "metadata": {
        "id": "1BygpyUiR2pb",
        "outputId": "460f007c-4689-4d8a-ba01-e6e746bf6ac6"
      },
      "outputs": [
        {
          "data": {
            "text/html": [
              "<div>\n",
              "<style scoped>\n",
              "    .dataframe tbody tr th:only-of-type {\n",
              "        vertical-align: middle;\n",
              "    }\n",
              "\n",
              "    .dataframe tbody tr th {\n",
              "        vertical-align: top;\n",
              "    }\n",
              "\n",
              "    .dataframe thead th {\n",
              "        text-align: right;\n",
              "    }\n",
              "</style>\n",
              "<table border=\"1\" class=\"dataframe\">\n",
              "  <thead>\n",
              "    <tr style=\"text-align: right;\">\n",
              "      <th></th>\n",
              "      <th>name</th>\n",
              "      <th>platform</th>\n",
              "      <th>year_of_release</th>\n",
              "      <th>genre</th>\n",
              "      <th>na_sales</th>\n",
              "      <th>eu_sales</th>\n",
              "      <th>jp_sales</th>\n",
              "      <th>other_sales</th>\n",
              "      <th>critic_score</th>\n",
              "      <th>user_score</th>\n",
              "      <th>rating</th>\n",
              "    </tr>\n",
              "  </thead>\n",
              "  <tbody>\n",
              "  </tbody>\n",
              "</table>\n",
              "</div>"
            ],
            "text/plain": [
              "Empty DataFrame\n",
              "Columns: [name, platform, year_of_release, genre, na_sales, eu_sales, jp_sales, other_sales, critic_score, user_score, rating]\n",
              "Index: []"
            ]
          },
          "execution_count": 15,
          "metadata": {},
          "output_type": "execute_result"
        }
      ],
      "source": [
        "games_df[games_df['name'].isnull()]"
      ]
    },
    {
      "cell_type": "markdown",
      "metadata": {
        "id": "BqJ52rvzR2pb"
      },
      "source": [
        "#### `genre`\n",
        "Rellené los valores NaN esta columna por el valor unclassified por dos razones:\n",
        "1. Para que personas fuera del campo puedan entender el conjunto de datos de una mejor manera. A demás de eso, es una variable categórica, así que no modifica mucho al dataset agregar esto.\n",
        "2. Si lo rellenamos con otro género, estamos asegurando algo que no puede ser cierto."
      ]
    },
    {
      "cell_type": "code",
      "execution_count": null,
      "metadata": {
        "id": "KxPc8tApR2pc",
        "outputId": "2d390e9a-3e3f-4185-feff-337be0658b0c"
      },
      "outputs": [
        {
          "data": {
            "text/html": [
              "<div>\n",
              "<style scoped>\n",
              "    .dataframe tbody tr th:only-of-type {\n",
              "        vertical-align: middle;\n",
              "    }\n",
              "\n",
              "    .dataframe tbody tr th {\n",
              "        vertical-align: top;\n",
              "    }\n",
              "\n",
              "    .dataframe thead th {\n",
              "        text-align: right;\n",
              "    }\n",
              "</style>\n",
              "<table border=\"1\" class=\"dataframe\">\n",
              "  <thead>\n",
              "    <tr style=\"text-align: right;\">\n",
              "      <th></th>\n",
              "      <th>name</th>\n",
              "      <th>platform</th>\n",
              "      <th>year_of_release</th>\n",
              "      <th>genre</th>\n",
              "      <th>na_sales</th>\n",
              "      <th>eu_sales</th>\n",
              "      <th>jp_sales</th>\n",
              "      <th>other_sales</th>\n",
              "      <th>critic_score</th>\n",
              "      <th>user_score</th>\n",
              "      <th>rating</th>\n",
              "    </tr>\n",
              "  </thead>\n",
              "  <tbody>\n",
              "    <tr>\n",
              "      <th>659</th>\n",
              "      <td>unknown</td>\n",
              "      <td>GEN</td>\n",
              "      <td>1993.0</td>\n",
              "      <td>NaN</td>\n",
              "      <td>1.78</td>\n",
              "      <td>0.53</td>\n",
              "      <td>0.00</td>\n",
              "      <td>0.08</td>\n",
              "      <td>NaN</td>\n",
              "      <td>NaN</td>\n",
              "      <td>NaN</td>\n",
              "    </tr>\n",
              "    <tr>\n",
              "      <th>14244</th>\n",
              "      <td>unknown</td>\n",
              "      <td>GEN</td>\n",
              "      <td>1993.0</td>\n",
              "      <td>NaN</td>\n",
              "      <td>0.00</td>\n",
              "      <td>0.00</td>\n",
              "      <td>0.03</td>\n",
              "      <td>0.00</td>\n",
              "      <td>NaN</td>\n",
              "      <td>NaN</td>\n",
              "      <td>NaN</td>\n",
              "    </tr>\n",
              "  </tbody>\n",
              "</table>\n",
              "</div>"
            ],
            "text/plain": [
              "          name platform  year_of_release genre  na_sales  eu_sales  jp_sales  \\\n",
              "659    unknown      GEN           1993.0   NaN      1.78      0.53      0.00   \n",
              "14244  unknown      GEN           1993.0   NaN      0.00      0.00      0.03   \n",
              "\n",
              "       other_sales  critic_score user_score rating  \n",
              "659           0.08           NaN        NaN    NaN  \n",
              "14244         0.00           NaN        NaN    NaN  "
            ]
          },
          "execution_count": 16,
          "metadata": {},
          "output_type": "execute_result"
        }
      ],
      "source": [
        "games_df[games_df['genre'].isnull()]"
      ]
    },
    {
      "cell_type": "code",
      "execution_count": null,
      "metadata": {
        "id": "bKqefDIqR2pc"
      },
      "outputs": [],
      "source": [
        "games_df['genre'].fillna('unclassified', inplace=True)"
      ]
    },
    {
      "cell_type": "code",
      "execution_count": null,
      "metadata": {
        "id": "lLmZX-7SR2pc",
        "outputId": "2aff1462-96b9-4037-fa52-9f72a7d9b5d4"
      },
      "outputs": [
        {
          "data": {
            "text/html": [
              "<div>\n",
              "<style scoped>\n",
              "    .dataframe tbody tr th:only-of-type {\n",
              "        vertical-align: middle;\n",
              "    }\n",
              "\n",
              "    .dataframe tbody tr th {\n",
              "        vertical-align: top;\n",
              "    }\n",
              "\n",
              "    .dataframe thead th {\n",
              "        text-align: right;\n",
              "    }\n",
              "</style>\n",
              "<table border=\"1\" class=\"dataframe\">\n",
              "  <thead>\n",
              "    <tr style=\"text-align: right;\">\n",
              "      <th></th>\n",
              "      <th>name</th>\n",
              "      <th>platform</th>\n",
              "      <th>year_of_release</th>\n",
              "      <th>genre</th>\n",
              "      <th>na_sales</th>\n",
              "      <th>eu_sales</th>\n",
              "      <th>jp_sales</th>\n",
              "      <th>other_sales</th>\n",
              "      <th>critic_score</th>\n",
              "      <th>user_score</th>\n",
              "      <th>rating</th>\n",
              "    </tr>\n",
              "  </thead>\n",
              "  <tbody>\n",
              "  </tbody>\n",
              "</table>\n",
              "</div>"
            ],
            "text/plain": [
              "Empty DataFrame\n",
              "Columns: [name, platform, year_of_release, genre, na_sales, eu_sales, jp_sales, other_sales, critic_score, user_score, rating]\n",
              "Index: []"
            ]
          },
          "execution_count": 18,
          "metadata": {},
          "output_type": "execute_result"
        }
      ],
      "source": [
        "games_df[games_df['genre'].isnull()]"
      ]
    },
    {
      "cell_type": "markdown",
      "metadata": {
        "id": "ahf4vrGFR2pd"
      },
      "source": [
        "#### `year_of_release`"
      ]
    },
    {
      "cell_type": "markdown",
      "metadata": {
        "id": "OzY3hs2wR2pd"
      },
      "source": [
        "1. Cambié el tipo de dato de la columna ['year_of_release'] de float64 a int, ya que veo que representa años y no tiene por qué tener valores después del punto decimal.\n",
        "2. Además de eso, rellené los valores NaN con 0, ya que el año de lanzamiento es una **característica** del juego. Si lo rellenamos con otro año, estamos asegurando algo que no puede ser cierto."
      ]
    },
    {
      "cell_type": "code",
      "execution_count": null,
      "metadata": {
        "id": "S6DN-XhXR2pe",
        "outputId": "67288a33-c738-4be3-c2fa-adba9cff294d"
      },
      "outputs": [
        {
          "data": {
            "text/html": [
              "<div>\n",
              "<style scoped>\n",
              "    .dataframe tbody tr th:only-of-type {\n",
              "        vertical-align: middle;\n",
              "    }\n",
              "\n",
              "    .dataframe tbody tr th {\n",
              "        vertical-align: top;\n",
              "    }\n",
              "\n",
              "    .dataframe thead th {\n",
              "        text-align: right;\n",
              "    }\n",
              "</style>\n",
              "<table border=\"1\" class=\"dataframe\">\n",
              "  <thead>\n",
              "    <tr style=\"text-align: right;\">\n",
              "      <th></th>\n",
              "      <th>name</th>\n",
              "      <th>platform</th>\n",
              "      <th>year_of_release</th>\n",
              "      <th>genre</th>\n",
              "      <th>na_sales</th>\n",
              "      <th>eu_sales</th>\n",
              "      <th>jp_sales</th>\n",
              "      <th>other_sales</th>\n",
              "      <th>critic_score</th>\n",
              "      <th>user_score</th>\n",
              "      <th>rating</th>\n",
              "    </tr>\n",
              "  </thead>\n",
              "  <tbody>\n",
              "    <tr>\n",
              "      <th>183</th>\n",
              "      <td>Madden NFL 2004</td>\n",
              "      <td>PS2</td>\n",
              "      <td>NaN</td>\n",
              "      <td>Sports</td>\n",
              "      <td>4.26</td>\n",
              "      <td>0.26</td>\n",
              "      <td>0.01</td>\n",
              "      <td>0.71</td>\n",
              "      <td>94.0</td>\n",
              "      <td>8.5</td>\n",
              "      <td>E</td>\n",
              "    </tr>\n",
              "    <tr>\n",
              "      <th>377</th>\n",
              "      <td>FIFA Soccer 2004</td>\n",
              "      <td>PS2</td>\n",
              "      <td>NaN</td>\n",
              "      <td>Sports</td>\n",
              "      <td>0.59</td>\n",
              "      <td>2.36</td>\n",
              "      <td>0.04</td>\n",
              "      <td>0.51</td>\n",
              "      <td>84.0</td>\n",
              "      <td>6.4</td>\n",
              "      <td>E</td>\n",
              "    </tr>\n",
              "    <tr>\n",
              "      <th>456</th>\n",
              "      <td>LEGO Batman: The Videogame</td>\n",
              "      <td>Wii</td>\n",
              "      <td>NaN</td>\n",
              "      <td>Action</td>\n",
              "      <td>1.80</td>\n",
              "      <td>0.97</td>\n",
              "      <td>0.00</td>\n",
              "      <td>0.29</td>\n",
              "      <td>74.0</td>\n",
              "      <td>7.9</td>\n",
              "      <td>E10+</td>\n",
              "    </tr>\n",
              "    <tr>\n",
              "      <th>475</th>\n",
              "      <td>wwe Smackdown vs. Raw 2006</td>\n",
              "      <td>PS2</td>\n",
              "      <td>NaN</td>\n",
              "      <td>Fighting</td>\n",
              "      <td>1.57</td>\n",
              "      <td>1.02</td>\n",
              "      <td>0.00</td>\n",
              "      <td>0.41</td>\n",
              "      <td>NaN</td>\n",
              "      <td>NaN</td>\n",
              "      <td>NaN</td>\n",
              "    </tr>\n",
              "    <tr>\n",
              "      <th>609</th>\n",
              "      <td>Space Invaders</td>\n",
              "      <td>2600</td>\n",
              "      <td>NaN</td>\n",
              "      <td>Shooter</td>\n",
              "      <td>2.36</td>\n",
              "      <td>0.14</td>\n",
              "      <td>0.00</td>\n",
              "      <td>0.03</td>\n",
              "      <td>NaN</td>\n",
              "      <td>NaN</td>\n",
              "      <td>NaN</td>\n",
              "    </tr>\n",
              "    <tr>\n",
              "      <th>...</th>\n",
              "      <td>...</td>\n",
              "      <td>...</td>\n",
              "      <td>...</td>\n",
              "      <td>...</td>\n",
              "      <td>...</td>\n",
              "      <td>...</td>\n",
              "      <td>...</td>\n",
              "      <td>...</td>\n",
              "      <td>...</td>\n",
              "      <td>...</td>\n",
              "      <td>...</td>\n",
              "    </tr>\n",
              "    <tr>\n",
              "      <th>16373</th>\n",
              "      <td>PDC World Championship Darts 2008</td>\n",
              "      <td>PSP</td>\n",
              "      <td>NaN</td>\n",
              "      <td>Sports</td>\n",
              "      <td>0.01</td>\n",
              "      <td>0.00</td>\n",
              "      <td>0.00</td>\n",
              "      <td>0.00</td>\n",
              "      <td>43.0</td>\n",
              "      <td>tbd</td>\n",
              "      <td>E10+</td>\n",
              "    </tr>\n",
              "    <tr>\n",
              "      <th>16405</th>\n",
              "      <td>Freaky Flyers</td>\n",
              "      <td>GC</td>\n",
              "      <td>NaN</td>\n",
              "      <td>Racing</td>\n",
              "      <td>0.01</td>\n",
              "      <td>0.00</td>\n",
              "      <td>0.00</td>\n",
              "      <td>0.00</td>\n",
              "      <td>69.0</td>\n",
              "      <td>6.5</td>\n",
              "      <td>T</td>\n",
              "    </tr>\n",
              "    <tr>\n",
              "      <th>16448</th>\n",
              "      <td>Inversion</td>\n",
              "      <td>PC</td>\n",
              "      <td>NaN</td>\n",
              "      <td>Shooter</td>\n",
              "      <td>0.01</td>\n",
              "      <td>0.00</td>\n",
              "      <td>0.00</td>\n",
              "      <td>0.00</td>\n",
              "      <td>59.0</td>\n",
              "      <td>6.7</td>\n",
              "      <td>M</td>\n",
              "    </tr>\n",
              "    <tr>\n",
              "      <th>16458</th>\n",
              "      <td>Hakuouki: Shinsengumi Kitan</td>\n",
              "      <td>PS3</td>\n",
              "      <td>NaN</td>\n",
              "      <td>Adventure</td>\n",
              "      <td>0.01</td>\n",
              "      <td>0.00</td>\n",
              "      <td>0.00</td>\n",
              "      <td>0.00</td>\n",
              "      <td>NaN</td>\n",
              "      <td>NaN</td>\n",
              "      <td>NaN</td>\n",
              "    </tr>\n",
              "    <tr>\n",
              "      <th>16522</th>\n",
              "      <td>Virtua Quest</td>\n",
              "      <td>GC</td>\n",
              "      <td>NaN</td>\n",
              "      <td>Role-Playing</td>\n",
              "      <td>0.01</td>\n",
              "      <td>0.00</td>\n",
              "      <td>0.00</td>\n",
              "      <td>0.00</td>\n",
              "      <td>55.0</td>\n",
              "      <td>5.5</td>\n",
              "      <td>T</td>\n",
              "    </tr>\n",
              "  </tbody>\n",
              "</table>\n",
              "<p>269 rows × 11 columns</p>\n",
              "</div>"
            ],
            "text/plain": [
              "                                    name platform  year_of_release  \\\n",
              "183                      Madden NFL 2004      PS2              NaN   \n",
              "377                     FIFA Soccer 2004      PS2              NaN   \n",
              "456           LEGO Batman: The Videogame      Wii              NaN   \n",
              "475           wwe Smackdown vs. Raw 2006      PS2              NaN   \n",
              "609                       Space Invaders     2600              NaN   \n",
              "...                                  ...      ...              ...   \n",
              "16373  PDC World Championship Darts 2008      PSP              NaN   \n",
              "16405                      Freaky Flyers       GC              NaN   \n",
              "16448                          Inversion       PC              NaN   \n",
              "16458        Hakuouki: Shinsengumi Kitan      PS3              NaN   \n",
              "16522                       Virtua Quest       GC              NaN   \n",
              "\n",
              "              genre  na_sales  eu_sales  jp_sales  other_sales  critic_score  \\\n",
              "183          Sports      4.26      0.26      0.01         0.71          94.0   \n",
              "377          Sports      0.59      2.36      0.04         0.51          84.0   \n",
              "456          Action      1.80      0.97      0.00         0.29          74.0   \n",
              "475        Fighting      1.57      1.02      0.00         0.41           NaN   \n",
              "609         Shooter      2.36      0.14      0.00         0.03           NaN   \n",
              "...             ...       ...       ...       ...          ...           ...   \n",
              "16373        Sports      0.01      0.00      0.00         0.00          43.0   \n",
              "16405        Racing      0.01      0.00      0.00         0.00          69.0   \n",
              "16448       Shooter      0.01      0.00      0.00         0.00          59.0   \n",
              "16458     Adventure      0.01      0.00      0.00         0.00           NaN   \n",
              "16522  Role-Playing      0.01      0.00      0.00         0.00          55.0   \n",
              "\n",
              "      user_score rating  \n",
              "183          8.5      E  \n",
              "377          6.4      E  \n",
              "456          7.9   E10+  \n",
              "475          NaN    NaN  \n",
              "609          NaN    NaN  \n",
              "...          ...    ...  \n",
              "16373        tbd   E10+  \n",
              "16405        6.5      T  \n",
              "16448        6.7      M  \n",
              "16458        NaN    NaN  \n",
              "16522        5.5      T  \n",
              "\n",
              "[269 rows x 11 columns]"
            ]
          },
          "execution_count": 19,
          "metadata": {},
          "output_type": "execute_result"
        }
      ],
      "source": [
        "games_df[games_df['year_of_release'].isnull()]"
      ]
    },
    {
      "cell_type": "code",
      "execution_count": null,
      "metadata": {
        "id": "pTuS6EwGR2pe"
      },
      "outputs": [],
      "source": [
        "games_df['year_of_release'] = games_df['year_of_release'].fillna(0).astype('int')"
      ]
    },
    {
      "cell_type": "code",
      "execution_count": null,
      "metadata": {
        "id": "01tMR4kaR2pe",
        "outputId": "dcefb4f6-2599-4e7f-a36a-a99b36818bca"
      },
      "outputs": [
        {
          "data": {
            "text/html": [
              "<div>\n",
              "<style scoped>\n",
              "    .dataframe tbody tr th:only-of-type {\n",
              "        vertical-align: middle;\n",
              "    }\n",
              "\n",
              "    .dataframe tbody tr th {\n",
              "        vertical-align: top;\n",
              "    }\n",
              "\n",
              "    .dataframe thead th {\n",
              "        text-align: right;\n",
              "    }\n",
              "</style>\n",
              "<table border=\"1\" class=\"dataframe\">\n",
              "  <thead>\n",
              "    <tr style=\"text-align: right;\">\n",
              "      <th></th>\n",
              "      <th>name</th>\n",
              "      <th>platform</th>\n",
              "      <th>year_of_release</th>\n",
              "      <th>genre</th>\n",
              "      <th>na_sales</th>\n",
              "      <th>eu_sales</th>\n",
              "      <th>jp_sales</th>\n",
              "      <th>other_sales</th>\n",
              "      <th>critic_score</th>\n",
              "      <th>user_score</th>\n",
              "      <th>rating</th>\n",
              "    </tr>\n",
              "  </thead>\n",
              "  <tbody>\n",
              "  </tbody>\n",
              "</table>\n",
              "</div>"
            ],
            "text/plain": [
              "Empty DataFrame\n",
              "Columns: [name, platform, year_of_release, genre, na_sales, eu_sales, jp_sales, other_sales, critic_score, user_score, rating]\n",
              "Index: []"
            ]
          },
          "execution_count": 21,
          "metadata": {},
          "output_type": "execute_result"
        }
      ],
      "source": [
        "games_df[games_df['year_of_release'].isnull()]"
      ]
    },
    {
      "cell_type": "code",
      "execution_count": null,
      "metadata": {
        "id": "VyQfdKWgR2pf",
        "outputId": "9d351625-6e44-4c99-b1f5-13b929278765"
      },
      "outputs": [
        {
          "data": {
            "text/html": [
              "<div>\n",
              "<style scoped>\n",
              "    .dataframe tbody tr th:only-of-type {\n",
              "        vertical-align: middle;\n",
              "    }\n",
              "\n",
              "    .dataframe tbody tr th {\n",
              "        vertical-align: top;\n",
              "    }\n",
              "\n",
              "    .dataframe thead th {\n",
              "        text-align: right;\n",
              "    }\n",
              "</style>\n",
              "<table border=\"1\" class=\"dataframe\">\n",
              "  <thead>\n",
              "    <tr style=\"text-align: right;\">\n",
              "      <th></th>\n",
              "      <th>name</th>\n",
              "      <th>platform</th>\n",
              "      <th>year_of_release</th>\n",
              "      <th>genre</th>\n",
              "      <th>na_sales</th>\n",
              "      <th>eu_sales</th>\n",
              "      <th>jp_sales</th>\n",
              "      <th>other_sales</th>\n",
              "      <th>critic_score</th>\n",
              "      <th>user_score</th>\n",
              "      <th>rating</th>\n",
              "    </tr>\n",
              "  </thead>\n",
              "  <tbody>\n",
              "    <tr>\n",
              "      <th>183</th>\n",
              "      <td>Madden NFL 2004</td>\n",
              "      <td>PS2</td>\n",
              "      <td>0</td>\n",
              "      <td>Sports</td>\n",
              "      <td>4.26</td>\n",
              "      <td>0.26</td>\n",
              "      <td>0.01</td>\n",
              "      <td>0.71</td>\n",
              "      <td>94.0</td>\n",
              "      <td>8.5</td>\n",
              "      <td>E</td>\n",
              "    </tr>\n",
              "    <tr>\n",
              "      <th>377</th>\n",
              "      <td>FIFA Soccer 2004</td>\n",
              "      <td>PS2</td>\n",
              "      <td>0</td>\n",
              "      <td>Sports</td>\n",
              "      <td>0.59</td>\n",
              "      <td>2.36</td>\n",
              "      <td>0.04</td>\n",
              "      <td>0.51</td>\n",
              "      <td>84.0</td>\n",
              "      <td>6.4</td>\n",
              "      <td>E</td>\n",
              "    </tr>\n",
              "    <tr>\n",
              "      <th>456</th>\n",
              "      <td>LEGO Batman: The Videogame</td>\n",
              "      <td>Wii</td>\n",
              "      <td>0</td>\n",
              "      <td>Action</td>\n",
              "      <td>1.80</td>\n",
              "      <td>0.97</td>\n",
              "      <td>0.00</td>\n",
              "      <td>0.29</td>\n",
              "      <td>74.0</td>\n",
              "      <td>7.9</td>\n",
              "      <td>E10+</td>\n",
              "    </tr>\n",
              "    <tr>\n",
              "      <th>475</th>\n",
              "      <td>wwe Smackdown vs. Raw 2006</td>\n",
              "      <td>PS2</td>\n",
              "      <td>0</td>\n",
              "      <td>Fighting</td>\n",
              "      <td>1.57</td>\n",
              "      <td>1.02</td>\n",
              "      <td>0.00</td>\n",
              "      <td>0.41</td>\n",
              "      <td>NaN</td>\n",
              "      <td>NaN</td>\n",
              "      <td>NaN</td>\n",
              "    </tr>\n",
              "    <tr>\n",
              "      <th>609</th>\n",
              "      <td>Space Invaders</td>\n",
              "      <td>2600</td>\n",
              "      <td>0</td>\n",
              "      <td>Shooter</td>\n",
              "      <td>2.36</td>\n",
              "      <td>0.14</td>\n",
              "      <td>0.00</td>\n",
              "      <td>0.03</td>\n",
              "      <td>NaN</td>\n",
              "      <td>NaN</td>\n",
              "      <td>NaN</td>\n",
              "    </tr>\n",
              "    <tr>\n",
              "      <th>...</th>\n",
              "      <td>...</td>\n",
              "      <td>...</td>\n",
              "      <td>...</td>\n",
              "      <td>...</td>\n",
              "      <td>...</td>\n",
              "      <td>...</td>\n",
              "      <td>...</td>\n",
              "      <td>...</td>\n",
              "      <td>...</td>\n",
              "      <td>...</td>\n",
              "      <td>...</td>\n",
              "    </tr>\n",
              "    <tr>\n",
              "      <th>16373</th>\n",
              "      <td>PDC World Championship Darts 2008</td>\n",
              "      <td>PSP</td>\n",
              "      <td>0</td>\n",
              "      <td>Sports</td>\n",
              "      <td>0.01</td>\n",
              "      <td>0.00</td>\n",
              "      <td>0.00</td>\n",
              "      <td>0.00</td>\n",
              "      <td>43.0</td>\n",
              "      <td>tbd</td>\n",
              "      <td>E10+</td>\n",
              "    </tr>\n",
              "    <tr>\n",
              "      <th>16405</th>\n",
              "      <td>Freaky Flyers</td>\n",
              "      <td>GC</td>\n",
              "      <td>0</td>\n",
              "      <td>Racing</td>\n",
              "      <td>0.01</td>\n",
              "      <td>0.00</td>\n",
              "      <td>0.00</td>\n",
              "      <td>0.00</td>\n",
              "      <td>69.0</td>\n",
              "      <td>6.5</td>\n",
              "      <td>T</td>\n",
              "    </tr>\n",
              "    <tr>\n",
              "      <th>16448</th>\n",
              "      <td>Inversion</td>\n",
              "      <td>PC</td>\n",
              "      <td>0</td>\n",
              "      <td>Shooter</td>\n",
              "      <td>0.01</td>\n",
              "      <td>0.00</td>\n",
              "      <td>0.00</td>\n",
              "      <td>0.00</td>\n",
              "      <td>59.0</td>\n",
              "      <td>6.7</td>\n",
              "      <td>M</td>\n",
              "    </tr>\n",
              "    <tr>\n",
              "      <th>16458</th>\n",
              "      <td>Hakuouki: Shinsengumi Kitan</td>\n",
              "      <td>PS3</td>\n",
              "      <td>0</td>\n",
              "      <td>Adventure</td>\n",
              "      <td>0.01</td>\n",
              "      <td>0.00</td>\n",
              "      <td>0.00</td>\n",
              "      <td>0.00</td>\n",
              "      <td>NaN</td>\n",
              "      <td>NaN</td>\n",
              "      <td>NaN</td>\n",
              "    </tr>\n",
              "    <tr>\n",
              "      <th>16522</th>\n",
              "      <td>Virtua Quest</td>\n",
              "      <td>GC</td>\n",
              "      <td>0</td>\n",
              "      <td>Role-Playing</td>\n",
              "      <td>0.01</td>\n",
              "      <td>0.00</td>\n",
              "      <td>0.00</td>\n",
              "      <td>0.00</td>\n",
              "      <td>55.0</td>\n",
              "      <td>5.5</td>\n",
              "      <td>T</td>\n",
              "    </tr>\n",
              "  </tbody>\n",
              "</table>\n",
              "<p>269 rows × 11 columns</p>\n",
              "</div>"
            ],
            "text/plain": [
              "                                    name platform  year_of_release  \\\n",
              "183                      Madden NFL 2004      PS2                0   \n",
              "377                     FIFA Soccer 2004      PS2                0   \n",
              "456           LEGO Batman: The Videogame      Wii                0   \n",
              "475           wwe Smackdown vs. Raw 2006      PS2                0   \n",
              "609                       Space Invaders     2600                0   \n",
              "...                                  ...      ...              ...   \n",
              "16373  PDC World Championship Darts 2008      PSP                0   \n",
              "16405                      Freaky Flyers       GC                0   \n",
              "16448                          Inversion       PC                0   \n",
              "16458        Hakuouki: Shinsengumi Kitan      PS3                0   \n",
              "16522                       Virtua Quest       GC                0   \n",
              "\n",
              "              genre  na_sales  eu_sales  jp_sales  other_sales  critic_score  \\\n",
              "183          Sports      4.26      0.26      0.01         0.71          94.0   \n",
              "377          Sports      0.59      2.36      0.04         0.51          84.0   \n",
              "456          Action      1.80      0.97      0.00         0.29          74.0   \n",
              "475        Fighting      1.57      1.02      0.00         0.41           NaN   \n",
              "609         Shooter      2.36      0.14      0.00         0.03           NaN   \n",
              "...             ...       ...       ...       ...          ...           ...   \n",
              "16373        Sports      0.01      0.00      0.00         0.00          43.0   \n",
              "16405        Racing      0.01      0.00      0.00         0.00          69.0   \n",
              "16448       Shooter      0.01      0.00      0.00         0.00          59.0   \n",
              "16458     Adventure      0.01      0.00      0.00         0.00           NaN   \n",
              "16522  Role-Playing      0.01      0.00      0.00         0.00          55.0   \n",
              "\n",
              "      user_score rating  \n",
              "183          8.5      E  \n",
              "377          6.4      E  \n",
              "456          7.9   E10+  \n",
              "475          NaN    NaN  \n",
              "609          NaN    NaN  \n",
              "...          ...    ...  \n",
              "16373        tbd   E10+  \n",
              "16405        6.5      T  \n",
              "16448        6.7      M  \n",
              "16458        NaN    NaN  \n",
              "16522        5.5      T  \n",
              "\n",
              "[269 rows x 11 columns]"
            ]
          },
          "execution_count": 22,
          "metadata": {},
          "output_type": "execute_result"
        }
      ],
      "source": [
        "games_df[games_df['year_of_release'] == 0]"
      ]
    },
    {
      "cell_type": "markdown",
      "metadata": {
        "id": "ZqZHwrVjR2pf"
      },
      "source": [
        "#### Estudio valores faltantes `critic_score` y `user_score`"
      ]
    },
    {
      "cell_type": "code",
      "execution_count": null,
      "metadata": {
        "id": "ouZ64IJPR2pf",
        "outputId": "c2243fcf-ccb6-4ae2-96d9-af463c4218eb"
      },
      "outputs": [
        {
          "data": {
            "text/plain": [
              "(16715, 11)"
            ]
          },
          "execution_count": 23,
          "metadata": {},
          "output_type": "execute_result"
        }
      ],
      "source": [
        "games_df.shape"
      ]
    },
    {
      "cell_type": "markdown",
      "metadata": {
        "id": "qk2gu5zWR2pg"
      },
      "source": [
        "10% de 16715 = 1671,5 _datos_"
      ]
    },
    {
      "cell_type": "code",
      "execution_count": null,
      "metadata": {
        "id": "8-rwc-LsR2pg",
        "outputId": "9af11112-1196-4bd4-8d56-ca5ae765927b"
      },
      "outputs": [
        {
          "data": {
            "text/plain": [
              "6701"
            ]
          },
          "execution_count": 24,
          "metadata": {},
          "output_type": "execute_result"
        }
      ],
      "source": [
        "# verificamos cuantos valores nulos hay\n",
        "games_df['user_score'].isnull().sum()"
      ]
    },
    {
      "cell_type": "code",
      "execution_count": null,
      "metadata": {
        "id": "ytLE814iR2pg",
        "outputId": "d95746df-23db-4e4c-8123-527f4855c74e"
      },
      "outputs": [
        {
          "data": {
            "text/plain": [
              "8578"
            ]
          },
          "execution_count": 25,
          "metadata": {},
          "output_type": "execute_result"
        }
      ],
      "source": [
        "games_df['critic_score'].isnull().sum()"
      ]
    },
    {
      "cell_type": "markdown",
      "metadata": {
        "id": "V4Hv5te-R2pg"
      },
      "source": [
        "Cambio de tipo de dato: tdb -> np.nan"
      ]
    },
    {
      "cell_type": "code",
      "execution_count": null,
      "metadata": {
        "id": "pAcJ2-SHR2ph",
        "outputId": "a425f28b-c553-4014-afa4-82573cce263f"
      },
      "outputs": [
        {
          "data": {
            "text/html": [
              "<div>\n",
              "<style scoped>\n",
              "    .dataframe tbody tr th:only-of-type {\n",
              "        vertical-align: middle;\n",
              "    }\n",
              "\n",
              "    .dataframe tbody tr th {\n",
              "        vertical-align: top;\n",
              "    }\n",
              "\n",
              "    .dataframe thead th {\n",
              "        text-align: right;\n",
              "    }\n",
              "</style>\n",
              "<table border=\"1\" class=\"dataframe\">\n",
              "  <thead>\n",
              "    <tr style=\"text-align: right;\">\n",
              "      <th></th>\n",
              "      <th>name</th>\n",
              "      <th>platform</th>\n",
              "      <th>year_of_release</th>\n",
              "      <th>genre</th>\n",
              "      <th>na_sales</th>\n",
              "      <th>eu_sales</th>\n",
              "      <th>jp_sales</th>\n",
              "      <th>other_sales</th>\n",
              "      <th>critic_score</th>\n",
              "      <th>user_score</th>\n",
              "      <th>rating</th>\n",
              "    </tr>\n",
              "  </thead>\n",
              "  <tbody>\n",
              "    <tr>\n",
              "      <th>119</th>\n",
              "      <td>Zumba Fitness</td>\n",
              "      <td>Wii</td>\n",
              "      <td>2010</td>\n",
              "      <td>Sports</td>\n",
              "      <td>3.45</td>\n",
              "      <td>2.59</td>\n",
              "      <td>0.0</td>\n",
              "      <td>0.66</td>\n",
              "      <td>NaN</td>\n",
              "      <td>tbd</td>\n",
              "      <td>E</td>\n",
              "    </tr>\n",
              "    <tr>\n",
              "      <th>301</th>\n",
              "      <td>Namco Museum: 50th Anniversary</td>\n",
              "      <td>PS2</td>\n",
              "      <td>2005</td>\n",
              "      <td>Misc</td>\n",
              "      <td>2.08</td>\n",
              "      <td>1.35</td>\n",
              "      <td>0.0</td>\n",
              "      <td>0.54</td>\n",
              "      <td>61.0</td>\n",
              "      <td>tbd</td>\n",
              "      <td>E10+</td>\n",
              "    </tr>\n",
              "    <tr>\n",
              "      <th>520</th>\n",
              "      <td>Zumba Fitness 2</td>\n",
              "      <td>Wii</td>\n",
              "      <td>2011</td>\n",
              "      <td>Sports</td>\n",
              "      <td>1.51</td>\n",
              "      <td>1.03</td>\n",
              "      <td>0.0</td>\n",
              "      <td>0.27</td>\n",
              "      <td>NaN</td>\n",
              "      <td>tbd</td>\n",
              "      <td>T</td>\n",
              "    </tr>\n",
              "    <tr>\n",
              "      <th>645</th>\n",
              "      <td>uDraw Studio</td>\n",
              "      <td>Wii</td>\n",
              "      <td>2010</td>\n",
              "      <td>Misc</td>\n",
              "      <td>1.65</td>\n",
              "      <td>0.57</td>\n",
              "      <td>0.0</td>\n",
              "      <td>0.20</td>\n",
              "      <td>71.0</td>\n",
              "      <td>tbd</td>\n",
              "      <td>E</td>\n",
              "    </tr>\n",
              "    <tr>\n",
              "      <th>657</th>\n",
              "      <td>Frogger's Adventures: Temple of the Frog</td>\n",
              "      <td>GBA</td>\n",
              "      <td>0</td>\n",
              "      <td>Adventure</td>\n",
              "      <td>2.15</td>\n",
              "      <td>0.18</td>\n",
              "      <td>0.0</td>\n",
              "      <td>0.07</td>\n",
              "      <td>73.0</td>\n",
              "      <td>tbd</td>\n",
              "      <td>E</td>\n",
              "    </tr>\n",
              "    <tr>\n",
              "      <th>...</th>\n",
              "      <td>...</td>\n",
              "      <td>...</td>\n",
              "      <td>...</td>\n",
              "      <td>...</td>\n",
              "      <td>...</td>\n",
              "      <td>...</td>\n",
              "      <td>...</td>\n",
              "      <td>...</td>\n",
              "      <td>...</td>\n",
              "      <td>...</td>\n",
              "      <td>...</td>\n",
              "    </tr>\n",
              "    <tr>\n",
              "      <th>16695</th>\n",
              "      <td>Planet Monsters</td>\n",
              "      <td>GBA</td>\n",
              "      <td>2001</td>\n",
              "      <td>Action</td>\n",
              "      <td>0.01</td>\n",
              "      <td>0.00</td>\n",
              "      <td>0.0</td>\n",
              "      <td>0.00</td>\n",
              "      <td>67.0</td>\n",
              "      <td>tbd</td>\n",
              "      <td>E</td>\n",
              "    </tr>\n",
              "    <tr>\n",
              "      <th>16697</th>\n",
              "      <td>Bust-A-Move 3000</td>\n",
              "      <td>GC</td>\n",
              "      <td>2003</td>\n",
              "      <td>Puzzle</td>\n",
              "      <td>0.01</td>\n",
              "      <td>0.00</td>\n",
              "      <td>0.0</td>\n",
              "      <td>0.00</td>\n",
              "      <td>53.0</td>\n",
              "      <td>tbd</td>\n",
              "      <td>E</td>\n",
              "    </tr>\n",
              "    <tr>\n",
              "      <th>16698</th>\n",
              "      <td>Mega Brain Boost</td>\n",
              "      <td>DS</td>\n",
              "      <td>2008</td>\n",
              "      <td>Puzzle</td>\n",
              "      <td>0.01</td>\n",
              "      <td>0.00</td>\n",
              "      <td>0.0</td>\n",
              "      <td>0.00</td>\n",
              "      <td>48.0</td>\n",
              "      <td>tbd</td>\n",
              "      <td>E</td>\n",
              "    </tr>\n",
              "    <tr>\n",
              "      <th>16704</th>\n",
              "      <td>Plushees</td>\n",
              "      <td>DS</td>\n",
              "      <td>2008</td>\n",
              "      <td>Simulation</td>\n",
              "      <td>0.01</td>\n",
              "      <td>0.00</td>\n",
              "      <td>0.0</td>\n",
              "      <td>0.00</td>\n",
              "      <td>NaN</td>\n",
              "      <td>tbd</td>\n",
              "      <td>E</td>\n",
              "    </tr>\n",
              "    <tr>\n",
              "      <th>16706</th>\n",
              "      <td>Men in Black II: Alien Escape</td>\n",
              "      <td>GC</td>\n",
              "      <td>2003</td>\n",
              "      <td>Shooter</td>\n",
              "      <td>0.01</td>\n",
              "      <td>0.00</td>\n",
              "      <td>0.0</td>\n",
              "      <td>0.00</td>\n",
              "      <td>NaN</td>\n",
              "      <td>tbd</td>\n",
              "      <td>T</td>\n",
              "    </tr>\n",
              "  </tbody>\n",
              "</table>\n",
              "<p>2424 rows × 11 columns</p>\n",
              "</div>"
            ],
            "text/plain": [
              "                                           name platform  year_of_release  \\\n",
              "119                               Zumba Fitness      Wii             2010   \n",
              "301              Namco Museum: 50th Anniversary      PS2             2005   \n",
              "520                             Zumba Fitness 2      Wii             2011   \n",
              "645                                uDraw Studio      Wii             2010   \n",
              "657    Frogger's Adventures: Temple of the Frog      GBA                0   \n",
              "...                                         ...      ...              ...   \n",
              "16695                           Planet Monsters      GBA             2001   \n",
              "16697                          Bust-A-Move 3000       GC             2003   \n",
              "16698                          Mega Brain Boost       DS             2008   \n",
              "16704                                  Plushees       DS             2008   \n",
              "16706             Men in Black II: Alien Escape       GC             2003   \n",
              "\n",
              "            genre  na_sales  eu_sales  jp_sales  other_sales  critic_score  \\\n",
              "119        Sports      3.45      2.59       0.0         0.66           NaN   \n",
              "301          Misc      2.08      1.35       0.0         0.54          61.0   \n",
              "520        Sports      1.51      1.03       0.0         0.27           NaN   \n",
              "645          Misc      1.65      0.57       0.0         0.20          71.0   \n",
              "657     Adventure      2.15      0.18       0.0         0.07          73.0   \n",
              "...           ...       ...       ...       ...          ...           ...   \n",
              "16695      Action      0.01      0.00       0.0         0.00          67.0   \n",
              "16697      Puzzle      0.01      0.00       0.0         0.00          53.0   \n",
              "16698      Puzzle      0.01      0.00       0.0         0.00          48.0   \n",
              "16704  Simulation      0.01      0.00       0.0         0.00           NaN   \n",
              "16706     Shooter      0.01      0.00       0.0         0.00           NaN   \n",
              "\n",
              "      user_score rating  \n",
              "119          tbd      E  \n",
              "301          tbd   E10+  \n",
              "520          tbd      T  \n",
              "645          tbd      E  \n",
              "657          tbd      E  \n",
              "...          ...    ...  \n",
              "16695        tbd      E  \n",
              "16697        tbd      E  \n",
              "16698        tbd      E  \n",
              "16704        tbd      E  \n",
              "16706        tbd      T  \n",
              "\n",
              "[2424 rows x 11 columns]"
            ]
          },
          "execution_count": 26,
          "metadata": {},
          "output_type": "execute_result"
        }
      ],
      "source": [
        "games_df.query('user_score == \"tbd\"')"
      ]
    },
    {
      "cell_type": "code",
      "execution_count": null,
      "metadata": {
        "id": "h-Mv3sb6R2ph"
      },
      "outputs": [],
      "source": [
        "games_df.loc[games_df['user_score'] == 'tbd', 'user_score'] = np.nan"
      ]
    },
    {
      "cell_type": "code",
      "execution_count": null,
      "metadata": {
        "id": "SygxIvZwR2ph",
        "outputId": "75c3f983-e224-4e97-837e-5431e01ed790"
      },
      "outputs": [
        {
          "data": {
            "text/plain": [
              "0          8\n",
              "1        NaN\n",
              "2        8.3\n",
              "3          8\n",
              "4        NaN\n",
              "        ... \n",
              "16710    NaN\n",
              "16711    NaN\n",
              "16712    NaN\n",
              "16713    NaN\n",
              "16714    NaN\n",
              "Name: user_score, Length: 16715, dtype: object"
            ]
          },
          "execution_count": 28,
          "metadata": {},
          "output_type": "execute_result"
        }
      ],
      "source": [
        "games_df['user_score']"
      ]
    },
    {
      "cell_type": "code",
      "execution_count": null,
      "metadata": {
        "id": "62z63ksZR2pi"
      },
      "outputs": [],
      "source": [
        "games_df['user_score'] = games_df['user_score'].astype('float')"
      ]
    },
    {
      "cell_type": "code",
      "execution_count": null,
      "metadata": {
        "id": "i6SshEEZR2pi",
        "outputId": "6e7fff8a-07e5-4994-a791-d69605e555ae"
      },
      "outputs": [
        {
          "name": "stdout",
          "output_type": "stream",
          "text": [
            "<class 'pandas.core.frame.DataFrame'>\n",
            "RangeIndex: 16715 entries, 0 to 16714\n",
            "Data columns (total 11 columns):\n",
            " #   Column           Non-Null Count  Dtype  \n",
            "---  ------           --------------  -----  \n",
            " 0   name             16715 non-null  object \n",
            " 1   platform         16715 non-null  object \n",
            " 2   year_of_release  16715 non-null  int64  \n",
            " 3   genre            16715 non-null  object \n",
            " 4   na_sales         16715 non-null  float64\n",
            " 5   eu_sales         16715 non-null  float64\n",
            " 6   jp_sales         16715 non-null  float64\n",
            " 7   other_sales      16715 non-null  float64\n",
            " 8   critic_score     8137 non-null   float64\n",
            " 9   user_score       7590 non-null   float64\n",
            " 10  rating           9949 non-null   object \n",
            "dtypes: float64(6), int64(1), object(4)\n",
            "memory usage: 1.4+ MB\n"
          ]
        }
      ],
      "source": [
        "games_df.info()"
      ]
    },
    {
      "cell_type": "markdown",
      "metadata": {
        "id": "ujk9y-jwR2pi"
      },
      "source": [
        "**Gráficos para realizar en análisis de valores atípicos**"
      ]
    },
    {
      "cell_type": "code",
      "execution_count": null,
      "metadata": {
        "id": "OJda71myR2pi",
        "outputId": "2dd9098b-cb01-4d84-902c-0f13f3de6850"
      },
      "outputs": [
        {
          "data": {
            "image/png": "[encoded data removed]",
            "text/plain": [
              "<Figure size 640x480 with 1 Axes>"
            ]
          },
          "metadata": {},
          "output_type": "display_data"
        },
        {
          "data": {
            "image/png": "[encoded data removed]",
            "text/plain": [
              "<Figure size 640x480 with 1 Axes>"
            ]
          },
          "metadata": {},
          "output_type": "display_data"
        }
      ],
      "source": [
        "# calificaciones de los críticos\n",
        "sns.histplot(data=games_df,\n",
        "             x='critic_score',\n",
        "             bins=20\n",
        "            )\n",
        "\n",
        "plt.title(\"Distribution of critics' scores\")\n",
        "plt.xlabel('score')\n",
        "plt.ylabel('Frequency')\n",
        "plt.show()\n",
        "\n",
        "# calificaciones de los usuarios\n",
        "sns.histplot(data=games_df,\n",
        "             x='user_score',\n",
        "             bins=20,\n",
        "             color='orange'\n",
        "            )\n",
        "\n",
        "plt.title(\"Distribution of users' scores\")\n",
        "plt.xlabel('score')\n",
        "plt.ylabel('Frequency')\n",
        "plt.show()"
      ]
    },
    {
      "cell_type": "code",
      "execution_count": null,
      "metadata": {
        "id": "VtuFonPrR2pj",
        "outputId": "73c5521e-4196-44dd-fcf1-9fd859c45245"
      },
      "outputs": [
        {
          "data": {
            "image/png": "[encoded data removed]",
            "text/plain": [
              "<Figure size 640x480 with 1 Axes>"
            ]
          },
          "metadata": {},
          "output_type": "display_data"
        },
        {
          "data": {
            "image/png": "[encoded data removed]",
            "text/plain": [
              "<Figure size 640x480 with 1 Axes>"
            ]
          },
          "metadata": {},
          "output_type": "display_data"
        }
      ],
      "source": [
        "# calificaciones de los críticos\n",
        "sns.boxplot(x='critic_score',\n",
        "            data=games_df\n",
        "           )\n",
        "plt.title(\"Critics' Score\")\n",
        "plt.show()\n",
        "\n",
        "# calificaciones de los usuarios\n",
        "sns.boxplot(x='user_score',\n",
        "            data=games_df,\n",
        "            color='orange'\n",
        "           )\n",
        "plt.title(\"Users' score\")\n",
        "plt.show()"
      ]
    },
    {
      "cell_type": "markdown",
      "metadata": {
        "id": "kdRCRrz0R2pj"
      },
      "source": [
        "**Interpretación**:\n",
        "- Un sesgo a la izquierda sugiere que, en general, los juegos en tu conjunto de datos son bien recibidos tanto por los críticos como por los usuarios.\n",
        "- Los outliers indican que existe una gran variabilidad en las opiniones sobre ciertos juegos.\n",
        "- La presencia de muchos outliers podría sugerir que hay factores externos que están influyendo en las calificaciones, como la popularidad de una franquicia o la plataforma en la que se lanzó el juego.\n",
        "\n",
        "**Justificación para imputar los valores nulos de `critic_score` y `user_score` con la mediana**\n",
        "\n",
        "Dado que los histogramas y boxplots de las columnas critic_score y user_score muestran una clara distribución sesgada hacia la izquierda y una cantidad significativa de valores atípicos, se ha decidido imputar los valores nulos con la mediana. La mediana, al ser una medida de tendencia central resistente a los outliers, proporciona una estimación más representativa del centro de los datos en este caso. Esta elección permite preservar la forma general de la distribución y mitiga el impacto desproporcionado de los valores extremos en el análisis posterior."
      ]
    },
    {
      "cell_type": "markdown",
      "metadata": {
        "id": "KDIDqa3MR2pj"
      },
      "source": [
        "#### `critic_score`"
      ]
    },
    {
      "cell_type": "code",
      "execution_count": null,
      "metadata": {
        "id": "xsPSKve9R2pk"
      },
      "outputs": [],
      "source": [
        "games_df['critic_score'].fillna(games_df['critic_score'].median(), inplace=True)"
      ]
    },
    {
      "cell_type": "markdown",
      "metadata": {
        "id": "L4f748QyR2pk"
      },
      "source": [
        "#### `user_score`"
      ]
    },
    {
      "cell_type": "code",
      "execution_count": null,
      "metadata": {
        "id": "91tu7KxpR2pk"
      },
      "outputs": [],
      "source": [
        "games_df['user_score'].fillna(games_df['user_score'].median(), inplace=True)"
      ]
    },
    {
      "cell_type": "markdown",
      "metadata": {
        "id": "FjHJOzs4R2pl"
      },
      "source": [
        "#### `rating`\n",
        "Rellené los valores NaN esta columna por el valor unknown por dos razones:\n",
        "1. Para que personas fuera del campo puedan entender el conjunto de datos de una mejor manera. A demás de eso, es una variable categórica, así que no modifica mucho al dataset agregar esto.\n",
        "2. Si lo rellenamos con otro tipo de rating, estamos asegurando algo que no puede ser cierto.\n",
        "3. La columna tiene como tipo de datos `object`, así que es compatible."
      ]
    },
    {
      "cell_type": "code",
      "execution_count": null,
      "metadata": {
        "id": "mFf9SiYOR2pl",
        "outputId": "3fc70d2d-a21f-44e3-c195-dac9ede78dca"
      },
      "outputs": [
        {
          "data": {
            "text/plain": [
              "array(['E', nan, 'M', 'T', 'E10+', 'K-A', 'AO', 'EC', 'RP'], dtype=object)"
            ]
          },
          "execution_count": 35,
          "metadata": {},
          "output_type": "execute_result"
        }
      ],
      "source": [
        "games_df['rating'].unique()"
      ]
    },
    {
      "cell_type": "code",
      "execution_count": null,
      "metadata": {
        "id": "PYjY1c_1R2pl",
        "outputId": "ce925b56-942d-4204-84ff-9d556a85661a"
      },
      "outputs": [
        {
          "data": {
            "text/html": [
              "<div>\n",
              "<style scoped>\n",
              "    .dataframe tbody tr th:only-of-type {\n",
              "        vertical-align: middle;\n",
              "    }\n",
              "\n",
              "    .dataframe tbody tr th {\n",
              "        vertical-align: top;\n",
              "    }\n",
              "\n",
              "    .dataframe thead th {\n",
              "        text-align: right;\n",
              "    }\n",
              "</style>\n",
              "<table border=\"1\" class=\"dataframe\">\n",
              "  <thead>\n",
              "    <tr style=\"text-align: right;\">\n",
              "      <th></th>\n",
              "      <th>name</th>\n",
              "      <th>platform</th>\n",
              "      <th>year_of_release</th>\n",
              "      <th>genre</th>\n",
              "      <th>na_sales</th>\n",
              "      <th>eu_sales</th>\n",
              "      <th>jp_sales</th>\n",
              "      <th>other_sales</th>\n",
              "      <th>critic_score</th>\n",
              "      <th>user_score</th>\n",
              "      <th>rating</th>\n",
              "    </tr>\n",
              "  </thead>\n",
              "  <tbody>\n",
              "    <tr>\n",
              "      <th>1</th>\n",
              "      <td>Super Mario Bros.</td>\n",
              "      <td>NES</td>\n",
              "      <td>1985</td>\n",
              "      <td>Platform</td>\n",
              "      <td>29.08</td>\n",
              "      <td>3.58</td>\n",
              "      <td>6.81</td>\n",
              "      <td>0.77</td>\n",
              "      <td>71.0</td>\n",
              "      <td>7.5</td>\n",
              "      <td>NaN</td>\n",
              "    </tr>\n",
              "    <tr>\n",
              "      <th>4</th>\n",
              "      <td>Pokemon Red/Pokemon Blue</td>\n",
              "      <td>GB</td>\n",
              "      <td>1996</td>\n",
              "      <td>Role-Playing</td>\n",
              "      <td>11.27</td>\n",
              "      <td>8.89</td>\n",
              "      <td>10.22</td>\n",
              "      <td>1.00</td>\n",
              "      <td>71.0</td>\n",
              "      <td>7.5</td>\n",
              "      <td>NaN</td>\n",
              "    </tr>\n",
              "    <tr>\n",
              "      <th>5</th>\n",
              "      <td>Tetris</td>\n",
              "      <td>GB</td>\n",
              "      <td>1989</td>\n",
              "      <td>Puzzle</td>\n",
              "      <td>23.20</td>\n",
              "      <td>2.26</td>\n",
              "      <td>4.22</td>\n",
              "      <td>0.58</td>\n",
              "      <td>71.0</td>\n",
              "      <td>7.5</td>\n",
              "      <td>NaN</td>\n",
              "    </tr>\n",
              "    <tr>\n",
              "      <th>9</th>\n",
              "      <td>Duck Hunt</td>\n",
              "      <td>NES</td>\n",
              "      <td>1984</td>\n",
              "      <td>Shooter</td>\n",
              "      <td>26.93</td>\n",
              "      <td>0.63</td>\n",
              "      <td>0.28</td>\n",
              "      <td>0.47</td>\n",
              "      <td>71.0</td>\n",
              "      <td>7.5</td>\n",
              "      <td>NaN</td>\n",
              "    </tr>\n",
              "    <tr>\n",
              "      <th>10</th>\n",
              "      <td>Nintendogs</td>\n",
              "      <td>DS</td>\n",
              "      <td>2005</td>\n",
              "      <td>Simulation</td>\n",
              "      <td>9.05</td>\n",
              "      <td>10.95</td>\n",
              "      <td>1.93</td>\n",
              "      <td>2.74</td>\n",
              "      <td>71.0</td>\n",
              "      <td>7.5</td>\n",
              "      <td>NaN</td>\n",
              "    </tr>\n",
              "    <tr>\n",
              "      <th>...</th>\n",
              "      <td>...</td>\n",
              "      <td>...</td>\n",
              "      <td>...</td>\n",
              "      <td>...</td>\n",
              "      <td>...</td>\n",
              "      <td>...</td>\n",
              "      <td>...</td>\n",
              "      <td>...</td>\n",
              "      <td>...</td>\n",
              "      <td>...</td>\n",
              "      <td>...</td>\n",
              "    </tr>\n",
              "    <tr>\n",
              "      <th>16710</th>\n",
              "      <td>Samurai Warriors: Sanada Maru</td>\n",
              "      <td>PS3</td>\n",
              "      <td>2016</td>\n",
              "      <td>Action</td>\n",
              "      <td>0.00</td>\n",
              "      <td>0.00</td>\n",
              "      <td>0.01</td>\n",
              "      <td>0.00</td>\n",
              "      <td>71.0</td>\n",
              "      <td>7.5</td>\n",
              "      <td>NaN</td>\n",
              "    </tr>\n",
              "    <tr>\n",
              "      <th>16711</th>\n",
              "      <td>LMA Manager 2007</td>\n",
              "      <td>X360</td>\n",
              "      <td>2006</td>\n",
              "      <td>Sports</td>\n",
              "      <td>0.00</td>\n",
              "      <td>0.01</td>\n",
              "      <td>0.00</td>\n",
              "      <td>0.00</td>\n",
              "      <td>71.0</td>\n",
              "      <td>7.5</td>\n",
              "      <td>NaN</td>\n",
              "    </tr>\n",
              "    <tr>\n",
              "      <th>16712</th>\n",
              "      <td>Haitaka no Psychedelica</td>\n",
              "      <td>PSV</td>\n",
              "      <td>2016</td>\n",
              "      <td>Adventure</td>\n",
              "      <td>0.00</td>\n",
              "      <td>0.00</td>\n",
              "      <td>0.01</td>\n",
              "      <td>0.00</td>\n",
              "      <td>71.0</td>\n",
              "      <td>7.5</td>\n",
              "      <td>NaN</td>\n",
              "    </tr>\n",
              "    <tr>\n",
              "      <th>16713</th>\n",
              "      <td>Spirits &amp; Spells</td>\n",
              "      <td>GBA</td>\n",
              "      <td>2003</td>\n",
              "      <td>Platform</td>\n",
              "      <td>0.01</td>\n",
              "      <td>0.00</td>\n",
              "      <td>0.00</td>\n",
              "      <td>0.00</td>\n",
              "      <td>71.0</td>\n",
              "      <td>7.5</td>\n",
              "      <td>NaN</td>\n",
              "    </tr>\n",
              "    <tr>\n",
              "      <th>16714</th>\n",
              "      <td>Winning Post 8 2016</td>\n",
              "      <td>PSV</td>\n",
              "      <td>2016</td>\n",
              "      <td>Simulation</td>\n",
              "      <td>0.00</td>\n",
              "      <td>0.00</td>\n",
              "      <td>0.01</td>\n",
              "      <td>0.00</td>\n",
              "      <td>71.0</td>\n",
              "      <td>7.5</td>\n",
              "      <td>NaN</td>\n",
              "    </tr>\n",
              "  </tbody>\n",
              "</table>\n",
              "<p>6766 rows × 11 columns</p>\n",
              "</div>"
            ],
            "text/plain": [
              "                                name platform  year_of_release         genre  \\\n",
              "1                  Super Mario Bros.      NES             1985      Platform   \n",
              "4           Pokemon Red/Pokemon Blue       GB             1996  Role-Playing   \n",
              "5                             Tetris       GB             1989        Puzzle   \n",
              "9                          Duck Hunt      NES             1984       Shooter   \n",
              "10                        Nintendogs       DS             2005    Simulation   \n",
              "...                              ...      ...              ...           ...   \n",
              "16710  Samurai Warriors: Sanada Maru      PS3             2016        Action   \n",
              "16711               LMA Manager 2007     X360             2006        Sports   \n",
              "16712        Haitaka no Psychedelica      PSV             2016     Adventure   \n",
              "16713               Spirits & Spells      GBA             2003      Platform   \n",
              "16714            Winning Post 8 2016      PSV             2016    Simulation   \n",
              "\n",
              "       na_sales  eu_sales  jp_sales  other_sales  critic_score  user_score  \\\n",
              "1         29.08      3.58      6.81         0.77          71.0         7.5   \n",
              "4         11.27      8.89     10.22         1.00          71.0         7.5   \n",
              "5         23.20      2.26      4.22         0.58          71.0         7.5   \n",
              "9         26.93      0.63      0.28         0.47          71.0         7.5   \n",
              "10         9.05     10.95      1.93         2.74          71.0         7.5   \n",
              "...         ...       ...       ...          ...           ...         ...   \n",
              "16710      0.00      0.00      0.01         0.00          71.0         7.5   \n",
              "16711      0.00      0.01      0.00         0.00          71.0         7.5   \n",
              "16712      0.00      0.00      0.01         0.00          71.0         7.5   \n",
              "16713      0.01      0.00      0.00         0.00          71.0         7.5   \n",
              "16714      0.00      0.00      0.01         0.00          71.0         7.5   \n",
              "\n",
              "      rating  \n",
              "1        NaN  \n",
              "4        NaN  \n",
              "5        NaN  \n",
              "9        NaN  \n",
              "10       NaN  \n",
              "...      ...  \n",
              "16710    NaN  \n",
              "16711    NaN  \n",
              "16712    NaN  \n",
              "16713    NaN  \n",
              "16714    NaN  \n",
              "\n",
              "[6766 rows x 11 columns]"
            ]
          },
          "execution_count": 36,
          "metadata": {},
          "output_type": "execute_result"
        }
      ],
      "source": [
        "games_df[games_df['rating'].isnull()]"
      ]
    },
    {
      "cell_type": "code",
      "execution_count": null,
      "metadata": {
        "id": "vX5EgUCgR2pm"
      },
      "outputs": [],
      "source": [
        "games_df['rating'].fillna('unknown', inplace=True)"
      ]
    },
    {
      "cell_type": "code",
      "execution_count": null,
      "metadata": {
        "id": "P6tHgssER2pm",
        "outputId": "8cfdacc2-6cc8-4cfb-ad23-cd5bbaae4f95"
      },
      "outputs": [
        {
          "data": {
            "text/html": [
              "<div>\n",
              "<style scoped>\n",
              "    .dataframe tbody tr th:only-of-type {\n",
              "        vertical-align: middle;\n",
              "    }\n",
              "\n",
              "    .dataframe tbody tr th {\n",
              "        vertical-align: top;\n",
              "    }\n",
              "\n",
              "    .dataframe thead th {\n",
              "        text-align: right;\n",
              "    }\n",
              "</style>\n",
              "<table border=\"1\" class=\"dataframe\">\n",
              "  <thead>\n",
              "    <tr style=\"text-align: right;\">\n",
              "      <th></th>\n",
              "      <th>name</th>\n",
              "      <th>platform</th>\n",
              "      <th>year_of_release</th>\n",
              "      <th>genre</th>\n",
              "      <th>na_sales</th>\n",
              "      <th>eu_sales</th>\n",
              "      <th>jp_sales</th>\n",
              "      <th>other_sales</th>\n",
              "      <th>critic_score</th>\n",
              "      <th>user_score</th>\n",
              "      <th>rating</th>\n",
              "    </tr>\n",
              "  </thead>\n",
              "  <tbody>\n",
              "  </tbody>\n",
              "</table>\n",
              "</div>"
            ],
            "text/plain": [
              "Empty DataFrame\n",
              "Columns: [name, platform, year_of_release, genre, na_sales, eu_sales, jp_sales, other_sales, critic_score, user_score, rating]\n",
              "Index: []"
            ]
          },
          "execution_count": 38,
          "metadata": {},
          "output_type": "execute_result"
        }
      ],
      "source": [
        "games_df[games_df['rating'].isnull()]"
      ]
    },
    {
      "cell_type": "markdown",
      "metadata": {
        "id": "wAIB_LvlR2pm"
      },
      "source": [
        "---"
      ]
    },
    {
      "cell_type": "markdown",
      "metadata": {
        "id": "8Z5GSScIR2pm"
      },
      "source": [
        "### Resumen de la Limpieza de datos:\n",
        "- Convertimos los nombres de las columnas a minúsculas para evitar posibles errores de typo y facilitar al llamar las columnas.\n",
        "- Habían muchos datos con valores ausentes, se hizo el proceso de imputarlos con 0, otros (categóricos) con la palabra `unknown`, el resto no se les imputó ningún valor ya que en los valores donde no hay valor son caraterísicas únicas del videojuego, así que no me puedo dar la libertad de darle un valor que no lo es."
      ]
    },
    {
      "cell_type": "markdown",
      "metadata": {
        "id": "icpu-BKFR2pn"
      },
      "source": [
        "------"
      ]
    },
    {
      "cell_type": "markdown",
      "metadata": {
        "id": "EYBVJQeyR2pn"
      },
      "source": [
        "## Análisis"
      ]
    },
    {
      "cell_type": "markdown",
      "metadata": {
        "id": "B0TDrlhbR2pn"
      },
      "source": [
        "### Suma total ventas totales de `na_sales`, `eu_sales`, `jp_sales` y `other_sales`"
      ]
    },
    {
      "cell_type": "code",
      "execution_count": null,
      "metadata": {
        "id": "UC1VzgTGR2pn"
      },
      "outputs": [],
      "source": [
        "# creamos una columna para guardar las ventas totales por sales\n",
        "games_df['total_sales'] = games_df[['na_sales', 'eu_sales', 'jp_sales', 'other_sales']].sum(axis=1)"
      ]
    },
    {
      "cell_type": "code",
      "execution_count": null,
      "metadata": {
        "id": "_EoZ-kryR2pp",
        "outputId": "d8329554-bf57-4f77-cf4c-0edc877e124f"
      },
      "outputs": [
        {
          "data": {
            "text/html": [
              "<div>\n",
              "<style scoped>\n",
              "    .dataframe tbody tr th:only-of-type {\n",
              "        vertical-align: middle;\n",
              "    }\n",
              "\n",
              "    .dataframe tbody tr th {\n",
              "        vertical-align: top;\n",
              "    }\n",
              "\n",
              "    .dataframe thead th {\n",
              "        text-align: right;\n",
              "    }\n",
              "</style>\n",
              "<table border=\"1\" class=\"dataframe\">\n",
              "  <thead>\n",
              "    <tr style=\"text-align: right;\">\n",
              "      <th></th>\n",
              "      <th>name</th>\n",
              "      <th>platform</th>\n",
              "      <th>year_of_release</th>\n",
              "      <th>genre</th>\n",
              "      <th>na_sales</th>\n",
              "      <th>eu_sales</th>\n",
              "      <th>jp_sales</th>\n",
              "      <th>other_sales</th>\n",
              "      <th>critic_score</th>\n",
              "      <th>user_score</th>\n",
              "      <th>rating</th>\n",
              "      <th>total_sales</th>\n",
              "    </tr>\n",
              "  </thead>\n",
              "  <tbody>\n",
              "    <tr>\n",
              "      <th>0</th>\n",
              "      <td>Wii Sports</td>\n",
              "      <td>Wii</td>\n",
              "      <td>2006</td>\n",
              "      <td>Sports</td>\n",
              "      <td>41.36</td>\n",
              "      <td>28.96</td>\n",
              "      <td>3.77</td>\n",
              "      <td>8.45</td>\n",
              "      <td>76.0</td>\n",
              "      <td>8.0</td>\n",
              "      <td>E</td>\n",
              "      <td>82.54</td>\n",
              "    </tr>\n",
              "    <tr>\n",
              "      <th>1</th>\n",
              "      <td>Super Mario Bros.</td>\n",
              "      <td>NES</td>\n",
              "      <td>1985</td>\n",
              "      <td>Platform</td>\n",
              "      <td>29.08</td>\n",
              "      <td>3.58</td>\n",
              "      <td>6.81</td>\n",
              "      <td>0.77</td>\n",
              "      <td>71.0</td>\n",
              "      <td>7.5</td>\n",
              "      <td>unknown</td>\n",
              "      <td>40.24</td>\n",
              "    </tr>\n",
              "    <tr>\n",
              "      <th>2</th>\n",
              "      <td>Mario Kart Wii</td>\n",
              "      <td>Wii</td>\n",
              "      <td>2008</td>\n",
              "      <td>Racing</td>\n",
              "      <td>15.68</td>\n",
              "      <td>12.76</td>\n",
              "      <td>3.79</td>\n",
              "      <td>3.29</td>\n",
              "      <td>82.0</td>\n",
              "      <td>8.3</td>\n",
              "      <td>E</td>\n",
              "      <td>35.52</td>\n",
              "    </tr>\n",
              "    <tr>\n",
              "      <th>3</th>\n",
              "      <td>Wii Sports Resort</td>\n",
              "      <td>Wii</td>\n",
              "      <td>2009</td>\n",
              "      <td>Sports</td>\n",
              "      <td>15.61</td>\n",
              "      <td>10.93</td>\n",
              "      <td>3.28</td>\n",
              "      <td>2.95</td>\n",
              "      <td>80.0</td>\n",
              "      <td>8.0</td>\n",
              "      <td>E</td>\n",
              "      <td>32.77</td>\n",
              "    </tr>\n",
              "    <tr>\n",
              "      <th>4</th>\n",
              "      <td>Pokemon Red/Pokemon Blue</td>\n",
              "      <td>GB</td>\n",
              "      <td>1996</td>\n",
              "      <td>Role-Playing</td>\n",
              "      <td>11.27</td>\n",
              "      <td>8.89</td>\n",
              "      <td>10.22</td>\n",
              "      <td>1.00</td>\n",
              "      <td>71.0</td>\n",
              "      <td>7.5</td>\n",
              "      <td>unknown</td>\n",
              "      <td>31.38</td>\n",
              "    </tr>\n",
              "  </tbody>\n",
              "</table>\n",
              "</div>"
            ],
            "text/plain": [
              "                       name platform  year_of_release         genre  na_sales  \\\n",
              "0                Wii Sports      Wii             2006        Sports     41.36   \n",
              "1         Super Mario Bros.      NES             1985      Platform     29.08   \n",
              "2            Mario Kart Wii      Wii             2008        Racing     15.68   \n",
              "3         Wii Sports Resort      Wii             2009        Sports     15.61   \n",
              "4  Pokemon Red/Pokemon Blue       GB             1996  Role-Playing     11.27   \n",
              "\n",
              "   eu_sales  jp_sales  other_sales  critic_score  user_score   rating  \\\n",
              "0     28.96      3.77         8.45          76.0         8.0        E   \n",
              "1      3.58      6.81         0.77          71.0         7.5  unknown   \n",
              "2     12.76      3.79         3.29          82.0         8.3        E   \n",
              "3     10.93      3.28         2.95          80.0         8.0        E   \n",
              "4      8.89     10.22         1.00          71.0         7.5  unknown   \n",
              "\n",
              "   total_sales  \n",
              "0        82.54  \n",
              "1        40.24  \n",
              "2        35.52  \n",
              "3        32.77  \n",
              "4        31.38  "
            ]
          },
          "execution_count": 40,
          "metadata": {},
          "output_type": "execute_result"
        }
      ],
      "source": [
        "games_df.head()"
      ]
    },
    {
      "cell_type": "markdown",
      "metadata": {
        "id": "E1wPCHssR2pp"
      },
      "source": [
        "#### Los 5 juegos con mayores ventas"
      ]
    },
    {
      "cell_type": "code",
      "execution_count": null,
      "metadata": {
        "id": "Er209aUpR2pp"
      },
      "outputs": [],
      "source": [
        "top_selling_games = games_df.nlargest(5, ['total_sales'])"
      ]
    },
    {
      "cell_type": "code",
      "execution_count": null,
      "metadata": {
        "id": "x-TZDWbaR2pp",
        "outputId": "a289b992-f660-4b6a-db7a-3ef58e130834"
      },
      "outputs": [
        {
          "data": {
            "text/html": [
              "<div>\n",
              "<style scoped>\n",
              "    .dataframe tbody tr th:only-of-type {\n",
              "        vertical-align: middle;\n",
              "    }\n",
              "\n",
              "    .dataframe tbody tr th {\n",
              "        vertical-align: top;\n",
              "    }\n",
              "\n",
              "    .dataframe thead th {\n",
              "        text-align: right;\n",
              "    }\n",
              "</style>\n",
              "<table border=\"1\" class=\"dataframe\">\n",
              "  <thead>\n",
              "    <tr style=\"text-align: right;\">\n",
              "      <th></th>\n",
              "      <th>name</th>\n",
              "      <th>platform</th>\n",
              "      <th>year_of_release</th>\n",
              "      <th>genre</th>\n",
              "      <th>na_sales</th>\n",
              "      <th>eu_sales</th>\n",
              "      <th>jp_sales</th>\n",
              "      <th>other_sales</th>\n",
              "      <th>critic_score</th>\n",
              "      <th>user_score</th>\n",
              "      <th>rating</th>\n",
              "      <th>total_sales</th>\n",
              "    </tr>\n",
              "  </thead>\n",
              "  <tbody>\n",
              "    <tr>\n",
              "      <th>0</th>\n",
              "      <td>Wii Sports</td>\n",
              "      <td>Wii</td>\n",
              "      <td>2006</td>\n",
              "      <td>Sports</td>\n",
              "      <td>41.36</td>\n",
              "      <td>28.96</td>\n",
              "      <td>3.77</td>\n",
              "      <td>8.45</td>\n",
              "      <td>76.0</td>\n",
              "      <td>8.0</td>\n",
              "      <td>E</td>\n",
              "      <td>82.54</td>\n",
              "    </tr>\n",
              "    <tr>\n",
              "      <th>1</th>\n",
              "      <td>Super Mario Bros.</td>\n",
              "      <td>NES</td>\n",
              "      <td>1985</td>\n",
              "      <td>Platform</td>\n",
              "      <td>29.08</td>\n",
              "      <td>3.58</td>\n",
              "      <td>6.81</td>\n",
              "      <td>0.77</td>\n",
              "      <td>71.0</td>\n",
              "      <td>7.5</td>\n",
              "      <td>unknown</td>\n",
              "      <td>40.24</td>\n",
              "    </tr>\n",
              "    <tr>\n",
              "      <th>2</th>\n",
              "      <td>Mario Kart Wii</td>\n",
              "      <td>Wii</td>\n",
              "      <td>2008</td>\n",
              "      <td>Racing</td>\n",
              "      <td>15.68</td>\n",
              "      <td>12.76</td>\n",
              "      <td>3.79</td>\n",
              "      <td>3.29</td>\n",
              "      <td>82.0</td>\n",
              "      <td>8.3</td>\n",
              "      <td>E</td>\n",
              "      <td>35.52</td>\n",
              "    </tr>\n",
              "    <tr>\n",
              "      <th>3</th>\n",
              "      <td>Wii Sports Resort</td>\n",
              "      <td>Wii</td>\n",
              "      <td>2009</td>\n",
              "      <td>Sports</td>\n",
              "      <td>15.61</td>\n",
              "      <td>10.93</td>\n",
              "      <td>3.28</td>\n",
              "      <td>2.95</td>\n",
              "      <td>80.0</td>\n",
              "      <td>8.0</td>\n",
              "      <td>E</td>\n",
              "      <td>32.77</td>\n",
              "    </tr>\n",
              "    <tr>\n",
              "      <th>4</th>\n",
              "      <td>Pokemon Red/Pokemon Blue</td>\n",
              "      <td>GB</td>\n",
              "      <td>1996</td>\n",
              "      <td>Role-Playing</td>\n",
              "      <td>11.27</td>\n",
              "      <td>8.89</td>\n",
              "      <td>10.22</td>\n",
              "      <td>1.00</td>\n",
              "      <td>71.0</td>\n",
              "      <td>7.5</td>\n",
              "      <td>unknown</td>\n",
              "      <td>31.38</td>\n",
              "    </tr>\n",
              "  </tbody>\n",
              "</table>\n",
              "</div>"
            ],
            "text/plain": [
              "                       name platform  year_of_release         genre  na_sales  \\\n",
              "0                Wii Sports      Wii             2006        Sports     41.36   \n",
              "1         Super Mario Bros.      NES             1985      Platform     29.08   \n",
              "2            Mario Kart Wii      Wii             2008        Racing     15.68   \n",
              "3         Wii Sports Resort      Wii             2009        Sports     15.61   \n",
              "4  Pokemon Red/Pokemon Blue       GB             1996  Role-Playing     11.27   \n",
              "\n",
              "   eu_sales  jp_sales  other_sales  critic_score  user_score   rating  \\\n",
              "0     28.96      3.77         8.45          76.0         8.0        E   \n",
              "1      3.58      6.81         0.77          71.0         7.5  unknown   \n",
              "2     12.76      3.79         3.29          82.0         8.3        E   \n",
              "3     10.93      3.28         2.95          80.0         8.0        E   \n",
              "4      8.89     10.22         1.00          71.0         7.5  unknown   \n",
              "\n",
              "   total_sales  \n",
              "0        82.54  \n",
              "1        40.24  \n",
              "2        35.52  \n",
              "3        32.77  \n",
              "4        31.38  "
            ]
          },
          "execution_count": 42,
          "metadata": {},
          "output_type": "execute_result"
        }
      ],
      "source": [
        "top_selling_games"
      ]
    },
    {
      "cell_type": "markdown",
      "metadata": {
        "id": "WjAC-WF5R2pq"
      },
      "source": [
        "#### Las 5 juegos con menores ventas"
      ]
    },
    {
      "cell_type": "code",
      "execution_count": null,
      "metadata": {
        "id": "yJnuf_W1R2pq"
      },
      "outputs": [],
      "source": [
        "lowest_selling_games= games_df.nsmallest(5, ['total_sales'])"
      ]
    },
    {
      "cell_type": "code",
      "execution_count": null,
      "metadata": {
        "id": "ZQBawzouR2pq",
        "outputId": "10f8652f-59df-4826-8789-dd8198fc1c05"
      },
      "outputs": [
        {
          "data": {
            "text/html": [
              "<div>\n",
              "<style scoped>\n",
              "    .dataframe tbody tr th:only-of-type {\n",
              "        vertical-align: middle;\n",
              "    }\n",
              "\n",
              "    .dataframe tbody tr th {\n",
              "        vertical-align: top;\n",
              "    }\n",
              "\n",
              "    .dataframe thead th {\n",
              "        text-align: right;\n",
              "    }\n",
              "</style>\n",
              "<table border=\"1\" class=\"dataframe\">\n",
              "  <thead>\n",
              "    <tr style=\"text-align: right;\">\n",
              "      <th></th>\n",
              "      <th>name</th>\n",
              "      <th>platform</th>\n",
              "      <th>year_of_release</th>\n",
              "      <th>genre</th>\n",
              "      <th>na_sales</th>\n",
              "      <th>eu_sales</th>\n",
              "      <th>jp_sales</th>\n",
              "      <th>other_sales</th>\n",
              "      <th>critic_score</th>\n",
              "      <th>user_score</th>\n",
              "      <th>rating</th>\n",
              "      <th>total_sales</th>\n",
              "    </tr>\n",
              "  </thead>\n",
              "  <tbody>\n",
              "    <tr>\n",
              "      <th>16676</th>\n",
              "      <td>G1 Jockey 4 2008</td>\n",
              "      <td>PS3</td>\n",
              "      <td>2008</td>\n",
              "      <td>Sports</td>\n",
              "      <td>0.00</td>\n",
              "      <td>0.00</td>\n",
              "      <td>0.0</td>\n",
              "      <td>0.0</td>\n",
              "      <td>71.0</td>\n",
              "      <td>7.5</td>\n",
              "      <td>unknown</td>\n",
              "      <td>0.00</td>\n",
              "    </tr>\n",
              "    <tr>\n",
              "      <th>16709</th>\n",
              "      <td>SCORE International Baja 1000: The Official Game</td>\n",
              "      <td>PS2</td>\n",
              "      <td>2008</td>\n",
              "      <td>Racing</td>\n",
              "      <td>0.00</td>\n",
              "      <td>0.00</td>\n",
              "      <td>0.0</td>\n",
              "      <td>0.0</td>\n",
              "      <td>71.0</td>\n",
              "      <td>7.5</td>\n",
              "      <td>unknown</td>\n",
              "      <td>0.00</td>\n",
              "    </tr>\n",
              "    <tr>\n",
              "      <th>15384</th>\n",
              "      <td>Order of War</td>\n",
              "      <td>PC</td>\n",
              "      <td>2009</td>\n",
              "      <td>Strategy</td>\n",
              "      <td>0.00</td>\n",
              "      <td>0.01</td>\n",
              "      <td>0.0</td>\n",
              "      <td>0.0</td>\n",
              "      <td>69.0</td>\n",
              "      <td>7.3</td>\n",
              "      <td>T</td>\n",
              "      <td>0.01</td>\n",
              "    </tr>\n",
              "    <tr>\n",
              "      <th>15486</th>\n",
              "      <td>Arslan: The Warriors of Legend</td>\n",
              "      <td>XOne</td>\n",
              "      <td>2016</td>\n",
              "      <td>Action</td>\n",
              "      <td>0.01</td>\n",
              "      <td>0.00</td>\n",
              "      <td>0.0</td>\n",
              "      <td>0.0</td>\n",
              "      <td>71.0</td>\n",
              "      <td>5.8</td>\n",
              "      <td>T</td>\n",
              "      <td>0.01</td>\n",
              "    </tr>\n",
              "    <tr>\n",
              "      <th>15499</th>\n",
              "      <td>Motocross Mania 3</td>\n",
              "      <td>XB</td>\n",
              "      <td>2005</td>\n",
              "      <td>Racing</td>\n",
              "      <td>0.01</td>\n",
              "      <td>0.00</td>\n",
              "      <td>0.0</td>\n",
              "      <td>0.0</td>\n",
              "      <td>38.0</td>\n",
              "      <td>3.6</td>\n",
              "      <td>T</td>\n",
              "      <td>0.01</td>\n",
              "    </tr>\n",
              "  </tbody>\n",
              "</table>\n",
              "</div>"
            ],
            "text/plain": [
              "                                                   name platform  \\\n",
              "16676                                  G1 Jockey 4 2008      PS3   \n",
              "16709  SCORE International Baja 1000: The Official Game      PS2   \n",
              "15384                                      Order of War       PC   \n",
              "15486                    Arslan: The Warriors of Legend     XOne   \n",
              "15499                                 Motocross Mania 3       XB   \n",
              "\n",
              "       year_of_release     genre  na_sales  eu_sales  jp_sales  other_sales  \\\n",
              "16676             2008    Sports      0.00      0.00       0.0          0.0   \n",
              "16709             2008    Racing      0.00      0.00       0.0          0.0   \n",
              "15384             2009  Strategy      0.00      0.01       0.0          0.0   \n",
              "15486             2016    Action      0.01      0.00       0.0          0.0   \n",
              "15499             2005    Racing      0.01      0.00       0.0          0.0   \n",
              "\n",
              "       critic_score  user_score   rating  total_sales  \n",
              "16676          71.0         7.5  unknown         0.00  \n",
              "16709          71.0         7.5  unknown         0.00  \n",
              "15384          69.0         7.3        T         0.01  \n",
              "15486          71.0         5.8        T         0.01  \n",
              "15499          38.0         3.6        T         0.01  "
            ]
          },
          "execution_count": 44,
          "metadata": {},
          "output_type": "execute_result"
        }
      ],
      "source": [
        "lowest_selling_games"
      ]
    },
    {
      "cell_type": "markdown",
      "metadata": {
        "id": "DiVOd_uHR2pr"
      },
      "source": [
        "---"
      ]
    },
    {
      "cell_type": "markdown",
      "metadata": {
        "id": "mgAJzTz4R2pr"
      },
      "source": [
        "#### Conclusión suma total ventas totales de na_sales, eu_sales, jp_sales y other_sales:\n",
        "Vemos que el juego más popular (más vendido) es **Wii Sports**, su plataforma es Wii y fue lanzado en el año 2006, obteniendo un total en ventas de 82M de dólares."
      ]
    },
    {
      "cell_type": "markdown",
      "metadata": {
        "id": "GgtKfR17R2pr"
      },
      "source": [
        "---"
      ]
    },
    {
      "cell_type": "markdown",
      "metadata": {
        "id": "iBNYKQgdR2ps"
      },
      "source": [
        "### Cuántos juegos se lanzan cada año - el comportamiento de los juegos"
      ]
    },
    {
      "cell_type": "code",
      "execution_count": null,
      "metadata": {
        "id": "6o6mE7fXR2ps"
      },
      "outputs": [],
      "source": [
        "launch_year_analysis = games_df.groupby('year_of_release')['name'].count().sort_values(ascending=False).reset_index()"
      ]
    },
    {
      "cell_type": "code",
      "execution_count": null,
      "metadata": {
        "id": "wZMDxCT0R2ps"
      },
      "outputs": [],
      "source": [
        "launch_year_analysis = launch_year_analysis[launch_year_analysis['year_of_release'] != 0]"
      ]
    },
    {
      "cell_type": "code",
      "execution_count": null,
      "metadata": {
        "id": "ytFgAMTVR2ps",
        "outputId": "c9e37a6d-a3c3-4d4d-e29e-37e8d0b9f05f"
      },
      "outputs": [
        {
          "data": {
            "text/html": [
              "<div>\n",
              "<style scoped>\n",
              "    .dataframe tbody tr th:only-of-type {\n",
              "        vertical-align: middle;\n",
              "    }\n",
              "\n",
              "    .dataframe tbody tr th {\n",
              "        vertical-align: top;\n",
              "    }\n",
              "\n",
              "    .dataframe thead th {\n",
              "        text-align: right;\n",
              "    }\n",
              "</style>\n",
              "<table border=\"1\" class=\"dataframe\">\n",
              "  <thead>\n",
              "    <tr style=\"text-align: right;\">\n",
              "      <th></th>\n",
              "      <th>year_of_release</th>\n",
              "      <th>name</th>\n",
              "    </tr>\n",
              "  </thead>\n",
              "  <tbody>\n",
              "    <tr>\n",
              "      <th>0</th>\n",
              "      <td>2008</td>\n",
              "      <td>1427</td>\n",
              "    </tr>\n",
              "    <tr>\n",
              "      <th>1</th>\n",
              "      <td>2009</td>\n",
              "      <td>1426</td>\n",
              "    </tr>\n",
              "    <tr>\n",
              "      <th>2</th>\n",
              "      <td>2010</td>\n",
              "      <td>1255</td>\n",
              "    </tr>\n",
              "    <tr>\n",
              "      <th>3</th>\n",
              "      <td>2007</td>\n",
              "      <td>1197</td>\n",
              "    </tr>\n",
              "    <tr>\n",
              "      <th>4</th>\n",
              "      <td>2011</td>\n",
              "      <td>1136</td>\n",
              "    </tr>\n",
              "    <tr>\n",
              "      <th>5</th>\n",
              "      <td>2006</td>\n",
              "      <td>1006</td>\n",
              "    </tr>\n",
              "    <tr>\n",
              "      <th>6</th>\n",
              "      <td>2005</td>\n",
              "      <td>939</td>\n",
              "    </tr>\n",
              "    <tr>\n",
              "      <th>7</th>\n",
              "      <td>2002</td>\n",
              "      <td>829</td>\n",
              "    </tr>\n",
              "    <tr>\n",
              "      <th>8</th>\n",
              "      <td>2003</td>\n",
              "      <td>775</td>\n",
              "    </tr>\n",
              "    <tr>\n",
              "      <th>9</th>\n",
              "      <td>2004</td>\n",
              "      <td>762</td>\n",
              "    </tr>\n",
              "    <tr>\n",
              "      <th>10</th>\n",
              "      <td>2012</td>\n",
              "      <td>653</td>\n",
              "    </tr>\n",
              "    <tr>\n",
              "      <th>11</th>\n",
              "      <td>2015</td>\n",
              "      <td>606</td>\n",
              "    </tr>\n",
              "    <tr>\n",
              "      <th>12</th>\n",
              "      <td>2014</td>\n",
              "      <td>581</td>\n",
              "    </tr>\n",
              "    <tr>\n",
              "      <th>13</th>\n",
              "      <td>2013</td>\n",
              "      <td>544</td>\n",
              "    </tr>\n",
              "    <tr>\n",
              "      <th>14</th>\n",
              "      <td>2016</td>\n",
              "      <td>502</td>\n",
              "    </tr>\n",
              "    <tr>\n",
              "      <th>15</th>\n",
              "      <td>2001</td>\n",
              "      <td>482</td>\n",
              "    </tr>\n",
              "    <tr>\n",
              "      <th>16</th>\n",
              "      <td>1998</td>\n",
              "      <td>379</td>\n",
              "    </tr>\n",
              "    <tr>\n",
              "      <th>17</th>\n",
              "      <td>2000</td>\n",
              "      <td>350</td>\n",
              "    </tr>\n",
              "    <tr>\n",
              "      <th>18</th>\n",
              "      <td>1999</td>\n",
              "      <td>338</td>\n",
              "    </tr>\n",
              "    <tr>\n",
              "      <th>19</th>\n",
              "      <td>1997</td>\n",
              "      <td>289</td>\n",
              "    </tr>\n",
              "    <tr>\n",
              "      <th>21</th>\n",
              "      <td>1996</td>\n",
              "      <td>263</td>\n",
              "    </tr>\n",
              "    <tr>\n",
              "      <th>22</th>\n",
              "      <td>1995</td>\n",
              "      <td>219</td>\n",
              "    </tr>\n",
              "    <tr>\n",
              "      <th>23</th>\n",
              "      <td>1994</td>\n",
              "      <td>121</td>\n",
              "    </tr>\n",
              "    <tr>\n",
              "      <th>24</th>\n",
              "      <td>1993</td>\n",
              "      <td>62</td>\n",
              "    </tr>\n",
              "    <tr>\n",
              "      <th>25</th>\n",
              "      <td>1981</td>\n",
              "      <td>46</td>\n",
              "    </tr>\n",
              "    <tr>\n",
              "      <th>26</th>\n",
              "      <td>1992</td>\n",
              "      <td>43</td>\n",
              "    </tr>\n",
              "    <tr>\n",
              "      <th>27</th>\n",
              "      <td>1991</td>\n",
              "      <td>41</td>\n",
              "    </tr>\n",
              "    <tr>\n",
              "      <th>28</th>\n",
              "      <td>1982</td>\n",
              "      <td>36</td>\n",
              "    </tr>\n",
              "    <tr>\n",
              "      <th>29</th>\n",
              "      <td>1986</td>\n",
              "      <td>21</td>\n",
              "    </tr>\n",
              "    <tr>\n",
              "      <th>30</th>\n",
              "      <td>1989</td>\n",
              "      <td>17</td>\n",
              "    </tr>\n",
              "    <tr>\n",
              "      <th>31</th>\n",
              "      <td>1983</td>\n",
              "      <td>17</td>\n",
              "    </tr>\n",
              "    <tr>\n",
              "      <th>32</th>\n",
              "      <td>1987</td>\n",
              "      <td>16</td>\n",
              "    </tr>\n",
              "    <tr>\n",
              "      <th>33</th>\n",
              "      <td>1990</td>\n",
              "      <td>16</td>\n",
              "    </tr>\n",
              "    <tr>\n",
              "      <th>34</th>\n",
              "      <td>1988</td>\n",
              "      <td>15</td>\n",
              "    </tr>\n",
              "    <tr>\n",
              "      <th>35</th>\n",
              "      <td>1985</td>\n",
              "      <td>14</td>\n",
              "    </tr>\n",
              "    <tr>\n",
              "      <th>36</th>\n",
              "      <td>1984</td>\n",
              "      <td>14</td>\n",
              "    </tr>\n",
              "    <tr>\n",
              "      <th>37</th>\n",
              "      <td>1980</td>\n",
              "      <td>9</td>\n",
              "    </tr>\n",
              "  </tbody>\n",
              "</table>\n",
              "</div>"
            ],
            "text/plain": [
              "    year_of_release  name\n",
              "0              2008  1427\n",
              "1              2009  1426\n",
              "2              2010  1255\n",
              "3              2007  1197\n",
              "4              2011  1136\n",
              "5              2006  1006\n",
              "6              2005   939\n",
              "7              2002   829\n",
              "8              2003   775\n",
              "9              2004   762\n",
              "10             2012   653\n",
              "11             2015   606\n",
              "12             2014   581\n",
              "13             2013   544\n",
              "14             2016   502\n",
              "15             2001   482\n",
              "16             1998   379\n",
              "17             2000   350\n",
              "18             1999   338\n",
              "19             1997   289\n",
              "21             1996   263\n",
              "22             1995   219\n",
              "23             1994   121\n",
              "24             1993    62\n",
              "25             1981    46\n",
              "26             1992    43\n",
              "27             1991    41\n",
              "28             1982    36\n",
              "29             1986    21\n",
              "30             1989    17\n",
              "31             1983    17\n",
              "32             1987    16\n",
              "33             1990    16\n",
              "34             1988    15\n",
              "35             1985    14\n",
              "36             1984    14\n",
              "37             1980     9"
            ]
          },
          "execution_count": 47,
          "metadata": {},
          "output_type": "execute_result"
        }
      ],
      "source": [
        "launch_year_analysis"
      ]
    },
    {
      "cell_type": "markdown",
      "metadata": {
        "id": "lkjL4-JYR2pt"
      },
      "source": [
        "#### Gráfico de líneas verticales para ver la cantidad de juegos que se lanzaron por año."
      ]
    },
    {
      "cell_type": "code",
      "execution_count": null,
      "metadata": {
        "id": "33WWLLtKR2pt",
        "outputId": "33f6974c-7c43-44a7-eb50-27dbf20a5ab9"
      },
      "outputs": [
        {
          "data": {
            "image/png": "[encoded data removed]",
            "text/plain": [
              "<Figure size 1500x500 with 1 Axes>"
            ]
          },
          "metadata": {},
          "output_type": "display_data"
        }
      ],
      "source": [
        "fig, ax = plt.subplots(figsize=(15,5))\n",
        "ax.vlines(x=launch_year_analysis.year_of_release,\n",
        "          ymin=0,\n",
        "          ymax=launch_year_analysis.name)\n",
        "\n",
        "ax.set_title('Game releases per year', fontsize=15)\n",
        "\n",
        "\"\"\"\n",
        "y_min = 0\n",
        "y_max = launch_year_analysis.name.max() + 5  # los valores serán de 5 en 5\n",
        "ax.set_yticks(range(y_min, y_max, 5))\n",
        "\"\"\"\n",
        "\n",
        "ax.set_xticks(launch_year_analysis.year_of_release)\n",
        "ax.set_xticklabels(launch_year_analysis.year_of_release, rotation=90)\n",
        "\n",
        "plt.show()"
      ]
    },
    {
      "cell_type": "markdown",
      "metadata": {
        "id": "5PTafRMNR2pt"
      },
      "source": [
        "#### Conclusión cantidad de juegos que se lanzaron por año:\n",
        "El año que hubo más ventas de videojuegos fue el 2008, con 1427 juegos en total. Seguido por el año 2009, con 1426 juegos y del año 2010 con 1255."
      ]
    },
    {
      "cell_type": "markdown",
      "metadata": {
        "id": "Ij0AWc6XR2pt"
      },
      "source": [
        "### Plataforma que genera más ventas - cuál es la plataforma más popular\n",
        "<span style=\"color: red;\">**¡IMPORTANTE! Este estudio a continuación es un punto de vista general, desde la sección 6.5 se hará el estudio con los años desde el 2013 en adelante.**</span>\n",
        "\n"
      ]
    },
    {
      "cell_type": "code",
      "execution_count": null,
      "metadata": {
        "id": "ErFHfJUTR2pu"
      },
      "outputs": [],
      "source": [
        "highest_sales_platform = games_df.groupby('platform')['total_sales'].sum().sort_values(ascending=False).reset_index()"
      ]
    },
    {
      "cell_type": "code",
      "execution_count": null,
      "metadata": {
        "id": "MTQ_iMJZR2pu",
        "outputId": "b09378fe-639d-41af-c120-e86b59a0e906"
      },
      "outputs": [
        {
          "data": {
            "text/html": [
              "<div>\n",
              "<style scoped>\n",
              "    .dataframe tbody tr th:only-of-type {\n",
              "        vertical-align: middle;\n",
              "    }\n",
              "\n",
              "    .dataframe tbody tr th {\n",
              "        vertical-align: top;\n",
              "    }\n",
              "\n",
              "    .dataframe thead th {\n",
              "        text-align: right;\n",
              "    }\n",
              "</style>\n",
              "<table border=\"1\" class=\"dataframe\">\n",
              "  <thead>\n",
              "    <tr style=\"text-align: right;\">\n",
              "      <th></th>\n",
              "      <th>platform</th>\n",
              "      <th>total_sales</th>\n",
              "    </tr>\n",
              "  </thead>\n",
              "  <tbody>\n",
              "    <tr>\n",
              "      <th>0</th>\n",
              "      <td>PS2</td>\n",
              "      <td>1255.77</td>\n",
              "    </tr>\n",
              "    <tr>\n",
              "      <th>1</th>\n",
              "      <td>X360</td>\n",
              "      <td>971.42</td>\n",
              "    </tr>\n",
              "    <tr>\n",
              "      <th>2</th>\n",
              "      <td>PS3</td>\n",
              "      <td>939.65</td>\n",
              "    </tr>\n",
              "    <tr>\n",
              "      <th>3</th>\n",
              "      <td>Wii</td>\n",
              "      <td>907.51</td>\n",
              "    </tr>\n",
              "    <tr>\n",
              "      <th>4</th>\n",
              "      <td>DS</td>\n",
              "      <td>806.12</td>\n",
              "    </tr>\n",
              "    <tr>\n",
              "      <th>5</th>\n",
              "      <td>PS</td>\n",
              "      <td>730.86</td>\n",
              "    </tr>\n",
              "    <tr>\n",
              "      <th>6</th>\n",
              "      <td>GBA</td>\n",
              "      <td>317.85</td>\n",
              "    </tr>\n",
              "    <tr>\n",
              "      <th>7</th>\n",
              "      <td>PS4</td>\n",
              "      <td>314.14</td>\n",
              "    </tr>\n",
              "    <tr>\n",
              "      <th>8</th>\n",
              "      <td>PSP</td>\n",
              "      <td>294.05</td>\n",
              "    </tr>\n",
              "    <tr>\n",
              "      <th>9</th>\n",
              "      <td>PC</td>\n",
              "      <td>259.52</td>\n",
              "    </tr>\n",
              "    <tr>\n",
              "      <th>10</th>\n",
              "      <td>3DS</td>\n",
              "      <td>259.00</td>\n",
              "    </tr>\n",
              "    <tr>\n",
              "      <th>11</th>\n",
              "      <td>XB</td>\n",
              "      <td>257.74</td>\n",
              "    </tr>\n",
              "    <tr>\n",
              "      <th>12</th>\n",
              "      <td>GB</td>\n",
              "      <td>255.46</td>\n",
              "    </tr>\n",
              "    <tr>\n",
              "      <th>13</th>\n",
              "      <td>NES</td>\n",
              "      <td>251.05</td>\n",
              "    </tr>\n",
              "    <tr>\n",
              "      <th>14</th>\n",
              "      <td>N64</td>\n",
              "      <td>218.68</td>\n",
              "    </tr>\n",
              "    <tr>\n",
              "      <th>15</th>\n",
              "      <td>SNES</td>\n",
              "      <td>200.04</td>\n",
              "    </tr>\n",
              "    <tr>\n",
              "      <th>16</th>\n",
              "      <td>GC</td>\n",
              "      <td>198.93</td>\n",
              "    </tr>\n",
              "    <tr>\n",
              "      <th>17</th>\n",
              "      <td>XOne</td>\n",
              "      <td>159.32</td>\n",
              "    </tr>\n",
              "    <tr>\n",
              "      <th>18</th>\n",
              "      <td>2600</td>\n",
              "      <td>96.98</td>\n",
              "    </tr>\n",
              "    <tr>\n",
              "      <th>19</th>\n",
              "      <td>WiiU</td>\n",
              "      <td>82.19</td>\n",
              "    </tr>\n",
              "    <tr>\n",
              "      <th>20</th>\n",
              "      <td>PSV</td>\n",
              "      <td>54.07</td>\n",
              "    </tr>\n",
              "    <tr>\n",
              "      <th>21</th>\n",
              "      <td>SAT</td>\n",
              "      <td>33.59</td>\n",
              "    </tr>\n",
              "    <tr>\n",
              "      <th>22</th>\n",
              "      <td>GEN</td>\n",
              "      <td>30.77</td>\n",
              "    </tr>\n",
              "    <tr>\n",
              "      <th>23</th>\n",
              "      <td>DC</td>\n",
              "      <td>15.95</td>\n",
              "    </tr>\n",
              "    <tr>\n",
              "      <th>24</th>\n",
              "      <td>SCD</td>\n",
              "      <td>1.86</td>\n",
              "    </tr>\n",
              "    <tr>\n",
              "      <th>25</th>\n",
              "      <td>NG</td>\n",
              "      <td>1.44</td>\n",
              "    </tr>\n",
              "    <tr>\n",
              "      <th>26</th>\n",
              "      <td>WS</td>\n",
              "      <td>1.42</td>\n",
              "    </tr>\n",
              "    <tr>\n",
              "      <th>27</th>\n",
              "      <td>TG16</td>\n",
              "      <td>0.16</td>\n",
              "    </tr>\n",
              "    <tr>\n",
              "      <th>28</th>\n",
              "      <td>3DO</td>\n",
              "      <td>0.10</td>\n",
              "    </tr>\n",
              "    <tr>\n",
              "      <th>29</th>\n",
              "      <td>GG</td>\n",
              "      <td>0.04</td>\n",
              "    </tr>\n",
              "    <tr>\n",
              "      <th>30</th>\n",
              "      <td>PCFX</td>\n",
              "      <td>0.03</td>\n",
              "    </tr>\n",
              "  </tbody>\n",
              "</table>\n",
              "</div>"
            ],
            "text/plain": [
              "   platform  total_sales\n",
              "0       PS2      1255.77\n",
              "1      X360       971.42\n",
              "2       PS3       939.65\n",
              "3       Wii       907.51\n",
              "4        DS       806.12\n",
              "5        PS       730.86\n",
              "6       GBA       317.85\n",
              "7       PS4       314.14\n",
              "8       PSP       294.05\n",
              "9        PC       259.52\n",
              "10      3DS       259.00\n",
              "11       XB       257.74\n",
              "12       GB       255.46\n",
              "13      NES       251.05\n",
              "14      N64       218.68\n",
              "15     SNES       200.04\n",
              "16       GC       198.93\n",
              "17     XOne       159.32\n",
              "18     2600        96.98\n",
              "19     WiiU        82.19\n",
              "20      PSV        54.07\n",
              "21      SAT        33.59\n",
              "22      GEN        30.77\n",
              "23       DC        15.95\n",
              "24      SCD         1.86\n",
              "25       NG         1.44\n",
              "26       WS         1.42\n",
              "27     TG16         0.16\n",
              "28      3DO         0.10\n",
              "29       GG         0.04\n",
              "30     PCFX         0.03"
            ]
          },
          "execution_count": 50,
          "metadata": {},
          "output_type": "execute_result"
        }
      ],
      "source": [
        "highest_sales_platform"
      ]
    },
    {
      "cell_type": "markdown",
      "metadata": {
        "id": "WOHAg_5AR2pu"
      },
      "source": [
        "#### Conclusión Plataforma que genera más ventas\n",
        "La Plataforma de videojuegos que ha tenido más popularidad es PS2 con 1255.77 millones recaudados,\n",
        "seguida por X360 con 971.42M recaudados, y\n",
        "PS3 con 939.65M recaudados."
      ]
    },
    {
      "cell_type": "markdown",
      "metadata": {
        "id": "nXu-fZtNR2pv"
      },
      "source": [
        "### Rentabilidad por plataforma, un paso para las proyecciones"
      ]
    },
    {
      "cell_type": "markdown",
      "metadata": {
        "id": "4RoZi1ebR2pv"
      },
      "source": [
        "**Z_SCORE**: Que tan alejado estoy de la media - a cuántas desviaciones estándar"
      ]
    },
    {
      "cell_type": "code",
      "execution_count": null,
      "metadata": {
        "id": "YGayOXVpR2pv"
      },
      "outputs": [],
      "source": [
        "highest_sales_platform['z_score'] = (highest_sales_platform['total_sales'] - highest_sales_platform['total_sales'].mean())/highest_sales_platform['total_sales'].std()"
      ]
    },
    {
      "cell_type": "code",
      "execution_count": null,
      "metadata": {
        "id": "cIb6zdGRR2pv",
        "outputId": "5e02615b-39e2-42c2-8fe2-2415c50babcf"
      },
      "outputs": [
        {
          "data": {
            "text/html": [
              "<div>\n",
              "<style scoped>\n",
              "    .dataframe tbody tr th:only-of-type {\n",
              "        vertical-align: middle;\n",
              "    }\n",
              "\n",
              "    .dataframe tbody tr th {\n",
              "        vertical-align: top;\n",
              "    }\n",
              "\n",
              "    .dataframe thead th {\n",
              "        text-align: right;\n",
              "    }\n",
              "</style>\n",
              "<table border=\"1\" class=\"dataframe\">\n",
              "  <thead>\n",
              "    <tr style=\"text-align: right;\">\n",
              "      <th></th>\n",
              "      <th>platform</th>\n",
              "      <th>total_sales</th>\n",
              "      <th>z_score</th>\n",
              "    </tr>\n",
              "  </thead>\n",
              "  <tbody>\n",
              "    <tr>\n",
              "      <th>0</th>\n",
              "      <td>PS2</td>\n",
              "      <td>1255.77</td>\n",
              "      <td>2.780807</td>\n",
              "    </tr>\n",
              "    <tr>\n",
              "      <th>1</th>\n",
              "      <td>X360</td>\n",
              "      <td>971.42</td>\n",
              "      <td>1.964085</td>\n",
              "    </tr>\n",
              "    <tr>\n",
              "      <th>2</th>\n",
              "      <td>PS3</td>\n",
              "      <td>939.65</td>\n",
              "      <td>1.872834</td>\n",
              "    </tr>\n",
              "    <tr>\n",
              "      <th>3</th>\n",
              "      <td>Wii</td>\n",
              "      <td>907.51</td>\n",
              "      <td>1.780520</td>\n",
              "    </tr>\n",
              "    <tr>\n",
              "      <th>4</th>\n",
              "      <td>DS</td>\n",
              "      <td>806.12</td>\n",
              "      <td>1.489304</td>\n",
              "    </tr>\n",
              "    <tr>\n",
              "      <th>5</th>\n",
              "      <td>PS</td>\n",
              "      <td>730.86</td>\n",
              "      <td>1.273139</td>\n",
              "    </tr>\n",
              "    <tr>\n",
              "      <th>6</th>\n",
              "      <td>GBA</td>\n",
              "      <td>317.85</td>\n",
              "      <td>0.086875</td>\n",
              "    </tr>\n",
              "    <tr>\n",
              "      <th>7</th>\n",
              "      <td>PS4</td>\n",
              "      <td>314.14</td>\n",
              "      <td>0.076219</td>\n",
              "    </tr>\n",
              "    <tr>\n",
              "      <th>8</th>\n",
              "      <td>PSP</td>\n",
              "      <td>294.05</td>\n",
              "      <td>0.018516</td>\n",
              "    </tr>\n",
              "    <tr>\n",
              "      <th>9</th>\n",
              "      <td>PC</td>\n",
              "      <td>259.52</td>\n",
              "      <td>-0.080663</td>\n",
              "    </tr>\n",
              "    <tr>\n",
              "      <th>10</th>\n",
              "      <td>3DS</td>\n",
              "      <td>259.00</td>\n",
              "      <td>-0.082156</td>\n",
              "    </tr>\n",
              "    <tr>\n",
              "      <th>11</th>\n",
              "      <td>XB</td>\n",
              "      <td>257.74</td>\n",
              "      <td>-0.085775</td>\n",
              "    </tr>\n",
              "    <tr>\n",
              "      <th>12</th>\n",
              "      <td>GB</td>\n",
              "      <td>255.46</td>\n",
              "      <td>-0.092324</td>\n",
              "    </tr>\n",
              "    <tr>\n",
              "      <th>13</th>\n",
              "      <td>NES</td>\n",
              "      <td>251.05</td>\n",
              "      <td>-0.104991</td>\n",
              "    </tr>\n",
              "    <tr>\n",
              "      <th>14</th>\n",
              "      <td>N64</td>\n",
              "      <td>218.68</td>\n",
              "      <td>-0.197965</td>\n",
              "    </tr>\n",
              "    <tr>\n",
              "      <th>15</th>\n",
              "      <td>SNES</td>\n",
              "      <td>200.04</td>\n",
              "      <td>-0.251504</td>\n",
              "    </tr>\n",
              "    <tr>\n",
              "      <th>16</th>\n",
              "      <td>GC</td>\n",
              "      <td>198.93</td>\n",
              "      <td>-0.254692</td>\n",
              "    </tr>\n",
              "    <tr>\n",
              "      <th>17</th>\n",
              "      <td>XOne</td>\n",
              "      <td>159.32</td>\n",
              "      <td>-0.368461</td>\n",
              "    </tr>\n",
              "    <tr>\n",
              "      <th>18</th>\n",
              "      <td>2600</td>\n",
              "      <td>96.98</td>\n",
              "      <td>-0.547517</td>\n",
              "    </tr>\n",
              "    <tr>\n",
              "      <th>19</th>\n",
              "      <td>WiiU</td>\n",
              "      <td>82.19</td>\n",
              "      <td>-0.589997</td>\n",
              "    </tr>\n",
              "    <tr>\n",
              "      <th>20</th>\n",
              "      <td>PSV</td>\n",
              "      <td>54.07</td>\n",
              "      <td>-0.670765</td>\n",
              "    </tr>\n",
              "    <tr>\n",
              "      <th>21</th>\n",
              "      <td>SAT</td>\n",
              "      <td>33.59</td>\n",
              "      <td>-0.729588</td>\n",
              "    </tr>\n",
              "    <tr>\n",
              "      <th>22</th>\n",
              "      <td>GEN</td>\n",
              "      <td>30.77</td>\n",
              "      <td>-0.737688</td>\n",
              "    </tr>\n",
              "    <tr>\n",
              "      <th>23</th>\n",
              "      <td>DC</td>\n",
              "      <td>15.95</td>\n",
              "      <td>-0.780254</td>\n",
              "    </tr>\n",
              "    <tr>\n",
              "      <th>24</th>\n",
              "      <td>SCD</td>\n",
              "      <td>1.86</td>\n",
              "      <td>-0.820724</td>\n",
              "    </tr>\n",
              "    <tr>\n",
              "      <th>25</th>\n",
              "      <td>NG</td>\n",
              "      <td>1.44</td>\n",
              "      <td>-0.821931</td>\n",
              "    </tr>\n",
              "    <tr>\n",
              "      <th>26</th>\n",
              "      <td>WS</td>\n",
              "      <td>1.42</td>\n",
              "      <td>-0.821988</td>\n",
              "    </tr>\n",
              "    <tr>\n",
              "      <th>27</th>\n",
              "      <td>TG16</td>\n",
              "      <td>0.16</td>\n",
              "      <td>-0.825607</td>\n",
              "    </tr>\n",
              "    <tr>\n",
              "      <th>28</th>\n",
              "      <td>3DO</td>\n",
              "      <td>0.10</td>\n",
              "      <td>-0.825779</td>\n",
              "    </tr>\n",
              "    <tr>\n",
              "      <th>29</th>\n",
              "      <td>GG</td>\n",
              "      <td>0.04</td>\n",
              "      <td>-0.825952</td>\n",
              "    </tr>\n",
              "    <tr>\n",
              "      <th>30</th>\n",
              "      <td>PCFX</td>\n",
              "      <td>0.03</td>\n",
              "      <td>-0.825980</td>\n",
              "    </tr>\n",
              "  </tbody>\n",
              "</table>\n",
              "</div>"
            ],
            "text/plain": [
              "   platform  total_sales   z_score\n",
              "0       PS2      1255.77  2.780807\n",
              "1      X360       971.42  1.964085\n",
              "2       PS3       939.65  1.872834\n",
              "3       Wii       907.51  1.780520\n",
              "4        DS       806.12  1.489304\n",
              "5        PS       730.86  1.273139\n",
              "6       GBA       317.85  0.086875\n",
              "7       PS4       314.14  0.076219\n",
              "8       PSP       294.05  0.018516\n",
              "9        PC       259.52 -0.080663\n",
              "10      3DS       259.00 -0.082156\n",
              "11       XB       257.74 -0.085775\n",
              "12       GB       255.46 -0.092324\n",
              "13      NES       251.05 -0.104991\n",
              "14      N64       218.68 -0.197965\n",
              "15     SNES       200.04 -0.251504\n",
              "16       GC       198.93 -0.254692\n",
              "17     XOne       159.32 -0.368461\n",
              "18     2600        96.98 -0.547517\n",
              "19     WiiU        82.19 -0.589997\n",
              "20      PSV        54.07 -0.670765\n",
              "21      SAT        33.59 -0.729588\n",
              "22      GEN        30.77 -0.737688\n",
              "23       DC        15.95 -0.780254\n",
              "24      SCD         1.86 -0.820724\n",
              "25       NG         1.44 -0.821931\n",
              "26       WS         1.42 -0.821988\n",
              "27     TG16         0.16 -0.825607\n",
              "28      3DO         0.10 -0.825779\n",
              "29       GG         0.04 -0.825952\n",
              "30     PCFX         0.03 -0.825980"
            ]
          },
          "execution_count": 52,
          "metadata": {},
          "output_type": "execute_result"
        }
      ],
      "source": [
        "highest_sales_platform"
      ]
    },
    {
      "cell_type": "markdown",
      "metadata": {
        "id": "205QtpD4R2pw"
      },
      "source": [
        "-> Si el valor z_score es menor que 0 será color rojo, y si mayor a 0, verde"
      ]
    },
    {
      "cell_type": "code",
      "execution_count": null,
      "metadata": {
        "id": "qUheR6JBR2pw"
      },
      "outputs": [],
      "source": [
        "highest_sales_platform['color'] = ['green' if z_sales > 0 else 'red' for z_sales in highest_sales_platform['z_score']]"
      ]
    },
    {
      "cell_type": "code",
      "execution_count": null,
      "metadata": {
        "id": "DVjXHEM0R2pw",
        "outputId": "db5da17e-84ce-4a0d-cdfd-a16fe82b5170"
      },
      "outputs": [
        {
          "data": {
            "text/html": [
              "<div>\n",
              "<style scoped>\n",
              "    .dataframe tbody tr th:only-of-type {\n",
              "        vertical-align: middle;\n",
              "    }\n",
              "\n",
              "    .dataframe tbody tr th {\n",
              "        vertical-align: top;\n",
              "    }\n",
              "\n",
              "    .dataframe thead th {\n",
              "        text-align: right;\n",
              "    }\n",
              "</style>\n",
              "<table border=\"1\" class=\"dataframe\">\n",
              "  <thead>\n",
              "    <tr style=\"text-align: right;\">\n",
              "      <th></th>\n",
              "      <th>platform</th>\n",
              "      <th>total_sales</th>\n",
              "      <th>z_score</th>\n",
              "      <th>color</th>\n",
              "    </tr>\n",
              "  </thead>\n",
              "  <tbody>\n",
              "    <tr>\n",
              "      <th>0</th>\n",
              "      <td>PS2</td>\n",
              "      <td>1255.77</td>\n",
              "      <td>2.780807</td>\n",
              "      <td>green</td>\n",
              "    </tr>\n",
              "    <tr>\n",
              "      <th>1</th>\n",
              "      <td>X360</td>\n",
              "      <td>971.42</td>\n",
              "      <td>1.964085</td>\n",
              "      <td>green</td>\n",
              "    </tr>\n",
              "    <tr>\n",
              "      <th>2</th>\n",
              "      <td>PS3</td>\n",
              "      <td>939.65</td>\n",
              "      <td>1.872834</td>\n",
              "      <td>green</td>\n",
              "    </tr>\n",
              "    <tr>\n",
              "      <th>3</th>\n",
              "      <td>Wii</td>\n",
              "      <td>907.51</td>\n",
              "      <td>1.780520</td>\n",
              "      <td>green</td>\n",
              "    </tr>\n",
              "    <tr>\n",
              "      <th>4</th>\n",
              "      <td>DS</td>\n",
              "      <td>806.12</td>\n",
              "      <td>1.489304</td>\n",
              "      <td>green</td>\n",
              "    </tr>\n",
              "    <tr>\n",
              "      <th>5</th>\n",
              "      <td>PS</td>\n",
              "      <td>730.86</td>\n",
              "      <td>1.273139</td>\n",
              "      <td>green</td>\n",
              "    </tr>\n",
              "    <tr>\n",
              "      <th>6</th>\n",
              "      <td>GBA</td>\n",
              "      <td>317.85</td>\n",
              "      <td>0.086875</td>\n",
              "      <td>green</td>\n",
              "    </tr>\n",
              "    <tr>\n",
              "      <th>7</th>\n",
              "      <td>PS4</td>\n",
              "      <td>314.14</td>\n",
              "      <td>0.076219</td>\n",
              "      <td>green</td>\n",
              "    </tr>\n",
              "    <tr>\n",
              "      <th>8</th>\n",
              "      <td>PSP</td>\n",
              "      <td>294.05</td>\n",
              "      <td>0.018516</td>\n",
              "      <td>green</td>\n",
              "    </tr>\n",
              "    <tr>\n",
              "      <th>9</th>\n",
              "      <td>PC</td>\n",
              "      <td>259.52</td>\n",
              "      <td>-0.080663</td>\n",
              "      <td>red</td>\n",
              "    </tr>\n",
              "    <tr>\n",
              "      <th>10</th>\n",
              "      <td>3DS</td>\n",
              "      <td>259.00</td>\n",
              "      <td>-0.082156</td>\n",
              "      <td>red</td>\n",
              "    </tr>\n",
              "    <tr>\n",
              "      <th>11</th>\n",
              "      <td>XB</td>\n",
              "      <td>257.74</td>\n",
              "      <td>-0.085775</td>\n",
              "      <td>red</td>\n",
              "    </tr>\n",
              "    <tr>\n",
              "      <th>12</th>\n",
              "      <td>GB</td>\n",
              "      <td>255.46</td>\n",
              "      <td>-0.092324</td>\n",
              "      <td>red</td>\n",
              "    </tr>\n",
              "    <tr>\n",
              "      <th>13</th>\n",
              "      <td>NES</td>\n",
              "      <td>251.05</td>\n",
              "      <td>-0.104991</td>\n",
              "      <td>red</td>\n",
              "    </tr>\n",
              "    <tr>\n",
              "      <th>14</th>\n",
              "      <td>N64</td>\n",
              "      <td>218.68</td>\n",
              "      <td>-0.197965</td>\n",
              "      <td>red</td>\n",
              "    </tr>\n",
              "    <tr>\n",
              "      <th>15</th>\n",
              "      <td>SNES</td>\n",
              "      <td>200.04</td>\n",
              "      <td>-0.251504</td>\n",
              "      <td>red</td>\n",
              "    </tr>\n",
              "    <tr>\n",
              "      <th>16</th>\n",
              "      <td>GC</td>\n",
              "      <td>198.93</td>\n",
              "      <td>-0.254692</td>\n",
              "      <td>red</td>\n",
              "    </tr>\n",
              "    <tr>\n",
              "      <th>17</th>\n",
              "      <td>XOne</td>\n",
              "      <td>159.32</td>\n",
              "      <td>-0.368461</td>\n",
              "      <td>red</td>\n",
              "    </tr>\n",
              "    <tr>\n",
              "      <th>18</th>\n",
              "      <td>2600</td>\n",
              "      <td>96.98</td>\n",
              "      <td>-0.547517</td>\n",
              "      <td>red</td>\n",
              "    </tr>\n",
              "    <tr>\n",
              "      <th>19</th>\n",
              "      <td>WiiU</td>\n",
              "      <td>82.19</td>\n",
              "      <td>-0.589997</td>\n",
              "      <td>red</td>\n",
              "    </tr>\n",
              "    <tr>\n",
              "      <th>20</th>\n",
              "      <td>PSV</td>\n",
              "      <td>54.07</td>\n",
              "      <td>-0.670765</td>\n",
              "      <td>red</td>\n",
              "    </tr>\n",
              "    <tr>\n",
              "      <th>21</th>\n",
              "      <td>SAT</td>\n",
              "      <td>33.59</td>\n",
              "      <td>-0.729588</td>\n",
              "      <td>red</td>\n",
              "    </tr>\n",
              "    <tr>\n",
              "      <th>22</th>\n",
              "      <td>GEN</td>\n",
              "      <td>30.77</td>\n",
              "      <td>-0.737688</td>\n",
              "      <td>red</td>\n",
              "    </tr>\n",
              "    <tr>\n",
              "      <th>23</th>\n",
              "      <td>DC</td>\n",
              "      <td>15.95</td>\n",
              "      <td>-0.780254</td>\n",
              "      <td>red</td>\n",
              "    </tr>\n",
              "    <tr>\n",
              "      <th>24</th>\n",
              "      <td>SCD</td>\n",
              "      <td>1.86</td>\n",
              "      <td>-0.820724</td>\n",
              "      <td>red</td>\n",
              "    </tr>\n",
              "    <tr>\n",
              "      <th>25</th>\n",
              "      <td>NG</td>\n",
              "      <td>1.44</td>\n",
              "      <td>-0.821931</td>\n",
              "      <td>red</td>\n",
              "    </tr>\n",
              "    <tr>\n",
              "      <th>26</th>\n",
              "      <td>WS</td>\n",
              "      <td>1.42</td>\n",
              "      <td>-0.821988</td>\n",
              "      <td>red</td>\n",
              "    </tr>\n",
              "    <tr>\n",
              "      <th>27</th>\n",
              "      <td>TG16</td>\n",
              "      <td>0.16</td>\n",
              "      <td>-0.825607</td>\n",
              "      <td>red</td>\n",
              "    </tr>\n",
              "    <tr>\n",
              "      <th>28</th>\n",
              "      <td>3DO</td>\n",
              "      <td>0.10</td>\n",
              "      <td>-0.825779</td>\n",
              "      <td>red</td>\n",
              "    </tr>\n",
              "    <tr>\n",
              "      <th>29</th>\n",
              "      <td>GG</td>\n",
              "      <td>0.04</td>\n",
              "      <td>-0.825952</td>\n",
              "      <td>red</td>\n",
              "    </tr>\n",
              "    <tr>\n",
              "      <th>30</th>\n",
              "      <td>PCFX</td>\n",
              "      <td>0.03</td>\n",
              "      <td>-0.825980</td>\n",
              "      <td>red</td>\n",
              "    </tr>\n",
              "  </tbody>\n",
              "</table>\n",
              "</div>"
            ],
            "text/plain": [
              "   platform  total_sales   z_score  color\n",
              "0       PS2      1255.77  2.780807  green\n",
              "1      X360       971.42  1.964085  green\n",
              "2       PS3       939.65  1.872834  green\n",
              "3       Wii       907.51  1.780520  green\n",
              "4        DS       806.12  1.489304  green\n",
              "5        PS       730.86  1.273139  green\n",
              "6       GBA       317.85  0.086875  green\n",
              "7       PS4       314.14  0.076219  green\n",
              "8       PSP       294.05  0.018516  green\n",
              "9        PC       259.52 -0.080663    red\n",
              "10      3DS       259.00 -0.082156    red\n",
              "11       XB       257.74 -0.085775    red\n",
              "12       GB       255.46 -0.092324    red\n",
              "13      NES       251.05 -0.104991    red\n",
              "14      N64       218.68 -0.197965    red\n",
              "15     SNES       200.04 -0.251504    red\n",
              "16       GC       198.93 -0.254692    red\n",
              "17     XOne       159.32 -0.368461    red\n",
              "18     2600        96.98 -0.547517    red\n",
              "19     WiiU        82.19 -0.589997    red\n",
              "20      PSV        54.07 -0.670765    red\n",
              "21      SAT        33.59 -0.729588    red\n",
              "22      GEN        30.77 -0.737688    red\n",
              "23       DC        15.95 -0.780254    red\n",
              "24      SCD         1.86 -0.820724    red\n",
              "25       NG         1.44 -0.821931    red\n",
              "26       WS         1.42 -0.821988    red\n",
              "27     TG16         0.16 -0.825607    red\n",
              "28      3DO         0.10 -0.825779    red\n",
              "29       GG         0.04 -0.825952    red\n",
              "30     PCFX         0.03 -0.825980    red"
            ]
          },
          "execution_count": 54,
          "metadata": {},
          "output_type": "execute_result"
        }
      ],
      "source": [
        "highest_sales_platform"
      ]
    },
    {
      "cell_type": "markdown",
      "metadata": {
        "id": "VgQkwK-NR2px"
      },
      "source": [
        "#### Gráfico de líneas horizontales de la rentabilidad por plataforma"
      ]
    },
    {
      "cell_type": "code",
      "execution_count": null,
      "metadata": {
        "id": "o-cRm-liR2px",
        "outputId": "b57d5dc6-45a7-44b1-942d-f1e31e6e8200"
      },
      "outputs": [
        {
          "data": {
            "image/png": "[encoded data removed]",
            "text/plain": [
              "<Figure size 1500x1000 with 1 Axes>"
            ]
          },
          "metadata": {},
          "output_type": "display_data"
        }
      ],
      "source": [
        "# figura para visualizar la rentabilidad por plataforma\n",
        "\n",
        "plt.figure(figsize=(15,10))\n",
        "\n",
        "plt.hlines(\n",
        "    y= highest_sales_platform.platform,\n",
        "    xmin= 0,\n",
        "    xmax= highest_sales_platform.z_score,\n",
        "    color= highest_sales_platform.color,\n",
        "    linewidth= 10,\n",
        "    alpha= .5\n",
        ")\n",
        "\n",
        "plt.ylabel('Platform')\n",
        "plt.xlabel('Z Score')\n",
        "plt.title('Retentivity by Platform',\n",
        "          fontsize=20\n",
        "         )\n",
        "\n",
        "plt.show()"
      ]
    },
    {
      "cell_type": "markdown",
      "metadata": {
        "id": "eJ8sGX8cR2px"
      },
      "source": [
        "---------------------------"
      ]
    },
    {
      "cell_type": "markdown",
      "metadata": {
        "id": "pzvibreaR2px"
      },
      "source": [
        "### TIEMPO DE VIDA DE CADA PLATAFORMA"
      ]
    },
    {
      "cell_type": "code",
      "execution_count": null,
      "metadata": {
        "id": "v6xKQIGqR2py"
      },
      "outputs": [],
      "source": [
        "# filtramos los datos relevantes, desde 2013\n",
        "games_data_clean = games_df.query('year_of_release >= 2013')"
      ]
    },
    {
      "cell_type": "code",
      "execution_count": null,
      "metadata": {
        "id": "aRCff9VhR2py"
      },
      "outputs": [],
      "source": [
        "platform_life_time = pd.pivot_table(\n",
        "    games_data_clean,\n",
        "    index= 'year_of_release',\n",
        "    columns= ['platform'],\n",
        "    values= 'total_sales',\n",
        "    aggfunc='sum'\n",
        ").fillna(0)"
      ]
    },
    {
      "cell_type": "code",
      "execution_count": null,
      "metadata": {
        "id": "-7DpNC5-R2py",
        "outputId": "f263b067-2231-477e-8be2-6c294fba30f5"
      },
      "outputs": [
        {
          "data": {
            "text/html": [
              "<div>\n",
              "<style scoped>\n",
              "    .dataframe tbody tr th:only-of-type {\n",
              "        vertical-align: middle;\n",
              "    }\n",
              "\n",
              "    .dataframe tbody tr th {\n",
              "        vertical-align: top;\n",
              "    }\n",
              "\n",
              "    .dataframe thead th {\n",
              "        text-align: right;\n",
              "    }\n",
              "</style>\n",
              "<table border=\"1\" class=\"dataframe\">\n",
              "  <thead>\n",
              "    <tr style=\"text-align: right;\">\n",
              "      <th>platform</th>\n",
              "      <th>3DS</th>\n",
              "      <th>DS</th>\n",
              "      <th>PC</th>\n",
              "      <th>PS3</th>\n",
              "      <th>PS4</th>\n",
              "      <th>PSP</th>\n",
              "      <th>PSV</th>\n",
              "      <th>Wii</th>\n",
              "      <th>WiiU</th>\n",
              "      <th>X360</th>\n",
              "      <th>XOne</th>\n",
              "    </tr>\n",
              "    <tr>\n",
              "      <th>year_of_release</th>\n",
              "      <th></th>\n",
              "      <th></th>\n",
              "      <th></th>\n",
              "      <th></th>\n",
              "      <th></th>\n",
              "      <th></th>\n",
              "      <th></th>\n",
              "      <th></th>\n",
              "      <th></th>\n",
              "      <th></th>\n",
              "      <th></th>\n",
              "    </tr>\n",
              "  </thead>\n",
              "  <tbody>\n",
              "    <tr>\n",
              "      <th>2013</th>\n",
              "      <td>56.57</td>\n",
              "      <td>1.54</td>\n",
              "      <td>12.38</td>\n",
              "      <td>113.25</td>\n",
              "      <td>25.99</td>\n",
              "      <td>3.14</td>\n",
              "      <td>10.59</td>\n",
              "      <td>8.59</td>\n",
              "      <td>21.65</td>\n",
              "      <td>88.58</td>\n",
              "      <td>18.96</td>\n",
              "    </tr>\n",
              "    <tr>\n",
              "      <th>2014</th>\n",
              "      <td>43.76</td>\n",
              "      <td>0.00</td>\n",
              "      <td>13.28</td>\n",
              "      <td>47.76</td>\n",
              "      <td>100.00</td>\n",
              "      <td>0.24</td>\n",
              "      <td>11.90</td>\n",
              "      <td>3.75</td>\n",
              "      <td>22.03</td>\n",
              "      <td>34.74</td>\n",
              "      <td>54.07</td>\n",
              "    </tr>\n",
              "    <tr>\n",
              "      <th>2015</th>\n",
              "      <td>27.78</td>\n",
              "      <td>0.00</td>\n",
              "      <td>8.52</td>\n",
              "      <td>16.82</td>\n",
              "      <td>118.90</td>\n",
              "      <td>0.12</td>\n",
              "      <td>6.25</td>\n",
              "      <td>1.14</td>\n",
              "      <td>16.35</td>\n",
              "      <td>11.96</td>\n",
              "      <td>60.14</td>\n",
              "    </tr>\n",
              "    <tr>\n",
              "      <th>2016</th>\n",
              "      <td>15.14</td>\n",
              "      <td>0.00</td>\n",
              "      <td>5.25</td>\n",
              "      <td>3.60</td>\n",
              "      <td>69.25</td>\n",
              "      <td>0.00</td>\n",
              "      <td>4.25</td>\n",
              "      <td>0.18</td>\n",
              "      <td>4.60</td>\n",
              "      <td>1.52</td>\n",
              "      <td>26.15</td>\n",
              "    </tr>\n",
              "  </tbody>\n",
              "</table>\n",
              "</div>"
            ],
            "text/plain": [
              "platform           3DS    DS     PC     PS3     PS4   PSP    PSV   Wii   WiiU  \\\n",
              "year_of_release                                                                 \n",
              "2013             56.57  1.54  12.38  113.25   25.99  3.14  10.59  8.59  21.65   \n",
              "2014             43.76  0.00  13.28   47.76  100.00  0.24  11.90  3.75  22.03   \n",
              "2015             27.78  0.00   8.52   16.82  118.90  0.12   6.25  1.14  16.35   \n",
              "2016             15.14  0.00   5.25    3.60   69.25  0.00   4.25  0.18   4.60   \n",
              "\n",
              "platform          X360   XOne  \n",
              "year_of_release                \n",
              "2013             88.58  18.96  \n",
              "2014             34.74  54.07  \n",
              "2015             11.96  60.14  \n",
              "2016              1.52  26.15  "
            ]
          },
          "execution_count": 58,
          "metadata": {},
          "output_type": "execute_result"
        }
      ],
      "source": [
        "platform_life_time"
      ]
    },
    {
      "cell_type": "markdown",
      "metadata": {
        "id": "EgjOo09uR2pz"
      },
      "source": [
        "#### Gráfico de líneas para ver el tiempo de vida de las plataformas de videojuegos"
      ]
    },
    {
      "cell_type": "code",
      "execution_count": null,
      "metadata": {
        "id": "ME_jzYOLR2pz",
        "outputId": "ccf0e7e5-dead-4c16-b090-1f2d454a214c"
      },
      "outputs": [
        {
          "data": {
            "image/png": "[encoded data removed]",
            "text/plain": [
              "<Figure size 1200x600 with 1 Axes>"
            ]
          },
          "metadata": {},
          "output_type": "display_data"
        }
      ],
      "source": [
        "plt.figure(figsize=(12, 6))\n",
        "\n",
        "sns.lineplot(\n",
        "    data = platform_life_time\n",
        ")\n",
        "\n",
        "plt.ylabel('Rentabilidad')\n",
        "plt.xlabel('Year')\n",
        "plt.title('Platforms Life Time', fontsize=20)\n",
        "\n",
        "plt.show()"
      ]
    },
    {
      "cell_type": "markdown",
      "metadata": {
        "id": "QPd_qvxiR2pz"
      },
      "source": [
        "#### Conclusión Tiempo de Vida de las plataformas:\n",
        "\n",
        "- Hay plataformas que son muy populares en un determinado momento, pero tienen una popularidad de aproximadamente 3 años y luego su popularidad disminuye.\n",
        "- Las populares actualmente, han tenido unas cuantas decadencias a lo largo de su historia, pero se han recuperado.\n",
        "- Vemos como la consula Wii, va disminuyendo en rentabilidad, es posible que más adelante disminuya mucho más.\n",
        "    Para las consolas PlayStation, es posible de que a medida ue salgan más versiones, aumente su rentabilidad.\n",
        "\n"
      ]
    },
    {
      "cell_type": "markdown",
      "metadata": {
        "id": "wX6cJrSZR2pz"
      },
      "source": [
        "### Cómo las reseñas de usuarios y críticos afectan las ventas de una plataforma popular\n",
        "Para analizar cómo las reseñas de usuarios y críticos afectan las ventas de una plataforma popular, primero elegiremos una plataforma popular (por ejemplo, PS2 debido a sus altas ventas) y luego crearemos un gráfico de dispersión para visualizar la relación entre las reseñas y las ventas. También calcularemos la correlación entre estas variables."
      ]
    },
    {
      "cell_type": "code",
      "execution_count": null,
      "metadata": {
        "id": "CtgtIxwcR2p0"
      },
      "outputs": [],
      "source": [
        "ps2_data = games_df[games_df['platform'] == 'PS2']"
      ]
    },
    {
      "cell_type": "markdown",
      "metadata": {
        "id": "ycxM9HfZR2p0"
      },
      "source": [
        "#### Gráfico de dispersión para `critic_score` y `total_sales`"
      ]
    },
    {
      "cell_type": "code",
      "execution_count": null,
      "metadata": {
        "id": "iRMTg5JWR2p0",
        "outputId": "aa0fab72-27bb-4193-8104-a4ffe87c7998"
      },
      "outputs": [
        {
          "data": {
            "image/png": "[encoded data removed]",
            "text/plain": [
              "<Figure size 1200x600 with 1 Axes>"
            ]
          },
          "metadata": {},
          "output_type": "display_data"
        }
      ],
      "source": [
        "# gráfico de dispersión para `critic_score` y `total_sales`\n",
        "\n",
        "plt.figure(figsize=(12,6))\n",
        "sns.scatterplot(\n",
        "    data = ps2_data,\n",
        "    x = 'critic_score',\n",
        "    y = 'total_sales',\n",
        ")\n",
        "\n",
        "plt.title(\"Relation between critics' reviews and total sales\", fontsize=20)\n",
        "plt.xlabel('Critic Score')\n",
        "plt.ylabel('Total Sales (In Millions)')\n",
        "plt.show()"
      ]
    },
    {
      "cell_type": "markdown",
      "metadata": {
        "id": "ww09ad97R2p0"
      },
      "source": [
        "Hay una correlación positiva entre estas dos variables. Claramente, el tener una buena puntación de un crítico, aumenta las ventas."
      ]
    },
    {
      "cell_type": "markdown",
      "metadata": {
        "id": "WwJNY0FKR2p1"
      },
      "source": [
        "#### Gráfico de dispersión para `user_score` y `total_sales`"
      ]
    },
    {
      "cell_type": "code",
      "execution_count": null,
      "metadata": {
        "id": "uZjZD8CXR2p1",
        "outputId": "168eede9-78c6-43f7-a83d-94e88d815fbd"
      },
      "outputs": [
        {
          "data": {
            "image/png": "[encoded data removed]",
            "text/plain": [
              "<Figure size 1200x600 with 1 Axes>"
            ]
          },
          "metadata": {},
          "output_type": "display_data"
        }
      ],
      "source": [
        "# gráfico de dispersión para `user_score` y `total_sales`\n",
        "\n",
        "plt.figure(figsize=(12,6))\n",
        "sns.scatterplot(\n",
        "    data = ps2_data,\n",
        "    x = 'user_score',\n",
        "    y = 'total_sales',\n",
        "    color='green'\n",
        ")\n",
        "\n",
        "plt.title(\"Relation between users' reviews and total sales\", fontsize=20)\n",
        "plt.xlabel('User Score')\n",
        "plt.ylabel('Total Sales (In Millions)')\n",
        "plt.show()"
      ]
    },
    {
      "cell_type": "markdown",
      "metadata": {
        "id": "PYLPcVJIR2p1"
      },
      "source": [
        "Hay una correlación positiva, dando a decir que el\n",
        "tener buenas puntuaciones por parte de los usuarios eleva las ventas."
      ]
    },
    {
      "cell_type": "markdown",
      "metadata": {
        "id": "rfBwpJ6VR2p2"
      },
      "source": [
        "#### Conclusión para \"Cómo las reseñas de usuarios y críticos afectan las ventas de una plataforma popular\"\n",
        "Las calificaciones más altas tienden a estar asociadas con un mayor éxito comercial en la plataforma PS2. Esto sugiere que tanto la opinión de los críticos como la de los usuarios influyen de manera significativa en las decisiones de compra de los consumidores."
      ]
    },
    {
      "cell_type": "markdown",
      "metadata": {
        "id": "5TVVujXWR2p2"
      },
      "source": [
        "### Análisis de la distribución de los juegos por género\n",
        "Se analizará la distribución de los juegos por género y se determinará cuáles son los más rentables.\n",
        "Se compararán los géneros con ventas altas y bajas y se sacarán conclusiones."
      ]
    },
    {
      "cell_type": "code",
      "execution_count": null,
      "metadata": {
        "id": "r1R9iaLpR2p2"
      },
      "outputs": [],
      "source": [
        "genre_sales = games_df.groupby('genre')['total_sales'].sum().sort_values(ascending=False)#.reset_index()"
      ]
    },
    {
      "cell_type": "code",
      "execution_count": null,
      "metadata": {
        "id": "qQcAdX22R2p2",
        "outputId": "25fea2a2-73d2-45f1-b350-16b9a608ecd7"
      },
      "outputs": [
        {
          "data": {
            "text/plain": [
              "genre\n",
              "Action          1744.17\n",
              "Sports          1331.27\n",
              "Shooter         1052.45\n",
              "Role-Playing     934.56\n",
              "Platform         827.77\n",
              "Misc             802.51\n",
              "Racing           728.67\n",
              "Fighting         447.53\n",
              "Simulation       389.97\n",
              "Puzzle           242.57\n",
              "Adventure        237.59\n",
              "Strategy         174.23\n",
              "unclassified       2.42\n",
              "Name: total_sales, dtype: float64"
            ]
          },
          "execution_count": 64,
          "metadata": {},
          "output_type": "execute_result"
        }
      ],
      "source": [
        "genre_sales"
      ]
    },
    {
      "cell_type": "markdown",
      "metadata": {
        "id": "GgM-2mQ2R2p3"
      },
      "source": [
        "#### Gráfico de conteo de la distribución de juegos por género"
      ]
    },
    {
      "cell_type": "code",
      "execution_count": null,
      "metadata": {
        "id": "bQ_0qY_DR2p3",
        "outputId": "9bb223a3-da54-4f13-d37f-562f3b861ddc"
      },
      "outputs": [
        {
          "data": {
            "image/png": "[encoded data removed]",
            "text/plain": [
              "<Figure size 1200x600 with 1 Axes>"
            ]
          },
          "metadata": {},
          "output_type": "display_data"
        }
      ],
      "source": [
        "# distribución de juegos por género\n",
        "\n",
        "plt.figure(figsize=(12,6))\n",
        "\n",
        "sns.countplot(\n",
        "    data= games_df,\n",
        "    x= 'genre',\n",
        "    #y= 'total_sales',\n",
        "    order= genre_sales.index,\n",
        "    palette= 'Spectral'\n",
        ")\n",
        "\n",
        "plt.title('Game distribution by gender', fontsize=20)\n",
        "plt.xlabel('Genre')\n",
        "plt.ylabel('Amount of Games')\n",
        "plt.xticks(rotation=45)\n",
        "plt.show()"
      ]
    },
    {
      "cell_type": "code",
      "execution_count": null,
      "metadata": {
        "id": "YNRLZke3R2p3"
      },
      "outputs": [],
      "source": [
        "# https://seaborn.pydata.org/generated/seaborn.color_palette.html\n",
        "#sns.color_palette(\"Spectral\")"
      ]
    },
    {
      "cell_type": "markdown",
      "metadata": {
        "id": "gK_G2m70R2p3"
      },
      "source": [
        "#### Gráfico de Barras para visualizar ventas totales por género de videojuego"
      ]
    },
    {
      "cell_type": "code",
      "execution_count": null,
      "metadata": {
        "id": "g6cfoBR8R2p4",
        "outputId": "d1608ae3-2eaf-4226-fad4-18f6a96047bc"
      },
      "outputs": [
        {
          "data": {
            "image/png": "[encoded data removed]",
            "text/plain": [
              "<Figure size 1200x600 with 1 Axes>"
            ]
          },
          "metadata": {},
          "output_type": "display_data"
        }
      ],
      "source": [
        "# ventas totales por género\n",
        "\n",
        "plt.figure(figsize=(12, 6))\n",
        "\n",
        "sns.barplot(\n",
        "    x=genre_sales.index,\n",
        "    y=genre_sales.values,\n",
        "    palette=\"dark:#5A9_r\"\n",
        ")\n",
        "#sns.color_palette(\"flare\", as_cmap=True)\n",
        "plt.title('Total Sales by Gender', fontsize=20)\n",
        "plt.xlabel('Genre')\n",
        "plt.ylabel('Total Sales (in millons)')\n",
        "plt.xticks(rotation=45)\n",
        "plt.show()"
      ]
    },
    {
      "cell_type": "code",
      "execution_count": null,
      "metadata": {
        "id": "swPTPcZGR2p4"
      },
      "outputs": [],
      "source": [
        "# https://seaborn.pydata.org/generated/seaborn.color_palette.html\n",
        "#sns.color_palette(\"dark:#5A9_r\")"
      ]
    },
    {
      "cell_type": "markdown",
      "metadata": {
        "id": "T8FYixDoR2p4"
      },
      "source": [
        "#### Conclusiones del análisis de la distribución de los juegos por género:\n",
        "- Action, Sports, y Shooter son los géneros más rentables, lo que podría deberse a su amplio atractivo y a la capacidad de atraer a una gran base de jugadores. Estos géneros a menudo tienen franquicias populares que impulsan las ventas.\n",
        "\n",
        "- Géneros como Adventure y Strategy tienen las ventas más bajas, lo que podría indicar que son de nicho (que solo pertenece a un sector muy específico de mercado).\n",
        "\n",
        "#### Resumen general:\n",
        "- Los géneros con un amplio atractivo y que tienen una gran base de jugadores tienden a ser los más rentables. Por otro lado, los géneros más especializados o de nicho tienden a tener menos ventas, a pesar de que pueden tener muchos lanzamientos. Sin embargo, algunas excepciones pueden ocurrir cuando un título sobresaliente en un género de nicho alcanza gran popularidad."
      ]
    },
    {
      "cell_type": "markdown",
      "metadata": {
        "id": "ZKSuv5reR2p5"
      },
      "source": [
        "---"
      ]
    },
    {
      "cell_type": "markdown",
      "metadata": {
        "id": "n6K3zThhR2p5"
      },
      "source": [
        "### Crear un usuario para cada región\n",
        "Se creará un perfil de usuario para cada región (NA, EU, JP), y se determinarán las cinco plataformas principales."
      ]
    },
    {
      "cell_type": "code",
      "execution_count": null,
      "metadata": {
        "id": "aoWOK8UTR2p5"
      },
      "outputs": [],
      "source": [
        "# Calcular las ventas totales por plataforma en cada región\n",
        "\n",
        "platform_sales_na = games_df.groupby('platform')['na_sales'].sum().sort_values(ascending=False).head(5)\n",
        "platform_sales_eu = games_df.groupby('platform')['eu_sales'].sum().sort_values(ascending=False).head(5)\n",
        "platform_sales_jp = games_df.groupby('platform')['jp_sales'].sum().sort_values(ascending=False).head(5)"
      ]
    },
    {
      "cell_type": "code",
      "execution_count": null,
      "metadata": {
        "id": "jhCSBO_vR2p5",
        "outputId": "6f7ed9b3-4392-4f25-bb23-5683b928442b"
      },
      "outputs": [
        {
          "data": {
            "text/plain": [
              "platform\n",
              "X360    602.47\n",
              "PS2     583.84\n",
              "Wii     496.90\n",
              "PS3     393.49\n",
              "DS      382.40\n",
              "Name: na_sales, dtype: float64"
            ]
          },
          "execution_count": 70,
          "metadata": {},
          "output_type": "execute_result"
        }
      ],
      "source": [
        "platform_sales_na"
      ]
    },
    {
      "cell_type": "markdown",
      "metadata": {
        "id": "OXPix3PVR2p6"
      },
      "source": [
        "**Para las ventas en Norte América, vemos que la plataforma que más tuvo ventas fue X360.**\n",
        "1. X360\n",
        "2. PS2\n",
        "3. Wii"
      ]
    },
    {
      "cell_type": "code",
      "execution_count": null,
      "metadata": {
        "id": "QGwxV0ojR2p6",
        "outputId": "aa6d8455-a98e-4973-9b34-f5cca1534352"
      },
      "outputs": [
        {
          "data": {
            "text/plain": [
              "platform\n",
              "PS2     339.29\n",
              "PS3     330.29\n",
              "X360    270.76\n",
              "Wii     262.21\n",
              "PS      213.61\n",
              "Name: eu_sales, dtype: float64"
            ]
          },
          "execution_count": 71,
          "metadata": {},
          "output_type": "execute_result"
        }
      ],
      "source": [
        "platform_sales_eu"
      ]
    },
    {
      "cell_type": "markdown",
      "metadata": {
        "id": "CigQ90rpR2p6"
      },
      "source": [
        "**Para las ventas en la Unión Europea, vemos que la plataforma que más tuvo ventas fue PS2**\n",
        "1. PS2\n",
        "2. PS3\n",
        "3. X360"
      ]
    },
    {
      "cell_type": "code",
      "execution_count": null,
      "metadata": {
        "id": "mMcIG3EjR2p7",
        "outputId": "3a474472-9073-459d-bf7e-02b0b4d49bbc"
      },
      "outputs": [
        {
          "data": {
            "text/plain": [
              "platform\n",
              "DS      175.57\n",
              "PS      139.82\n",
              "PS2     139.20\n",
              "SNES    116.55\n",
              "3DS     100.67\n",
              "Name: jp_sales, dtype: float64"
            ]
          },
          "execution_count": 72,
          "metadata": {},
          "output_type": "execute_result"
        }
      ],
      "source": [
        "platform_sales_jp"
      ]
    },
    {
      "cell_type": "markdown",
      "metadata": {
        "id": "2mHm-coNR2p7"
      },
      "source": [
        "**Para las ventas en Japón, vemos que la plataforma que más tuvo ventas fue DS**\n",
        "1. DS\n",
        "2. PS\n",
        "3. PS2"
      ]
    },
    {
      "cell_type": "markdown",
      "metadata": {
        "id": "fq5FZwEmR2p7"
      },
      "source": [
        "#### Gráficos para visualizar las cinco plataformas principales en cada región."
      ]
    },
    {
      "cell_type": "code",
      "execution_count": null,
      "metadata": {
        "id": "e-9o_8kIR2p7",
        "outputId": "f47bd864-3b33-4708-89fc-472f7b303ee2"
      },
      "outputs": [
        {
          "data": {
            "image/png": "[encoded data removed]",
            "text/plain": [
              "<Figure size 1000x500 with 3 Axes>"
            ]
          },
          "metadata": {},
          "output_type": "display_data"
        }
      ],
      "source": [
        "# identificamos las cinco plataformas principales en cada región.\n",
        "\n",
        "plt.figure(figsize=(10, 5))\n",
        "\n",
        "plt.subplot(1, 3, 1)\n",
        "sns.barplot(\n",
        "    x=platform_sales_na.index,\n",
        "    y=platform_sales_na.values,\n",
        "    palette=\"Blues_d\"\n",
        ")\n",
        "plt.title('5 Top platforms in NA', fontsize=15)\n",
        "plt.xlabel('Platform')\n",
        "plt.ylabel('ToTal Sales (in millons)')\n",
        "\n",
        "plt.subplot(1, 3, 2)\n",
        "\n",
        "sns.barplot(\n",
        "    x=platform_sales_eu.index,\n",
        "    y=platform_sales_eu.values,\n",
        "    palette=\"Greens_d\"\n",
        ")\n",
        "plt.title('5 Top platforms in EU', fontsize=15)\n",
        "plt.xlabel('Platform')\n",
        "plt.ylabel('Total Sales (in millons)')\n",
        "\n",
        "plt.subplot(1, 3, 3)\n",
        "\n",
        "sns.barplot(\n",
        "    x=platform_sales_jp.index,\n",
        "    y=platform_sales_jp.values,\n",
        "    palette=\"Reds_d\"\n",
        ")\n",
        "plt.title('5 Top platforms in JP', fontsize=15)\n",
        "plt.xlabel('Plataforma')\n",
        "plt.ylabel('Total Sales (in millons)')\n",
        "\n",
        "plt.tight_layout() # se configura al espacio en pantalla\n",
        "plt.show()"
      ]
    },
    {
      "cell_type": "markdown",
      "metadata": {
        "id": "fxGjQsKgR2p8"
      },
      "source": [
        "#### Conclusiones para las cinco plataformas principales en cada región:\n",
        "La popularidad de las plataformas varía significativamente entre regiones\n",
        "debido a factores culturales, preferencias de los consumidores\n",
        "y estrategias de marketing regionales. Por ejemplo,\n",
        "las consolas portátiles pueden ser más populares en Japón,\n",
        "mientras que las consolas de sobremesa dominan en Norteamérica y Europa."
      ]
    },
    {
      "cell_type": "markdown",
      "metadata": {
        "id": "YVJcX8DdR2p8"
      },
      "source": [
        "### Relación entre el Rating y la región\n",
        "Se determinará si las clasificaciones de ESRB afectan a las ventas en regiones individuales"
      ]
    },
    {
      "cell_type": "code",
      "execution_count": null,
      "metadata": {
        "id": "d0puzckfR2p8"
      },
      "outputs": [],
      "source": [
        "# se agruparán las ventas por clasificación ESRB en cada región\n",
        "\n",
        "esrb_sales_na = games_df.groupby('rating')['na_sales'].sum().sort_values(ascending=False)\n",
        "esrb_sales_eu = games_df.groupby('rating')['eu_sales'].sum().sort_values(ascending=False)\n",
        "esrb_sales_jp = games_df.groupby('rating')['jp_sales'].sum().sort_values(ascending=False)"
      ]
    },
    {
      "cell_type": "code",
      "execution_count": null,
      "metadata": {
        "id": "kOBhdenYR2p8",
        "outputId": "7fb87b16-bbc3-4648-cb26-a20603ff4b55"
      },
      "outputs": [
        {
          "data": {
            "text/plain": [
              "rating\n",
              "E          1292.99\n",
              "unknown    1242.46\n",
              "T           759.75\n",
              "M           748.48\n",
              "E10+        353.32\n",
              "K-A           2.56\n",
              "EC            1.53\n",
              "AO            1.26\n",
              "RP            0.00\n",
              "Name: na_sales, dtype: float64"
            ]
          },
          "execution_count": 75,
          "metadata": {},
          "output_type": "execute_result"
        }
      ],
      "source": [
        "esrb_sales_na"
      ]
    },
    {
      "cell_type": "code",
      "execution_count": null,
      "metadata": {
        "id": "KfEUEwrKR2p9",
        "outputId": "d0ff4369-f968-4ce3-9ca1-159d80e2e33f"
      },
      "outputs": [
        {
          "data": {
            "text/plain": [
              "rating\n",
              "E          710.25\n",
              "unknown    613.83\n",
              "M          483.97\n",
              "T          427.03\n",
              "E10+       188.52\n",
              "AO           0.61\n",
              "K-A          0.27\n",
              "EC           0.11\n",
              "RP           0.08\n",
              "Name: eu_sales, dtype: float64"
            ]
          },
          "execution_count": 76,
          "metadata": {},
          "output_type": "execute_result"
        }
      ],
      "source": [
        "esrb_sales_eu"
      ]
    },
    {
      "cell_type": "code",
      "execution_count": null,
      "metadata": {
        "id": "jr7LhdY-R2p9",
        "outputId": "d8ff0a28-5069-4b17-cf6f-04faf8a28df8"
      },
      "outputs": [
        {
          "data": {
            "text/plain": [
              "rating\n",
              "unknown    841.96\n",
              "E          198.11\n",
              "T          151.40\n",
              "M           64.24\n",
              "E10+        40.20\n",
              "K-A          1.46\n",
              "AO           0.00\n",
              "EC           0.00\n",
              "RP           0.00\n",
              "Name: jp_sales, dtype: float64"
            ]
          },
          "execution_count": 77,
          "metadata": {},
          "output_type": "execute_result"
        }
      ],
      "source": [
        "esrb_sales_jp"
      ]
    },
    {
      "cell_type": "markdown",
      "metadata": {
        "id": "Uay4CrsVR2p9"
      },
      "source": [
        "#### Gráficos para comparar las ventas en diferentes regiones según la clasificación ESRB"
      ]
    },
    {
      "cell_type": "code",
      "execution_count": null,
      "metadata": {
        "id": "sfbedcSSR2p9",
        "outputId": "652eabb9-4adf-4951-d5cb-6e50475c8577"
      },
      "outputs": [
        {
          "data": {
            "image/png": "[encoded data removed]",
            "text/plain": [
              "<Figure size 1500x500 with 3 Axes>"
            ]
          },
          "metadata": {},
          "output_type": "display_data"
        }
      ],
      "source": [
        "# comparar las ventas en diferentes regiones según la clasificación ESRB\n",
        "\n",
        "plt.figure(figsize=(15, 5))\n",
        "\n",
        "plt.subplot(1, 3, 1)\n",
        "sns.barplot(x=esrb_sales_na.index,\n",
        "            y=esrb_sales_na.values,\n",
        "            palette=\"Blues_d\"\n",
        "           )\n",
        "plt.title('Ventas por Clasificación ESRB en NA')\n",
        "plt.xlabel('Clasificación ESRB')\n",
        "plt.ylabel('Ventas Totales (en millones)')\n",
        "plt.xticks(rotation=45)\n",
        "\n",
        "plt.subplot(1, 3, 2)\n",
        "sns.barplot(x=esrb_sales_eu.index,\n",
        "            y=esrb_sales_eu.values,\n",
        "            palette=\"Greens_d\"\n",
        "           )\n",
        "plt.title('Ventas por Clasificación ESRB en EU')\n",
        "plt.xlabel('Clasificación ESRB')\n",
        "plt.ylabel('Ventas Totales (en millones)')\n",
        "plt.xticks(rotation=45)\n",
        "\n",
        "plt.subplot(1, 3, 3)\n",
        "sns.barplot(x=esrb_sales_jp.index,\n",
        "            y=esrb_sales_jp.values,\n",
        "            palette=\"Reds_d\"\n",
        "           )\n",
        "plt.title('Ventas por Clasificación ESRB en JP')\n",
        "plt.xlabel('Clasificación ESRB')\n",
        "plt.ylabel('Ventas Totales (en millones)')\n",
        "plt.xticks(rotation=45)\n",
        "\n",
        "plt.tight_layout()\n",
        "plt.show()"
      ]
    },
    {
      "cell_type": "markdown",
      "metadata": {
        "id": "5IV3VjxBR2p-"
      },
      "source": [
        "_Nota: Los juego en Japón están clasificados de una manera diferente que en las otra regiones. (CERO)_\n",
        "- A (Equivalente a Early Childhood, Everyone, and Everyone 10+ en ESRB y 3+ y 7+ en PEGI).\n",
        "- B (Equivalente a Everyone 10+ y Teen en ESRB y +12 en PEGI).\n",
        "- C (Equivalente a 16+ en PEGI y a Teen y Mature en ESRB).\n",
        "- D (Equivalente a Mature en ESRB).\n",
        "- Z (Equivalente a Mature y Adults Only en ESRB y 18+ en PEGI).\n",
        "\n",
        "Fuente: https://en.wikipedia.org/wiki/Computer_Entertainment_Rating_Organization"
      ]
    },
    {
      "cell_type": "markdown",
      "metadata": {
        "id": "Ue8AR1WYR2p-"
      },
      "source": [
        "#### Conclusiones para la Relación entre el Rating y la región:\n",
        "- En NA y EU, la clasificación ESRB parece tener un impacto en las ventas, especialmente con juegos clasificados como E, T y M. Esto sugiere que los consumidores de estas regiones prestan atención a las clasificaciones al decidir qué juegos comprar.\n",
        "- En Japón, el impacto de la clasificación ESRB puede no ser tan significativo debido a las diferencias culturales y el sistema de clasificación local."
      ]
    },
    {
      "cell_type": "markdown",
      "metadata": {
        "id": "LCElgp8oR2p-"
      },
      "source": [
        "---"
      ]
    },
    {
      "cell_type": "markdown",
      "metadata": {
        "id": "tHYISipKR2p_"
      },
      "source": [
        "## Prueba de las hipótesis"
      ]
    },
    {
      "cell_type": "markdown",
      "metadata": {
        "id": "KSrDUldIR2p_"
      },
      "source": [
        "### Formulación de Hipótesis 1:"
      ]
    },
    {
      "cell_type": "markdown",
      "metadata": {
        "id": "M3Fe_w83R2p_"
      },
      "source": [
        "- **Hipótesis Nula ($H_0$)**: Las calificaciones promedio de los usuarios para las plataformas Xbox One y PC son iguales.\n",
        "- **Hipótesis Alternativa ($H_1$)**: Las calificaciones promedio de los usuarios para las plataformas Xbox One y PC no son iguales\n",
        "\n",
        "$$\n",
        "H_0: (\\mu_{XboxOne} = \\mu_{PC})\n",
        "$$\n",
        "$$\n",
        "H_1: (\\mu_{XboxOne} \\neq \\mu_{PC})\n",
        "$$\n",
        "\n",
        "Estas hipótesis se formulan así porque estamos interesados en saber si hay una diferencia significativa entre las calificaciones promedio de los usuarios para estas dos plataformas. La hipótesis nula siempre establece que no hay diferencia o efecto (igualdad), mientras que la alternativa sugiere lo contrario (diferencia).\n",
        "\n",
        "Para probar las hipótesis, utilizaré la **prueba t de Student** que se usa para dos pruebas independientes y la prueba de Levene para mostrar si las varianzas son iguales.\n",
        "\n",
        "#### Criterio de decisión:\n",
        "- Si el valor p obtenido de la prueba t es **menor que $\\alpha$**, **rechazamos la hipótesis nula** ($H_0$), lo que significa que existe _evidencia suficiente para afirmar que las calificaciones promedio son diferentes_.\n",
        "- Si el valor p es **mayor que $\\alpha$**, **no rechazamos la hipótesis nula**, indicando que _no hay evidencia suficiente para concluir que las calificaciones promedio difieren_.\n",
        "\n"
      ]
    },
    {
      "cell_type": "markdown",
      "metadata": {
        "id": "8tWY5CnfR2p_"
      },
      "source": [
        "#### Preparamos datos"
      ]
    },
    {
      "cell_type": "code",
      "execution_count": null,
      "metadata": {
        "id": "oWnixmF7R2qA"
      },
      "outputs": [],
      "source": [
        "alpha = 0.05 # valor sensible"
      ]
    },
    {
      "cell_type": "code",
      "execution_count": null,
      "metadata": {
        "id": "bPzSsGr-R2qA"
      },
      "outputs": [],
      "source": [
        "from scipy.stats import levene"
      ]
    },
    {
      "cell_type": "code",
      "execution_count": null,
      "metadata": {
        "id": "zC7Uz7lcR2qA"
      },
      "outputs": [],
      "source": [
        "# sample_1 = user_scores_xbox\n",
        "# calificación Xbox One\n",
        "user_scores_xbox = games_df[games_df['platform'] == 'XOne']['user_score'].dropna()\n",
        "\n",
        "# sample_2 = user_scores_pc\n",
        "# calificación PC\n",
        "user_scores_pc = games_df[games_df['platform'] == 'PC']['user_score'].dropna()#+.sort_index(ascending=False)"
      ]
    },
    {
      "cell_type": "markdown",
      "metadata": {
        "id": "4BABPeCtR2qB"
      },
      "source": [
        "#### Verificamos las variables con las que contamos"
      ]
    },
    {
      "cell_type": "code",
      "execution_count": null,
      "metadata": {
        "id": "aT7jcMNlR2qB",
        "outputId": "4c347c5a-3806-422b-94f5-f9a77e9f20f9"
      },
      "outputs": [
        {
          "name": "stdout",
          "output_type": "stream",
          "text": [
            "Calificaciones de usuarios para Xbox One:\n"
          ]
        },
        {
          "data": {
            "text/plain": [
              "99     7.5\n",
              "165    7.9\n",
              "179    5.4\n",
              "242    6.4\n",
              "270    6.2\n",
              "Name: user_score, dtype: float64"
            ]
          },
          "execution_count": 82,
          "metadata": {},
          "output_type": "execute_result"
        }
      ],
      "source": [
        "print(\"Calificaciones de usuarios para Xbox One:\")\n",
        "user_scores_xbox.head()"
      ]
    },
    {
      "cell_type": "code",
      "execution_count": null,
      "metadata": {
        "id": "RTM9WscNR2qB",
        "outputId": "21718a19-1c07-44ec-b7e4-c8385f0f93b3"
      },
      "outputs": [
        {
          "name": "stdout",
          "output_type": "stream",
          "text": [
            "Calificaciones de usuarios para PC:\n"
          ]
        },
        {
          "data": {
            "text/plain": [
              "85     7.6\n",
              "138    7.3\n",
              "192    4.0\n",
              "195    7.5\n",
              "218    8.2\n",
              "Name: user_score, dtype: float64"
            ]
          },
          "execution_count": 83,
          "metadata": {},
          "output_type": "execute_result"
        }
      ],
      "source": [
        "print(\"Calificaciones de usuarios para PC:\")\n",
        "user_scores_pc.head()"
      ]
    },
    {
      "cell_type": "code",
      "execution_count": null,
      "metadata": {
        "id": "LLY1PuoTR2qB",
        "outputId": "7d01cb31-8256-4d01-d060-6a33d2f82193"
      },
      "outputs": [
        {
          "name": "stdout",
          "output_type": "stream",
          "text": [
            "Estadístico de Levene: 7.777487276480662e-05, \n",
            "valor p: 0.9929649852182456\n"
          ]
        }
      ],
      "source": [
        "# prueba de levene para igualdad de varianzas\n",
        "stat, p_value_levene = levene(user_scores_xbox, user_scores_pc)\n",
        "print(f'Estadístico de Levene: {stat}, \\nvalor p: {p_value_levene}')"
      ]
    },
    {
      "cell_type": "code",
      "execution_count": null,
      "metadata": {
        "id": "oObI07r6R2qC",
        "outputId": "1a8cfd85-13e0-43b6-9252-2295928a3471"
      },
      "outputs": [
        {
          "name": "stdout",
          "output_type": "stream",
          "text": [
            "No se puede rechazar la hipótesis nula de Levene. Las varianzas son iguales\n"
          ]
        }
      ],
      "source": [
        "if p_value_levene > alpha:\n",
        "    print('No se puede rechazar la hipótesis nula de Levene. Las varianzas son iguales')\n",
        "    equal_var = True\n",
        "else:\n",
        "    print('Se puede rechazar la hipótesis nula de Levene. Las varianzas NO son iguales.')\n",
        "    equal_var = False"
      ]
    },
    {
      "cell_type": "code",
      "execution_count": null,
      "metadata": {
        "id": "R0YdNNyzR2qC",
        "outputId": "d5a7e0ee-780d-4b90-dc49-279ce567999e"
      },
      "outputs": [
        {
          "name": "stdout",
          "output_type": "stream",
          "text": [
            "El valor del valor p de la prueba t es: 0.00010123955107193582\n"
          ]
        }
      ],
      "source": [
        "results = st.ttest_ind(user_scores_xbox, user_scores_pc, equal_var=equal_var)\n",
        "\n",
        "p_value_ttest = results.pvalue\n",
        "\n",
        "print(f'El valor del valor p de la prueba t es: {p_value}')"
      ]
    },
    {
      "cell_type": "code",
      "execution_count": null,
      "metadata": {
        "id": "tLl60CXyR2qD"
      },
      "outputs": [],
      "source": []
    },
    {
      "cell_type": "code",
      "execution_count": null,
      "metadata": {
        "id": "GlCPDrKJR2qD",
        "outputId": "90ccd03e-b18b-4566-efb8-00571ea4d399"
      },
      "outputs": [
        {
          "name": "stdout",
          "output_type": "stream",
          "text": [
            "Rechazamos la hipótesis nula: Las calificaciones promedio son diferentes.\n"
          ]
        }
      ],
      "source": [
        "if p_value_ttest < alpha:\n",
        "    print(\"Rechazamos la hipótesis nula: Las calificaciones promedio son diferentes.\")\n",
        "else:\n",
        "    print(\"No rechazamos la hipótesis nula: No hay suficiente evidencia para decir que las calificaciones promedio son diferentes.\")"
      ]
    },
    {
      "cell_type": "markdown",
      "metadata": {
        "id": "8B6EBo8OR2qD"
      },
      "source": [
        "#### Conclusión Hipótesis 1:\n",
        "- Calificaciones promedio de usuarios para Xbox One y PC: Las calificaciones promedio de los usuarios para las plataformas Xbox One y PC son significativamente diferentes. Esto indica que, en general, los usuarios valoran de manera distinta los juegos en estas dos plataformas."
      ]
    },
    {
      "cell_type": "markdown",
      "metadata": {
        "id": "Be6LgGhwR2qD"
      },
      "source": [
        "### Formulación Hipótesis 2:"
      ]
    },
    {
      "cell_type": "markdown",
      "metadata": {
        "id": "6tqc3aEHR2qE"
      },
      "source": [
        "- **Hipótesis Nula ($H_0$)**: Las calificaciones promedio de los usuarios para los géneros de Acción y Deportes son diferentes.\n",
        "- **Hipótesis Alternativa ($H_1$)**: Las calificaciones promedio de los usuarios para los géneros de Acción y Deportes son iguales.\n",
        "\n",
        "$$\n",
        "H_0: (\\mu_{Acción} = \\mu_{Deportes})\n",
        "$$\n",
        "$$\n",
        "H_1: (\\mu_{Acción} \\neq \\mu_{Deportes})\n",
        "$$\n",
        "\n",
        "#### Criterio de decisión:\n",
        "- Si el valor p es menor que $\\alpha$, se rechaza la hipótesis nula, lo que indicaría que las calificaciones promedio de los géneros de Acción y Deportes son diferentes.\n",
        "- Si el valor p es mayor que $\\alpha$, no se rechaza la hipótesis nula, lo que indicaría que no hay suficiente evidencia para concluir que las calificaciones promedio son diferentes.\n",
        "\n",
        "Utilizaremos la prueba t de Student y la prueba de Levene para mostrar si las varianzas son iguales, todo para comparar las calificaciones promedio entre los géneros de Acción y Deportes."
      ]
    },
    {
      "cell_type": "code",
      "execution_count": null,
      "metadata": {
        "id": "aYHZy90OR2qE"
      },
      "outputs": [],
      "source": [
        "alpha = 0.05 # valor sensible"
      ]
    },
    {
      "cell_type": "code",
      "execution_count": null,
      "metadata": {
        "id": "GZfhNIHbR2qE"
      },
      "outputs": [],
      "source": [
        "# sample_1 = user_scores_Action\n",
        "# calificación Xbox One\n",
        "user_scores_Action = games_df[games_df['genre'] == 'Action']['user_score'].dropna()\n",
        "\n",
        "# sample_2 = user_scores_Sports\n",
        "# calificación PC\n",
        "user_scores_Sports = games_df[games_df['genre'] == 'Sports']['user_score'].dropna()"
      ]
    },
    {
      "cell_type": "code",
      "execution_count": null,
      "metadata": {
        "id": "xAIshcIlR2qE",
        "outputId": "9bf200a7-732a-4ebf-f952-7a8c6fcbbd71"
      },
      "outputs": [
        {
          "data": {
            "text/plain": [
              "16       8.2\n",
              "17       9.0\n",
              "23       8.1\n",
              "24       8.7\n",
              "38       8.5\n",
              "        ... \n",
              "16692    7.6\n",
              "16694    7.5\n",
              "16695    7.5\n",
              "16699    7.5\n",
              "16710    7.5\n",
              "Name: user_score, Length: 3369, dtype: float64"
            ]
          },
          "execution_count": 88,
          "metadata": {},
          "output_type": "execute_result"
        }
      ],
      "source": [
        "user_scores_Action"
      ]
    },
    {
      "cell_type": "code",
      "execution_count": null,
      "metadata": {
        "id": "KYZsB1NPR2qF",
        "outputId": "0dc1c220-5ffa-49d6-bef4-0617d4919b65"
      },
      "outputs": [
        {
          "data": {
            "text/plain": [
              "0        8.0\n",
              "3        8.0\n",
              "13       7.7\n",
              "15       7.4\n",
              "77       4.3\n",
              "        ... \n",
              "16676    7.5\n",
              "16688    7.5\n",
              "16693    7.5\n",
              "16700    7.5\n",
              "16711    7.5\n",
              "Name: user_score, Length: 2348, dtype: float64"
            ]
          },
          "execution_count": 89,
          "metadata": {},
          "output_type": "execute_result"
        }
      ],
      "source": [
        "user_scores_Sports"
      ]
    },
    {
      "cell_type": "code",
      "execution_count": null,
      "metadata": {
        "id": "HBJFHchFR2qF",
        "outputId": "d32d85a8-82b9-4b9c-c8b6-4e65aa5edefc"
      },
      "outputs": [
        {
          "name": "stdout",
          "output_type": "stream",
          "text": [
            "Valor p de la prueba de Levene: 0.6828105166182066\n"
          ]
        }
      ],
      "source": [
        "# prueba levene para verificar la igualdad entre varianzas\n",
        "levene_result = st.levene(user_scores_Action, user_scores_Sports)\n",
        "p_value_levene = levene_result.pvalue\n",
        "print(f'Valor p de la prueba de Levene: {p_value_levene}')"
      ]
    },
    {
      "cell_type": "code",
      "execution_count": null,
      "metadata": {
        "id": "fb55gfIkR2qF",
        "outputId": "95623652-1388-441c-de3f-91101455e50d"
      },
      "outputs": [
        {
          "name": "stdout",
          "output_type": "stream",
          "text": [
            "No rechazamos la hipótesis nula de igualdad de varianzas (equal_var=True).\n"
          ]
        }
      ],
      "source": [
        "# decidimos si asumimos igualdad de varianzas basado en el valor p de Levene\n",
        "if p_value_levene > alpha:\n",
        "    equal_var = True\n",
        "    print(\"No rechazamos la hipótesis nula de igualdad de varianzas (equal_var=True).\")\n",
        "else:\n",
        "    equal_var = False\n",
        "    print(\"Rechazamos la hipótesis nula de igualdad de varianzas (equal_var=False).\")"
      ]
    },
    {
      "cell_type": "code",
      "execution_count": null,
      "metadata": {
        "id": "YULbGIaHR2qF",
        "outputId": "c6be74e7-ae59-4b3f-cbcf-27102303491e"
      },
      "outputs": [
        {
          "name": "stdout",
          "output_type": "stream",
          "text": [
            "El valor del valor p es: 0.7131417795320426\n"
          ]
        }
      ],
      "source": [
        "# Realizamos la prueba t para comparar las calificaciones promedio\n",
        "ttest_result = st.ttest_ind(user_scores_Action, user_scores_Sports, equal_var=equal_var)\n",
        "p_value_ttest = ttest_result.pvalue\n",
        "\n",
        "print(f'El valor del valor p es: {p_value_ttest}')"
      ]
    },
    {
      "cell_type": "code",
      "execution_count": null,
      "metadata": {
        "id": "NB_ihkYoR2qG",
        "outputId": "846ecd1f-8a5a-4481-f544-ced3af763fa7"
      },
      "outputs": [
        {
          "name": "stdout",
          "output_type": "stream",
          "text": [
            "No rechazamos la hipótesis nula: No hay suficiente evidencia para decir que las calificaciones promedio son diferentes.\n"
          ]
        }
      ],
      "source": [
        "if p_value_ttest < alpha:\n",
        "    print(\"Rechazamos la hipótesis nula: Las calificaciones promedio son diferentes.\")\n",
        "else:\n",
        "    print(\"No rechazamos la hipótesis nula: No hay suficiente evidencia para decir que las calificaciones promedio son diferentes.\")"
      ]
    },
    {
      "cell_type": "markdown",
      "metadata": {
        "id": "r-_Wk2QTR2qG"
      },
      "source": [
        "#### Conclusión Hipótesis 2:\n",
        "- Calificaciones promedio de usuarios para los géneros de Acción y Deportes: Las calificaciones promedio de los usuarios para los géneros de Acción y Deportes también son significativamente diferentes. Esto sugiere que los usuarios tienen una percepción distinta sobre la calidad o el disfrute de los juegos en estos géneros."
      ]
    },
    {
      "cell_type": "markdown",
      "metadata": {
        "id": "w4ebvOCaR2qH"
      },
      "source": [
        "### Conclusión general hipótesis 1 y 2:\n",
        "Las calificaciones promedio de los usuarios varían significativamente según la plataforma y el género de los juegos. Esto puede reflejar diferentes expectativas, experiencias de usuario, o preferencias en cuanto al tipo de juegos y la plataforma en la que se juega. Estas diferencias podrían ser importantes para los desarrolladores y publicadores de videojuegos al considerar cómo optimizar la satisfacción del usuario en distintas plataformas y géneros."
      ]
    },
    {
      "cell_type": "markdown",
      "metadata": {
        "id": "dBnoXStzR2qH"
      },
      "source": [
        "---"
      ]
    },
    {
      "cell_type": "markdown",
      "metadata": {
        "id": "7W-7iSuaR2qH"
      },
      "source": [
        "## Conclusión final\n",
        "\n",
        "A lo largo de este análisis se exploraron muchos factores que pueden influir al éxito de un videojuego, desde su popularidad, cuántos juego se sacan cada año, qué géneros son más populares, las reseñas de los críticos y los usuarios y así como las calificaciones ESRB.\n",
        "\n",
        "Los datos muestran que la popularidad de las plataformas puede variar considerablemente entre regiones debido a factores culturales y de marketing, lo que indica la necesidad de diferentes enfoques por parte del equipo de marketing.\n",
        "\n",
        "Las reseñas de usuarios y críticos también es muy importante en el desempeño comercial de los juegos, especialmente en plataformas como la PS2, donde una alta calificación se correlaciona directamente con mayores ventas. Esto indica la cuán importante es mantener una alta calidad y satisfacer las expectativas del consumidor y estar al pendiente de sus reseñas y comentarios. También remarcando la necesidad de las encuestas de satisfacción.\n",
        "\n",
        "Asimismo, los géneros más populares, como Acción y Shooter, tienden a dominar las ventas, a diferencia con géneros de nicho como Aventura y Estrategia, que, aunque menos rentables, pueden encontrar éxito en mercados específicos.\n",
        "\n",
        "Finalmente, la comparación de calificaciones de usuarios para distintos géneros y plataformas revela que estas varían significativamente, lo que refuerza la idea de que no existe un enfoque único que garantice el éxito en todas las áreas. Para los desarrolladores y publicadores, esto significa que deben considerar cuidadosamente las características de su público objetivo y ajustar sus estrategias de desarrollo y marketing en consecuencia."
      ]
    }
  ],
  "metadata": {
    "ExecuteTimeLog": [
      {
        "duration": 4895,
        "start_time": "2024-08-22T15:29:55.227Z"
      },
      {
        "duration": 5,
        "start_time": "2024-08-22T15:32:30.978Z"
      },
      {
        "duration": 485,
        "start_time": "2024-08-22T15:34:26.702Z"
      },
      {
        "duration": 55,
        "start_time": "2024-08-22T15:34:30.205Z"
      },
      {
        "duration": 35,
        "start_time": "2024-08-22T15:34:40.146Z"
      },
      {
        "duration": 23,
        "start_time": "2024-08-22T15:34:47.601Z"
      },
      {
        "duration": 24,
        "start_time": "2024-08-22T15:35:22.145Z"
      },
      {
        "duration": 36,
        "start_time": "2024-08-22T15:35:26.289Z"
      },
      {
        "duration": 19,
        "start_time": "2024-08-22T15:35:26.774Z"
      },
      {
        "duration": 19,
        "start_time": "2024-08-22T15:35:46.731Z"
      },
      {
        "duration": 36,
        "start_time": "2024-08-22T15:37:02.167Z"
      },
      {
        "duration": 3,
        "start_time": "2024-08-22T15:39:16.034Z"
      },
      {
        "duration": 21,
        "start_time": "2024-08-22T15:39:37.267Z"
      },
      {
        "duration": 13,
        "start_time": "2024-08-22T15:39:55.898Z"
      },
      {
        "duration": 3,
        "start_time": "2024-08-22T15:41:09.383Z"
      },
      {
        "duration": 6,
        "start_time": "2024-08-22T15:41:36.234Z"
      },
      {
        "duration": 24,
        "start_time": "2024-08-22T15:42:30.606Z"
      },
      {
        "duration": 34,
        "start_time": "2024-08-22T15:43:08.553Z"
      },
      {
        "duration": 6,
        "start_time": "2024-08-22T16:12:30.305Z"
      },
      {
        "duration": 323,
        "start_time": "2024-08-22T16:12:39.230Z"
      },
      {
        "duration": 25,
        "start_time": "2024-08-22T16:33:28.392Z"
      },
      {
        "duration": 139,
        "start_time": "2024-08-22T16:33:36.593Z"
      },
      {
        "duration": 3,
        "start_time": "2024-08-22T16:53:15.091Z"
      },
      {
        "duration": 29,
        "start_time": "2024-08-22T16:59:34.108Z"
      },
      {
        "duration": 17,
        "start_time": "2024-08-22T16:59:42.872Z"
      },
      {
        "duration": 16,
        "start_time": "2024-08-22T16:59:45.870Z"
      },
      {
        "duration": 25,
        "start_time": "2024-08-22T17:00:06.134Z"
      },
      {
        "duration": 3,
        "start_time": "2024-08-22T17:00:10.497Z"
      },
      {
        "duration": 16,
        "start_time": "2024-08-22T17:00:11.545Z"
      },
      {
        "duration": 28,
        "start_time": "2024-08-22T17:00:11.847Z"
      },
      {
        "duration": 31,
        "start_time": "2024-08-22T17:00:29.385Z"
      },
      {
        "duration": 19,
        "start_time": "2024-08-22T17:00:46.199Z"
      },
      {
        "duration": 25,
        "start_time": "2024-08-22T17:04:56.575Z"
      },
      {
        "duration": 7,
        "start_time": "2024-08-22T17:05:03.538Z"
      },
      {
        "duration": 28,
        "start_time": "2024-08-22T17:06:12.663Z"
      },
      {
        "duration": 6,
        "start_time": "2024-08-22T17:06:22.264Z"
      },
      {
        "duration": 18,
        "start_time": "2024-08-22T17:06:30.317Z"
      },
      {
        "duration": 897,
        "start_time": "2024-08-22T17:10:05.181Z"
      },
      {
        "duration": 8,
        "start_time": "2024-08-22T17:10:23.481Z"
      },
      {
        "duration": 13,
        "start_time": "2024-08-22T17:11:24.957Z"
      },
      {
        "duration": 6,
        "start_time": "2024-08-22T17:11:32.244Z"
      },
      {
        "duration": 14,
        "start_time": "2024-08-22T17:11:37.269Z"
      },
      {
        "duration": 24,
        "start_time": "2024-08-22T17:12:07.858Z"
      },
      {
        "duration": 7,
        "start_time": "2024-08-22T17:13:52.187Z"
      },
      {
        "duration": 7,
        "start_time": "2024-08-22T17:13:57.459Z"
      },
      {
        "duration": 26,
        "start_time": "2024-08-22T17:14:36.961Z"
      },
      {
        "duration": 1424,
        "start_time": "2024-08-22T17:14:41.034Z"
      },
      {
        "duration": 4864,
        "start_time": "2024-08-22T21:03:45.268Z"
      },
      {
        "duration": 56,
        "start_time": "2024-08-22T21:03:50.136Z"
      },
      {
        "duration": 24,
        "start_time": "2024-08-22T21:03:50.194Z"
      },
      {
        "duration": 22,
        "start_time": "2024-08-22T21:03:50.222Z"
      },
      {
        "duration": 35,
        "start_time": "2024-08-22T21:03:50.248Z"
      },
      {
        "duration": 48,
        "start_time": "2024-08-22T21:03:50.286Z"
      },
      {
        "duration": 33,
        "start_time": "2024-08-22T21:03:50.337Z"
      },
      {
        "duration": 20,
        "start_time": "2024-08-22T21:03:50.373Z"
      },
      {
        "duration": 43,
        "start_time": "2024-08-22T21:03:50.396Z"
      },
      {
        "duration": 4,
        "start_time": "2024-08-22T21:03:50.444Z"
      },
      {
        "duration": 5,
        "start_time": "2024-08-22T21:03:50.450Z"
      },
      {
        "duration": 29,
        "start_time": "2024-08-22T21:03:50.458Z"
      },
      {
        "duration": 57,
        "start_time": "2024-08-22T21:03:50.490Z"
      },
      {
        "duration": 6,
        "start_time": "2024-08-22T21:03:50.550Z"
      },
      {
        "duration": 418,
        "start_time": "2024-08-22T21:03:50.559Z"
      },
      {
        "duration": 0,
        "start_time": "2024-08-22T21:03:50.980Z"
      },
      {
        "duration": 0,
        "start_time": "2024-08-22T21:03:50.982Z"
      },
      {
        "duration": 0,
        "start_time": "2024-08-22T21:03:50.985Z"
      },
      {
        "duration": 0,
        "start_time": "2024-08-22T21:03:50.987Z"
      },
      {
        "duration": 0,
        "start_time": "2024-08-22T21:03:50.990Z"
      },
      {
        "duration": 0,
        "start_time": "2024-08-22T21:03:50.993Z"
      },
      {
        "duration": 0,
        "start_time": "2024-08-22T21:03:50.995Z"
      },
      {
        "duration": 0,
        "start_time": "2024-08-22T21:03:50.997Z"
      },
      {
        "duration": 0,
        "start_time": "2024-08-22T21:03:50.999Z"
      },
      {
        "duration": 17,
        "start_time": "2024-08-22T21:04:17.983Z"
      },
      {
        "duration": 11,
        "start_time": "2024-08-22T21:04:18.004Z"
      },
      {
        "duration": 9,
        "start_time": "2024-08-22T21:04:18.018Z"
      },
      {
        "duration": 10,
        "start_time": "2024-08-22T21:04:18.031Z"
      },
      {
        "duration": 10,
        "start_time": "2024-08-22T21:04:18.047Z"
      },
      {
        "duration": 10,
        "start_time": "2024-08-22T21:04:18.060Z"
      },
      {
        "duration": 58,
        "start_time": "2024-08-22T21:04:18.074Z"
      },
      {
        "duration": 9,
        "start_time": "2024-08-22T21:04:18.135Z"
      },
      {
        "duration": 10,
        "start_time": "2024-08-22T21:04:18.148Z"
      },
      {
        "duration": 9,
        "start_time": "2024-08-22T21:04:18.161Z"
      },
      {
        "duration": 12,
        "start_time": "2024-08-22T21:04:27.725Z"
      },
      {
        "duration": 8,
        "start_time": "2024-08-22T21:04:49.851Z"
      },
      {
        "duration": 8,
        "start_time": "2024-08-22T21:04:49.864Z"
      },
      {
        "duration": 8,
        "start_time": "2024-08-22T21:04:49.875Z"
      },
      {
        "duration": 10,
        "start_time": "2024-08-22T21:04:49.886Z"
      },
      {
        "duration": 37,
        "start_time": "2024-08-22T21:04:49.900Z"
      },
      {
        "duration": 7,
        "start_time": "2024-08-22T21:04:49.940Z"
      },
      {
        "duration": 7,
        "start_time": "2024-08-22T21:04:49.952Z"
      },
      {
        "duration": 10,
        "start_time": "2024-08-22T21:04:49.962Z"
      },
      {
        "duration": 8,
        "start_time": "2024-08-22T21:04:49.975Z"
      },
      {
        "duration": 15,
        "start_time": "2024-08-22T21:06:04.161Z"
      },
      {
        "duration": 11,
        "start_time": "2024-08-22T21:06:33.235Z"
      },
      {
        "duration": 10,
        "start_time": "2024-08-22T21:15:57.853Z"
      },
      {
        "duration": 12,
        "start_time": "2024-08-22T21:17:37.517Z"
      },
      {
        "duration": 15,
        "start_time": "2024-08-22T21:17:45.182Z"
      },
      {
        "duration": 18,
        "start_time": "2024-08-22T21:19:29.018Z"
      },
      {
        "duration": 10,
        "start_time": "2024-08-22T21:19:29.040Z"
      },
      {
        "duration": 10,
        "start_time": "2024-08-22T21:19:29.053Z"
      },
      {
        "duration": 13,
        "start_time": "2024-08-22T21:19:29.069Z"
      },
      {
        "duration": 49,
        "start_time": "2024-08-22T21:19:29.085Z"
      },
      {
        "duration": 9,
        "start_time": "2024-08-22T21:19:29.137Z"
      },
      {
        "duration": 9,
        "start_time": "2024-08-22T21:19:29.150Z"
      },
      {
        "duration": 9,
        "start_time": "2024-08-22T21:19:29.162Z"
      },
      {
        "duration": 59,
        "start_time": "2024-08-22T21:19:29.174Z"
      },
      {
        "duration": 10,
        "start_time": "2024-08-22T21:19:29.237Z"
      },
      {
        "duration": 17,
        "start_time": "2024-08-22T21:20:34.762Z"
      },
      {
        "duration": 10,
        "start_time": "2024-08-22T21:20:34.783Z"
      },
      {
        "duration": 9,
        "start_time": "2024-08-22T21:20:34.796Z"
      },
      {
        "duration": 9,
        "start_time": "2024-08-22T21:20:34.808Z"
      },
      {
        "duration": 9,
        "start_time": "2024-08-22T21:20:34.836Z"
      },
      {
        "duration": 9,
        "start_time": "2024-08-22T21:20:34.848Z"
      },
      {
        "duration": 9,
        "start_time": "2024-08-22T21:20:34.860Z"
      },
      {
        "duration": 9,
        "start_time": "2024-08-22T21:20:34.872Z"
      },
      {
        "duration": 65,
        "start_time": "2024-08-22T21:20:34.883Z"
      },
      {
        "duration": 13,
        "start_time": "2024-08-22T21:20:34.951Z"
      },
      {
        "duration": 13,
        "start_time": "2024-08-22T21:20:44.654Z"
      },
      {
        "duration": 14,
        "start_time": "2024-08-22T21:20:56.671Z"
      },
      {
        "duration": 24,
        "start_time": "2024-08-22T21:22:04.768Z"
      },
      {
        "duration": 22,
        "start_time": "2024-08-22T21:22:11.042Z"
      },
      {
        "duration": 29,
        "start_time": "2024-08-22T21:22:38.955Z"
      },
      {
        "duration": 14,
        "start_time": "2024-08-22T21:22:44.182Z"
      },
      {
        "duration": 13,
        "start_time": "2024-08-22T21:23:32.830Z"
      },
      {
        "duration": 15,
        "start_time": "2024-08-22T21:24:21.010Z"
      },
      {
        "duration": 10,
        "start_time": "2024-08-22T21:24:43.342Z"
      },
      {
        "duration": 8,
        "start_time": "2024-08-22T21:24:58.969Z"
      },
      {
        "duration": 3,
        "start_time": "2024-08-22T21:34:08.301Z"
      },
      {
        "duration": 12,
        "start_time": "2024-08-22T21:34:19.077Z"
      },
      {
        "duration": 3,
        "start_time": "2024-08-22T21:34:27.189Z"
      },
      {
        "duration": 10,
        "start_time": "2024-08-22T21:34:37.253Z"
      },
      {
        "duration": 3,
        "start_time": "2024-08-22T21:34:52.576Z"
      },
      {
        "duration": 12,
        "start_time": "2024-08-22T21:35:02.226Z"
      },
      {
        "duration": 8,
        "start_time": "2024-08-22T21:35:15.669Z"
      },
      {
        "duration": 2,
        "start_time": "2024-08-22T21:35:18.825Z"
      },
      {
        "duration": 11,
        "start_time": "2024-08-22T21:35:43.640Z"
      },
      {
        "duration": 10,
        "start_time": "2024-08-22T21:35:52.688Z"
      },
      {
        "duration": 3,
        "start_time": "2024-08-22T21:35:59.436Z"
      },
      {
        "duration": 10,
        "start_time": "2024-08-22T21:36:07.412Z"
      },
      {
        "duration": 3,
        "start_time": "2024-08-22T21:36:19.376Z"
      },
      {
        "duration": 13,
        "start_time": "2024-08-22T21:40:03.891Z"
      },
      {
        "duration": 11,
        "start_time": "2024-08-22T21:40:29.194Z"
      },
      {
        "duration": 30,
        "start_time": "2024-08-22T21:47:33.240Z"
      },
      {
        "duration": 12,
        "start_time": "2024-08-22T21:47:59.988Z"
      },
      {
        "duration": 27,
        "start_time": "2024-08-22T21:48:43.812Z"
      },
      {
        "duration": 9,
        "start_time": "2024-08-22T21:48:56.975Z"
      },
      {
        "duration": 18,
        "start_time": "2024-08-22T21:49:03.339Z"
      },
      {
        "duration": 724,
        "start_time": "2024-08-22T21:55:59.963Z"
      },
      {
        "duration": 715,
        "start_time": "2024-08-22T21:56:46.643Z"
      },
      {
        "duration": 508,
        "start_time": "2024-08-22T22:02:45.953Z"
      },
      {
        "duration": 5,
        "start_time": "2024-08-22T22:02:52.380Z"
      },
      {
        "duration": 189,
        "start_time": "2024-08-22T22:03:05.145Z"
      },
      {
        "duration": 189,
        "start_time": "2024-08-22T22:03:14.537Z"
      },
      {
        "duration": 738,
        "start_time": "2024-08-22T22:03:20.982Z"
      },
      {
        "duration": 276,
        "start_time": "2024-08-22T22:17:27.060Z"
      },
      {
        "duration": 3,
        "start_time": "2024-08-22T22:21:12.951Z"
      },
      {
        "duration": 7,
        "start_time": "2024-08-22T22:30:22.464Z"
      },
      {
        "duration": 8,
        "start_time": "2024-08-22T22:30:23.840Z"
      },
      {
        "duration": 7,
        "start_time": "2024-08-22T22:31:32.415Z"
      },
      {
        "duration": 206,
        "start_time": "2024-08-22T22:31:34.931Z"
      },
      {
        "duration": 187,
        "start_time": "2024-08-22T22:31:41.166Z"
      },
      {
        "duration": 201,
        "start_time": "2024-08-22T22:31:50.166Z"
      },
      {
        "duration": 214,
        "start_time": "2024-08-22T22:32:01.326Z"
      },
      {
        "duration": 222,
        "start_time": "2024-08-22T22:32:06.498Z"
      },
      {
        "duration": 5,
        "start_time": "2024-08-22T22:32:53.796Z"
      },
      {
        "duration": 393,
        "start_time": "2024-08-22T22:32:55.691Z"
      },
      {
        "duration": 9,
        "start_time": "2024-08-22T22:33:06.747Z"
      },
      {
        "duration": 241,
        "start_time": "2024-08-22T22:33:08.739Z"
      },
      {
        "duration": 7,
        "start_time": "2024-08-22T22:34:50.481Z"
      },
      {
        "duration": 8,
        "start_time": "2024-08-22T22:37:03.032Z"
      },
      {
        "duration": 7,
        "start_time": "2024-08-22T22:37:05.590Z"
      },
      {
        "duration": 4,
        "start_time": "2024-08-22T23:08:37.794Z"
      },
      {
        "duration": 224,
        "start_time": "2024-08-22T23:08:39.953Z"
      },
      {
        "duration": 7,
        "start_time": "2024-08-22T23:10:54.952Z"
      },
      {
        "duration": 17,
        "start_time": "2024-08-22T23:10:55.546Z"
      },
      {
        "duration": 8,
        "start_time": "2024-08-22T23:10:56.033Z"
      },
      {
        "duration": 17,
        "start_time": "2024-08-22T23:10:56.480Z"
      },
      {
        "duration": 6,
        "start_time": "2024-08-22T23:10:56.880Z"
      },
      {
        "duration": 13,
        "start_time": "2024-08-22T23:26:49.577Z"
      },
      {
        "duration": 389,
        "start_time": "2024-08-22T23:39:11.586Z"
      },
      {
        "duration": 358,
        "start_time": "2024-08-22T23:39:27.637Z"
      },
      {
        "duration": 387,
        "start_time": "2024-08-22T23:39:31.437Z"
      },
      {
        "duration": 5,
        "start_time": "2024-08-22T23:40:53.696Z"
      },
      {
        "duration": 205,
        "start_time": "2024-08-22T23:40:55.906Z"
      },
      {
        "duration": 4,
        "start_time": "2024-08-22T23:41:05.540Z"
      },
      {
        "duration": 180,
        "start_time": "2024-08-22T23:41:11.488Z"
      },
      {
        "duration": 327,
        "start_time": "2024-08-23T02:18:24.025Z"
      },
      {
        "duration": 5330,
        "start_time": "2024-08-23T02:19:06.488Z"
      },
      {
        "duration": 58,
        "start_time": "2024-08-23T02:19:11.822Z"
      },
      {
        "duration": 26,
        "start_time": "2024-08-23T02:19:11.883Z"
      },
      {
        "duration": 23,
        "start_time": "2024-08-23T02:19:11.912Z"
      },
      {
        "duration": 75,
        "start_time": "2024-08-23T02:19:11.939Z"
      },
      {
        "duration": 17,
        "start_time": "2024-08-23T02:19:12.018Z"
      },
      {
        "duration": 67,
        "start_time": "2024-08-23T02:19:12.039Z"
      },
      {
        "duration": 23,
        "start_time": "2024-08-23T02:19:12.109Z"
      },
      {
        "duration": 121,
        "start_time": "2024-08-23T02:27:58.251Z"
      },
      {
        "duration": 687,
        "start_time": "2024-08-23T02:34:09.783Z"
      },
      {
        "duration": 83,
        "start_time": "2024-08-23T02:34:26.998Z"
      },
      {
        "duration": 85,
        "start_time": "2024-08-23T02:34:53.634Z"
      },
      {
        "duration": 3,
        "start_time": "2024-08-23T02:35:02.011Z"
      },
      {
        "duration": 31,
        "start_time": "2024-08-23T02:35:02.632Z"
      },
      {
        "duration": 6,
        "start_time": "2024-08-23T02:35:14.397Z"
      },
      {
        "duration": 39,
        "start_time": "2024-08-23T02:35:32.695Z"
      },
      {
        "duration": 12,
        "start_time": "2024-08-23T02:35:40.699Z"
      },
      {
        "duration": 25,
        "start_time": "2024-08-23T02:37:15.621Z"
      },
      {
        "duration": 25,
        "start_time": "2024-08-23T02:37:17.334Z"
      },
      {
        "duration": 9,
        "start_time": "2024-08-23T02:37:19.895Z"
      },
      {
        "duration": 14,
        "start_time": "2024-08-23T02:37:21.091Z"
      },
      {
        "duration": 11,
        "start_time": "2024-08-23T02:37:24.016Z"
      },
      {
        "duration": 4941,
        "start_time": "2024-08-23T15:13:49.576Z"
      },
      {
        "duration": 58,
        "start_time": "2024-08-23T15:13:54.520Z"
      },
      {
        "duration": 23,
        "start_time": "2024-08-23T15:13:54.580Z"
      },
      {
        "duration": 20,
        "start_time": "2024-08-23T15:13:54.607Z"
      },
      {
        "duration": 47,
        "start_time": "2024-08-23T15:13:54.629Z"
      },
      {
        "duration": 15,
        "start_time": "2024-08-23T15:13:54.702Z"
      },
      {
        "duration": 34,
        "start_time": "2024-08-23T15:13:54.720Z"
      },
      {
        "duration": 51,
        "start_time": "2024-08-23T15:13:54.757Z"
      },
      {
        "duration": 9,
        "start_time": "2024-08-23T15:13:54.811Z"
      },
      {
        "duration": 6,
        "start_time": "2024-08-23T15:13:54.826Z"
      },
      {
        "duration": 4,
        "start_time": "2024-08-23T15:13:54.834Z"
      },
      {
        "duration": 61,
        "start_time": "2024-08-23T15:13:54.842Z"
      },
      {
        "duration": 19,
        "start_time": "2024-08-23T15:13:54.906Z"
      },
      {
        "duration": 5,
        "start_time": "2024-08-23T15:13:54.929Z"
      },
      {
        "duration": 13,
        "start_time": "2024-08-23T15:13:54.937Z"
      },
      {
        "duration": 48,
        "start_time": "2024-08-23T15:13:54.953Z"
      },
      {
        "duration": 3,
        "start_time": "2024-08-23T15:13:55.005Z"
      },
      {
        "duration": 4,
        "start_time": "2024-08-23T15:13:55.011Z"
      },
      {
        "duration": 4,
        "start_time": "2024-08-23T15:13:55.017Z"
      },
      {
        "duration": 4,
        "start_time": "2024-08-23T15:13:55.024Z"
      },
      {
        "duration": 4,
        "start_time": "2024-08-23T15:13:55.031Z"
      },
      {
        "duration": 75,
        "start_time": "2024-08-23T15:13:55.038Z"
      },
      {
        "duration": 19,
        "start_time": "2024-08-23T15:13:55.116Z"
      },
      {
        "duration": 398,
        "start_time": "2024-08-23T15:13:55.138Z"
      },
      {
        "duration": 5,
        "start_time": "2024-08-23T15:13:55.539Z"
      },
      {
        "duration": 12,
        "start_time": "2024-08-23T15:13:55.547Z"
      },
      {
        "duration": 239,
        "start_time": "2024-08-23T15:13:55.562Z"
      },
      {
        "duration": 11,
        "start_time": "2024-08-23T15:13:55.810Z"
      },
      {
        "duration": 5,
        "start_time": "2024-08-23T15:13:55.823Z"
      },
      {
        "duration": 212,
        "start_time": "2024-08-23T15:13:55.831Z"
      },
      {
        "duration": 29,
        "start_time": "2024-08-23T15:13:56.047Z"
      },
      {
        "duration": 28,
        "start_time": "2024-08-23T15:13:56.079Z"
      },
      {
        "duration": 8,
        "start_time": "2024-08-23T15:13:56.111Z"
      },
      {
        "duration": 18,
        "start_time": "2024-08-23T15:13:56.122Z"
      },
      {
        "duration": 238,
        "start_time": "2024-08-23T15:13:56.143Z"
      },
      {
        "duration": 0,
        "start_time": "2024-08-23T15:13:56.384Z"
      },
      {
        "duration": 0,
        "start_time": "2024-08-23T15:13:56.385Z"
      },
      {
        "duration": 0,
        "start_time": "2024-08-23T15:13:56.388Z"
      },
      {
        "duration": 0,
        "start_time": "2024-08-23T15:13:56.402Z"
      },
      {
        "duration": 8,
        "start_time": "2024-08-23T15:14:35.227Z"
      },
      {
        "duration": 7,
        "start_time": "2024-08-23T15:14:47.647Z"
      },
      {
        "duration": 3,
        "start_time": "2024-08-23T15:20:28.645Z"
      },
      {
        "duration": 9,
        "start_time": "2024-08-23T15:21:28.906Z"
      },
      {
        "duration": 16,
        "start_time": "2024-08-23T15:21:45.405Z"
      },
      {
        "duration": 16,
        "start_time": "2024-08-23T15:21:57.033Z"
      },
      {
        "duration": 19,
        "start_time": "2024-08-23T15:22:01.123Z"
      },
      {
        "duration": 23,
        "start_time": "2024-08-23T15:22:10.629Z"
      },
      {
        "duration": 22,
        "start_time": "2024-08-23T15:22:16.732Z"
      },
      {
        "duration": 10,
        "start_time": "2024-08-23T15:23:41.702Z"
      },
      {
        "duration": 13,
        "start_time": "2024-08-23T15:23:43.457Z"
      },
      {
        "duration": 11,
        "start_time": "2024-08-23T15:23:47.368Z"
      },
      {
        "duration": 8,
        "start_time": "2024-08-23T15:23:54.702Z"
      },
      {
        "duration": 9,
        "start_time": "2024-08-23T15:27:07.902Z"
      },
      {
        "duration": 7,
        "start_time": "2024-08-23T15:27:08.846Z"
      },
      {
        "duration": 19,
        "start_time": "2024-08-23T15:27:22.186Z"
      },
      {
        "duration": 3,
        "start_time": "2024-08-23T15:27:26.348Z"
      },
      {
        "duration": 8,
        "start_time": "2024-08-23T15:28:13.023Z"
      },
      {
        "duration": 13,
        "start_time": "2024-08-23T15:28:17.510Z"
      },
      {
        "duration": 277,
        "start_time": "2024-08-23T15:29:32.777Z"
      },
      {
        "duration": 9,
        "start_time": "2024-08-23T15:29:35.321Z"
      },
      {
        "duration": 13,
        "start_time": "2024-08-23T15:29:36.512Z"
      },
      {
        "duration": 8,
        "start_time": "2024-08-23T15:30:41.873Z"
      },
      {
        "duration": 19,
        "start_time": "2024-08-23T15:30:42.364Z"
      },
      {
        "duration": 8,
        "start_time": "2024-08-23T15:31:18.949Z"
      },
      {
        "duration": 20,
        "start_time": "2024-08-23T15:31:19.334Z"
      },
      {
        "duration": 364,
        "start_time": "2024-08-23T15:36:00.580Z"
      },
      {
        "duration": 8,
        "start_time": "2024-08-23T15:36:27.990Z"
      },
      {
        "duration": 13,
        "start_time": "2024-08-23T15:36:28.491Z"
      },
      {
        "duration": 359,
        "start_time": "2024-08-23T15:36:30.713Z"
      },
      {
        "duration": 379,
        "start_time": "2024-08-23T15:37:17.853Z"
      },
      {
        "duration": 385,
        "start_time": "2024-08-23T15:37:24.790Z"
      },
      {
        "duration": 4916,
        "start_time": "2024-08-24T17:26:06.786Z"
      },
      {
        "duration": 57,
        "start_time": "2024-08-24T17:26:11.706Z"
      },
      {
        "duration": 24,
        "start_time": "2024-08-24T17:26:11.766Z"
      },
      {
        "duration": 19,
        "start_time": "2024-08-24T17:26:11.793Z"
      },
      {
        "duration": 36,
        "start_time": "2024-08-24T17:26:11.817Z"
      },
      {
        "duration": 44,
        "start_time": "2024-08-24T17:26:11.857Z"
      },
      {
        "duration": 33,
        "start_time": "2024-08-24T17:26:11.904Z"
      },
      {
        "duration": 19,
        "start_time": "2024-08-24T17:26:11.941Z"
      },
      {
        "duration": 10,
        "start_time": "2024-08-24T17:26:11.990Z"
      },
      {
        "duration": 4,
        "start_time": "2024-08-24T17:26:12.003Z"
      },
      {
        "duration": 7,
        "start_time": "2024-08-24T17:26:12.010Z"
      },
      {
        "duration": 29,
        "start_time": "2024-08-24T17:26:12.020Z"
      },
      {
        "duration": 19,
        "start_time": "2024-08-24T17:26:12.090Z"
      },
      {
        "duration": 13,
        "start_time": "2024-08-24T17:26:37.480Z"
      },
      {
        "duration": 17,
        "start_time": "2024-08-24T17:26:56.443Z"
      },
      {
        "duration": 5,
        "start_time": "2024-08-24T17:27:13.332Z"
      },
      {
        "duration": 17,
        "start_time": "2024-08-24T17:27:14.506Z"
      },
      {
        "duration": 15,
        "start_time": "2024-08-24T17:27:25.361Z"
      },
      {
        "duration": 26,
        "start_time": "2024-08-24T17:27:40.051Z"
      },
      {
        "duration": 15,
        "start_time": "2024-08-24T17:40:40.067Z"
      },
      {
        "duration": 3,
        "start_time": "2024-08-24T17:40:50.065Z"
      },
      {
        "duration": 401,
        "start_time": "2024-08-24T17:42:57.278Z"
      },
      {
        "duration": 12,
        "start_time": "2024-08-24T17:43:02.140Z"
      },
      {
        "duration": 7,
        "start_time": "2024-08-24T17:43:17.955Z"
      },
      {
        "duration": 727,
        "start_time": "2024-08-24T17:43:25.616Z"
      },
      {
        "duration": 18,
        "start_time": "2024-08-24T17:43:45.127Z"
      },
      {
        "duration": 17,
        "start_time": "2024-08-24T17:46:05.505Z"
      },
      {
        "duration": 7,
        "start_time": "2024-08-24T17:46:43.641Z"
      },
      {
        "duration": 29,
        "start_time": "2024-08-24T17:46:44.377Z"
      },
      {
        "duration": 9,
        "start_time": "2024-08-24T17:46:58.121Z"
      },
      {
        "duration": 7,
        "start_time": "2024-08-24T17:47:02.618Z"
      },
      {
        "duration": 26,
        "start_time": "2024-08-24T17:47:08.068Z"
      },
      {
        "duration": 5,
        "start_time": "2024-08-24T17:47:23.695Z"
      },
      {
        "duration": 27,
        "start_time": "2024-08-24T17:47:27.618Z"
      },
      {
        "duration": 31,
        "start_time": "2024-08-24T17:48:25.755Z"
      },
      {
        "duration": 1245,
        "start_time": "2024-08-24T17:49:12.905Z"
      },
      {
        "duration": 46,
        "start_time": "2024-08-24T17:49:14.153Z"
      },
      {
        "duration": 26,
        "start_time": "2024-08-24T17:49:14.203Z"
      },
      {
        "duration": 20,
        "start_time": "2024-08-24T17:49:14.233Z"
      },
      {
        "duration": 64,
        "start_time": "2024-08-24T17:49:14.255Z"
      },
      {
        "duration": 15,
        "start_time": "2024-08-24T17:49:14.322Z"
      },
      {
        "duration": 62,
        "start_time": "2024-08-24T17:49:14.340Z"
      },
      {
        "duration": 19,
        "start_time": "2024-08-24T17:49:14.405Z"
      },
      {
        "duration": 15,
        "start_time": "2024-08-24T17:49:14.427Z"
      },
      {
        "duration": 6,
        "start_time": "2024-08-24T17:49:14.448Z"
      },
      {
        "duration": 33,
        "start_time": "2024-08-24T17:49:14.457Z"
      },
      {
        "duration": 29,
        "start_time": "2024-08-24T17:49:14.493Z"
      },
      {
        "duration": 19,
        "start_time": "2024-08-24T17:49:14.526Z"
      },
      {
        "duration": 3,
        "start_time": "2024-08-24T17:49:14.548Z"
      },
      {
        "duration": 3,
        "start_time": "2024-08-24T17:49:14.591Z"
      },
      {
        "duration": 3,
        "start_time": "2024-08-24T17:49:14.598Z"
      },
      {
        "duration": 4,
        "start_time": "2024-08-24T17:49:14.604Z"
      },
      {
        "duration": 4,
        "start_time": "2024-08-24T17:49:14.611Z"
      },
      {
        "duration": 18,
        "start_time": "2024-08-24T17:49:14.618Z"
      },
      {
        "duration": 76,
        "start_time": "2024-08-24T17:49:14.638Z"
      },
      {
        "duration": 3,
        "start_time": "2024-08-24T17:49:14.717Z"
      },
      {
        "duration": 4,
        "start_time": "2024-08-24T17:49:14.723Z"
      },
      {
        "duration": 3,
        "start_time": "2024-08-24T17:49:14.730Z"
      },
      {
        "duration": 4,
        "start_time": "2024-08-24T17:49:14.736Z"
      },
      {
        "duration": 4,
        "start_time": "2024-08-24T17:49:14.790Z"
      },
      {
        "duration": 7,
        "start_time": "2024-08-24T17:49:14.798Z"
      },
      {
        "duration": 7,
        "start_time": "2024-08-24T17:49:14.810Z"
      },
      {
        "duration": 5,
        "start_time": "2024-08-24T17:49:14.827Z"
      },
      {
        "duration": 4,
        "start_time": "2024-08-24T17:49:14.834Z"
      },
      {
        "duration": 4,
        "start_time": "2024-08-24T17:49:14.841Z"
      },
      {
        "duration": 43,
        "start_time": "2024-08-24T17:49:14.848Z"
      },
      {
        "duration": 4,
        "start_time": "2024-08-24T17:49:14.894Z"
      },
      {
        "duration": 3,
        "start_time": "2024-08-24T17:49:14.901Z"
      },
      {
        "duration": 3,
        "start_time": "2024-08-24T17:49:14.910Z"
      },
      {
        "duration": 4,
        "start_time": "2024-08-24T17:49:14.915Z"
      },
      {
        "duration": 4,
        "start_time": "2024-08-24T17:49:14.921Z"
      },
      {
        "duration": 3,
        "start_time": "2024-08-24T17:49:14.929Z"
      },
      {
        "duration": 55,
        "start_time": "2024-08-24T17:49:14.935Z"
      },
      {
        "duration": 5,
        "start_time": "2024-08-24T17:49:14.994Z"
      },
      {
        "duration": 7,
        "start_time": "2024-08-24T17:50:17.667Z"
      },
      {
        "duration": 450,
        "start_time": "2024-08-24T17:50:20.817Z"
      },
      {
        "duration": 6,
        "start_time": "2024-08-24T17:50:26.217Z"
      },
      {
        "duration": 27,
        "start_time": "2024-08-24T17:50:27.266Z"
      },
      {
        "duration": 11,
        "start_time": "2024-08-24T17:50:30.130Z"
      },
      {
        "duration": 1217,
        "start_time": "2024-08-24T17:50:48.719Z"
      },
      {
        "duration": 40,
        "start_time": "2024-08-24T17:50:49.940Z"
      },
      {
        "duration": 22,
        "start_time": "2024-08-24T17:50:49.991Z"
      },
      {
        "duration": 19,
        "start_time": "2024-08-24T17:50:50.017Z"
      },
      {
        "duration": 66,
        "start_time": "2024-08-24T17:50:50.039Z"
      },
      {
        "duration": 15,
        "start_time": "2024-08-24T17:50:50.108Z"
      },
      {
        "duration": 33,
        "start_time": "2024-08-24T17:50:50.126Z"
      },
      {
        "duration": 18,
        "start_time": "2024-08-24T17:50:50.190Z"
      },
      {
        "duration": 12,
        "start_time": "2024-08-24T17:50:50.211Z"
      },
      {
        "duration": 5,
        "start_time": "2024-08-24T17:50:50.229Z"
      },
      {
        "duration": 5,
        "start_time": "2024-08-24T17:50:50.236Z"
      },
      {
        "duration": 68,
        "start_time": "2024-08-24T17:50:50.244Z"
      },
      {
        "duration": 18,
        "start_time": "2024-08-24T17:50:50.315Z"
      },
      {
        "duration": 3,
        "start_time": "2024-08-24T17:50:50.336Z"
      },
      {
        "duration": 4,
        "start_time": "2024-08-24T17:50:50.342Z"
      },
      {
        "duration": 41,
        "start_time": "2024-08-24T17:50:50.350Z"
      },
      {
        "duration": 3,
        "start_time": "2024-08-24T17:50:50.394Z"
      },
      {
        "duration": 3,
        "start_time": "2024-08-24T17:50:50.401Z"
      },
      {
        "duration": 18,
        "start_time": "2024-08-24T17:50:50.407Z"
      },
      {
        "duration": 4,
        "start_time": "2024-08-24T17:50:50.428Z"
      },
      {
        "duration": 74,
        "start_time": "2024-08-24T17:50:50.435Z"
      },
      {
        "duration": 3,
        "start_time": "2024-08-24T17:50:50.512Z"
      },
      {
        "duration": 3,
        "start_time": "2024-08-24T17:50:50.518Z"
      },
      {
        "duration": 3,
        "start_time": "2024-08-24T17:50:50.524Z"
      },
      {
        "duration": 4,
        "start_time": "2024-08-24T17:50:50.531Z"
      },
      {
        "duration": 4,
        "start_time": "2024-08-24T17:50:50.538Z"
      },
      {
        "duration": 49,
        "start_time": "2024-08-24T17:50:50.544Z"
      },
      {
        "duration": 3,
        "start_time": "2024-08-24T17:50:50.600Z"
      },
      {
        "duration": 3,
        "start_time": "2024-08-24T17:50:50.606Z"
      },
      {
        "duration": 4,
        "start_time": "2024-08-24T17:50:50.612Z"
      },
      {
        "duration": 3,
        "start_time": "2024-08-24T17:50:50.619Z"
      },
      {
        "duration": 4,
        "start_time": "2024-08-24T17:50:50.625Z"
      },
      {
        "duration": 58,
        "start_time": "2024-08-24T17:50:50.632Z"
      },
      {
        "duration": 4,
        "start_time": "2024-08-24T17:50:50.693Z"
      },
      {
        "duration": 3,
        "start_time": "2024-08-24T17:50:50.700Z"
      },
      {
        "duration": 3,
        "start_time": "2024-08-24T17:50:50.706Z"
      },
      {
        "duration": 5,
        "start_time": "2024-08-24T17:50:50.712Z"
      },
      {
        "duration": 3,
        "start_time": "2024-08-24T17:50:50.720Z"
      },
      {
        "duration": 4,
        "start_time": "2024-08-24T17:50:50.726Z"
      },
      {
        "duration": 6,
        "start_time": "2024-08-24T17:50:50.790Z"
      },
      {
        "duration": 5,
        "start_time": "2024-08-24T17:51:07.121Z"
      },
      {
        "duration": 12,
        "start_time": "2024-08-24T17:51:19.119Z"
      },
      {
        "duration": 11,
        "start_time": "2024-08-24T17:52:00.395Z"
      },
      {
        "duration": 18,
        "start_time": "2024-08-24T17:52:32.107Z"
      },
      {
        "duration": 1216,
        "start_time": "2024-08-24T17:53:11.933Z"
      },
      {
        "duration": 47,
        "start_time": "2024-08-24T17:53:13.152Z"
      },
      {
        "duration": 22,
        "start_time": "2024-08-24T17:53:13.202Z"
      },
      {
        "duration": 19,
        "start_time": "2024-08-24T17:53:13.227Z"
      },
      {
        "duration": 64,
        "start_time": "2024-08-24T17:53:13.251Z"
      },
      {
        "duration": 16,
        "start_time": "2024-08-24T17:53:13.318Z"
      },
      {
        "duration": 64,
        "start_time": "2024-08-24T17:53:13.336Z"
      },
      {
        "duration": 19,
        "start_time": "2024-08-24T17:53:13.403Z"
      },
      {
        "duration": 12,
        "start_time": "2024-08-24T17:53:13.425Z"
      },
      {
        "duration": 3,
        "start_time": "2024-08-24T17:53:13.441Z"
      },
      {
        "duration": 43,
        "start_time": "2024-08-24T17:53:13.448Z"
      },
      {
        "duration": 30,
        "start_time": "2024-08-24T17:53:13.494Z"
      },
      {
        "duration": 19,
        "start_time": "2024-08-24T17:53:13.527Z"
      },
      {
        "duration": 44,
        "start_time": "2024-08-24T17:53:13.552Z"
      },
      {
        "duration": 4,
        "start_time": "2024-08-24T17:53:13.599Z"
      },
      {
        "duration": 4,
        "start_time": "2024-08-24T17:53:13.606Z"
      },
      {
        "duration": 4,
        "start_time": "2024-08-24T17:53:13.614Z"
      },
      {
        "duration": 4,
        "start_time": "2024-08-24T17:53:13.622Z"
      },
      {
        "duration": 4,
        "start_time": "2024-08-24T17:53:13.629Z"
      },
      {
        "duration": 68,
        "start_time": "2024-08-24T17:53:13.636Z"
      },
      {
        "duration": 5,
        "start_time": "2024-08-24T17:53:13.708Z"
      },
      {
        "duration": 13,
        "start_time": "2024-08-24T17:53:13.716Z"
      },
      {
        "duration": 4,
        "start_time": "2024-08-24T17:53:13.732Z"
      },
      {
        "duration": 52,
        "start_time": "2024-08-24T17:53:13.739Z"
      },
      {
        "duration": 3,
        "start_time": "2024-08-24T17:53:13.794Z"
      },
      {
        "duration": 3,
        "start_time": "2024-08-24T17:53:13.800Z"
      },
      {
        "duration": 4,
        "start_time": "2024-08-24T17:53:13.806Z"
      },
      {
        "duration": 3,
        "start_time": "2024-08-24T17:53:13.813Z"
      },
      {
        "duration": 3,
        "start_time": "2024-08-24T17:53:13.819Z"
      },
      {
        "duration": 4,
        "start_time": "2024-08-24T17:53:13.825Z"
      },
      {
        "duration": 4,
        "start_time": "2024-08-24T17:53:13.832Z"
      },
      {
        "duration": 4,
        "start_time": "2024-08-24T17:53:13.890Z"
      },
      {
        "duration": 4,
        "start_time": "2024-08-24T17:53:13.897Z"
      },
      {
        "duration": 5,
        "start_time": "2024-08-24T17:53:13.903Z"
      },
      {
        "duration": 4,
        "start_time": "2024-08-24T17:53:13.912Z"
      },
      {
        "duration": 4,
        "start_time": "2024-08-24T17:53:13.920Z"
      },
      {
        "duration": 4,
        "start_time": "2024-08-24T17:53:13.928Z"
      },
      {
        "duration": 56,
        "start_time": "2024-08-24T17:53:13.936Z"
      },
      {
        "duration": 4,
        "start_time": "2024-08-24T17:53:13.995Z"
      },
      {
        "duration": 3,
        "start_time": "2024-08-24T17:53:14.002Z"
      },
      {
        "duration": 3,
        "start_time": "2024-08-24T17:53:14.015Z"
      },
      {
        "duration": 7,
        "start_time": "2024-08-24T17:53:14.021Z"
      },
      {
        "duration": 17,
        "start_time": "2024-08-24T17:53:19.044Z"
      },
      {
        "duration": 5,
        "start_time": "2024-08-24T17:53:37.232Z"
      },
      {
        "duration": 12,
        "start_time": "2024-08-24T17:53:39.006Z"
      },
      {
        "duration": 12,
        "start_time": "2024-08-24T17:58:19.649Z"
      },
      {
        "duration": 27,
        "start_time": "2024-08-24T18:09:07.882Z"
      },
      {
        "duration": 6,
        "start_time": "2024-08-24T18:09:16.732Z"
      },
      {
        "duration": 31,
        "start_time": "2024-08-24T18:09:19.969Z"
      },
      {
        "duration": 12,
        "start_time": "2024-08-24T18:09:34.056Z"
      },
      {
        "duration": 29,
        "start_time": "2024-08-24T18:09:47.569Z"
      },
      {
        "duration": 6,
        "start_time": "2024-08-24T18:13:56.072Z"
      },
      {
        "duration": 8,
        "start_time": "2024-08-24T18:14:15.550Z"
      },
      {
        "duration": 8,
        "start_time": "2024-08-24T18:14:32.048Z"
      },
      {
        "duration": 17,
        "start_time": "2024-08-24T18:14:33.909Z"
      },
      {
        "duration": 6,
        "start_time": "2024-08-24T18:14:42.573Z"
      },
      {
        "duration": 12,
        "start_time": "2024-08-24T18:27:35.069Z"
      },
      {
        "duration": 27,
        "start_time": "2024-08-24T18:27:39.581Z"
      },
      {
        "duration": 6,
        "start_time": "2024-08-24T18:29:04.632Z"
      },
      {
        "duration": 11,
        "start_time": "2024-08-24T18:29:13.157Z"
      },
      {
        "duration": 7,
        "start_time": "2024-08-24T18:30:25.922Z"
      },
      {
        "duration": 19,
        "start_time": "2024-08-24T18:30:29.634Z"
      },
      {
        "duration": 547,
        "start_time": "2024-08-24T18:31:24.310Z"
      },
      {
        "duration": 9,
        "start_time": "2024-08-24T18:31:26.474Z"
      },
      {
        "duration": 22,
        "start_time": "2024-08-24T18:31:27.146Z"
      },
      {
        "duration": 8,
        "start_time": "2024-08-24T18:31:30.300Z"
      },
      {
        "duration": 19,
        "start_time": "2024-08-24T18:31:33.646Z"
      },
      {
        "duration": 8,
        "start_time": "2024-08-24T18:48:17.908Z"
      },
      {
        "duration": 13,
        "start_time": "2024-08-24T18:48:19.032Z"
      },
      {
        "duration": 11,
        "start_time": "2024-08-24T18:48:52.146Z"
      },
      {
        "duration": 4,
        "start_time": "2024-08-24T18:48:59.721Z"
      },
      {
        "duration": 11,
        "start_time": "2024-08-24T18:49:02.010Z"
      },
      {
        "duration": 175,
        "start_time": "2024-08-24T19:01:35.821Z"
      },
      {
        "duration": 207,
        "start_time": "2024-08-24T19:02:44.273Z"
      },
      {
        "duration": 223,
        "start_time": "2024-08-24T19:03:43.685Z"
      },
      {
        "duration": 361,
        "start_time": "2024-08-24T19:04:41.234Z"
      },
      {
        "duration": 9,
        "start_time": "2024-08-24T19:07:13.247Z"
      },
      {
        "duration": 13,
        "start_time": "2024-08-24T19:07:15.271Z"
      },
      {
        "duration": 353,
        "start_time": "2024-08-24T19:08:10.022Z"
      },
      {
        "duration": 13,
        "start_time": "2024-08-24T20:34:53.197Z"
      },
      {
        "duration": 4966,
        "start_time": "2024-08-24T20:37:23.910Z"
      },
      {
        "duration": 57,
        "start_time": "2024-08-24T20:37:28.879Z"
      },
      {
        "duration": 25,
        "start_time": "2024-08-24T20:37:28.939Z"
      },
      {
        "duration": 39,
        "start_time": "2024-08-24T20:37:28.968Z"
      },
      {
        "duration": 39,
        "start_time": "2024-08-24T20:37:29.010Z"
      },
      {
        "duration": 15,
        "start_time": "2024-08-24T20:37:29.052Z"
      },
      {
        "duration": 68,
        "start_time": "2024-08-24T20:37:29.070Z"
      },
      {
        "duration": 4,
        "start_time": "2024-08-24T20:37:29.141Z"
      },
      {
        "duration": 58,
        "start_time": "2024-08-24T20:37:29.148Z"
      },
      {
        "duration": 21,
        "start_time": "2024-08-24T20:37:29.212Z"
      },
      {
        "duration": 19,
        "start_time": "2024-08-24T20:37:29.237Z"
      },
      {
        "duration": 51,
        "start_time": "2024-08-24T20:37:29.259Z"
      },
      {
        "duration": 22,
        "start_time": "2024-08-24T20:37:29.314Z"
      },
      {
        "duration": 7,
        "start_time": "2024-08-24T20:37:29.338Z"
      },
      {
        "duration": 14,
        "start_time": "2024-08-24T20:37:29.349Z"
      },
      {
        "duration": 54,
        "start_time": "2024-08-24T20:37:29.367Z"
      },
      {
        "duration": 6,
        "start_time": "2024-08-24T20:37:29.424Z"
      },
      {
        "duration": 12,
        "start_time": "2024-08-24T20:37:29.433Z"
      },
      {
        "duration": 71,
        "start_time": "2024-08-24T20:37:29.448Z"
      },
      {
        "duration": 7,
        "start_time": "2024-08-24T20:37:29.523Z"
      },
      {
        "duration": 12,
        "start_time": "2024-08-24T20:37:29.533Z"
      },
      {
        "duration": 61,
        "start_time": "2024-08-24T20:37:29.548Z"
      },
      {
        "duration": 32,
        "start_time": "2024-08-24T20:37:29.613Z"
      },
      {
        "duration": 6,
        "start_time": "2024-08-24T20:37:29.649Z"
      },
      {
        "duration": 8,
        "start_time": "2024-08-24T20:37:29.659Z"
      },
      {
        "duration": 42,
        "start_time": "2024-08-24T20:37:29.669Z"
      },
      {
        "duration": 20,
        "start_time": "2024-08-24T20:37:29.714Z"
      },
      {
        "duration": 7,
        "start_time": "2024-08-24T20:37:29.741Z"
      },
      {
        "duration": 67,
        "start_time": "2024-08-24T20:37:29.752Z"
      },
      {
        "duration": 6,
        "start_time": "2024-08-24T20:37:29.822Z"
      },
      {
        "duration": 12,
        "start_time": "2024-08-24T20:37:29.832Z"
      },
      {
        "duration": 8,
        "start_time": "2024-08-24T20:37:29.847Z"
      },
      {
        "duration": 57,
        "start_time": "2024-08-24T20:37:29.858Z"
      },
      {
        "duration": 8,
        "start_time": "2024-08-24T20:37:29.918Z"
      },
      {
        "duration": 19,
        "start_time": "2024-08-24T20:37:29.932Z"
      },
      {
        "duration": 8,
        "start_time": "2024-08-24T20:37:29.954Z"
      },
      {
        "duration": 58,
        "start_time": "2024-08-24T20:37:29.965Z"
      },
      {
        "duration": 8,
        "start_time": "2024-08-24T20:37:30.027Z"
      },
      {
        "duration": 6,
        "start_time": "2024-08-24T20:37:30.038Z"
      },
      {
        "duration": 12,
        "start_time": "2024-08-24T20:37:30.047Z"
      },
      {
        "duration": 410,
        "start_time": "2024-08-24T20:37:30.107Z"
      },
      {
        "duration": 12,
        "start_time": "2024-08-24T20:37:30.520Z"
      },
      {
        "duration": 16,
        "start_time": "2024-08-24T20:37:30.537Z"
      },
      {
        "duration": 9,
        "start_time": "2024-08-24T20:41:35.554Z"
      },
      {
        "duration": 13,
        "start_time": "2024-08-24T20:41:36.603Z"
      },
      {
        "duration": 8,
        "start_time": "2024-08-24T20:42:18.726Z"
      },
      {
        "duration": 13,
        "start_time": "2024-08-24T20:42:31.005Z"
      },
      {
        "duration": 31,
        "start_time": "2024-08-24T20:43:02.279Z"
      },
      {
        "duration": 7,
        "start_time": "2024-08-24T20:45:10.069Z"
      },
      {
        "duration": 31,
        "start_time": "2024-08-24T20:45:23.867Z"
      },
      {
        "duration": 6,
        "start_time": "2024-08-24T20:45:26.505Z"
      },
      {
        "duration": 15,
        "start_time": "2024-08-24T20:45:29.781Z"
      },
      {
        "duration": 6,
        "start_time": "2024-08-24T20:47:40.408Z"
      },
      {
        "duration": 14,
        "start_time": "2024-08-24T20:47:41.445Z"
      },
      {
        "duration": 6,
        "start_time": "2024-08-24T20:52:52.910Z"
      },
      {
        "duration": 6,
        "start_time": "2024-08-24T20:52:55.885Z"
      },
      {
        "duration": 6,
        "start_time": "2024-08-24T20:53:16.598Z"
      },
      {
        "duration": 17,
        "start_time": "2024-08-24T20:53:27.125Z"
      },
      {
        "duration": 10,
        "start_time": "2024-08-24T20:58:09.438Z"
      },
      {
        "duration": 1592,
        "start_time": "2024-08-24T21:00:39.222Z"
      },
      {
        "duration": 240,
        "start_time": "2024-08-24T21:01:05.968Z"
      },
      {
        "duration": 305,
        "start_time": "2024-08-24T21:01:13.761Z"
      },
      {
        "duration": 329,
        "start_time": "2024-08-24T21:02:11.309Z"
      },
      {
        "duration": 336,
        "start_time": "2024-08-24T21:02:17.909Z"
      },
      {
        "duration": 9,
        "start_time": "2024-08-24T21:06:37.146Z"
      },
      {
        "duration": 27,
        "start_time": "2024-08-24T21:17:41.799Z"
      },
      {
        "duration": 17,
        "start_time": "2024-08-24T21:17:45.227Z"
      },
      {
        "duration": 19,
        "start_time": "2024-08-24T21:17:54.177Z"
      },
      {
        "duration": 163,
        "start_time": "2024-08-24T21:18:38.966Z"
      },
      {
        "duration": 52,
        "start_time": "2024-08-24T21:18:45.479Z"
      },
      {
        "duration": 6,
        "start_time": "2024-08-24T21:18:51.718Z"
      },
      {
        "duration": 73,
        "start_time": "2024-08-24T21:18:54.695Z"
      },
      {
        "duration": 62,
        "start_time": "2024-08-24T21:18:57.303Z"
      },
      {
        "duration": 604,
        "start_time": "2024-08-24T21:20:37.047Z"
      },
      {
        "duration": 568,
        "start_time": "2024-08-24T21:20:47.730Z"
      },
      {
        "duration": 405,
        "start_time": "2024-08-24T21:28:35.785Z"
      },
      {
        "duration": 443,
        "start_time": "2024-08-24T21:28:42.488Z"
      },
      {
        "duration": 414,
        "start_time": "2024-08-24T21:28:51.878Z"
      },
      {
        "duration": 494,
        "start_time": "2024-08-24T21:28:57.160Z"
      },
      {
        "duration": 446,
        "start_time": "2024-08-24T21:29:01.134Z"
      },
      {
        "duration": 449,
        "start_time": "2024-08-24T21:29:08.661Z"
      },
      {
        "duration": 432,
        "start_time": "2024-08-24T21:29:15.087Z"
      },
      {
        "duration": 436,
        "start_time": "2024-08-24T21:29:20.064Z"
      },
      {
        "duration": 472,
        "start_time": "2024-08-24T21:29:24.411Z"
      },
      {
        "duration": 425,
        "start_time": "2024-08-24T21:29:32.073Z"
      },
      {
        "duration": 440,
        "start_time": "2024-08-24T21:29:38.948Z"
      },
      {
        "duration": 512,
        "start_time": "2024-08-24T21:29:50.985Z"
      },
      {
        "duration": 505,
        "start_time": "2024-08-24T21:30:14.253Z"
      },
      {
        "duration": 785,
        "start_time": "2024-08-24T21:30:23.000Z"
      },
      {
        "duration": 437,
        "start_time": "2024-08-24T21:30:29.948Z"
      },
      {
        "duration": 507,
        "start_time": "2024-08-24T21:30:36.650Z"
      },
      {
        "duration": 484,
        "start_time": "2024-08-24T21:31:53.588Z"
      },
      {
        "duration": 819,
        "start_time": "2024-08-24T21:32:27.569Z"
      },
      {
        "duration": 504,
        "start_time": "2024-08-24T21:32:58.590Z"
      },
      {
        "duration": 500,
        "start_time": "2024-08-24T21:33:03.339Z"
      },
      {
        "duration": 526,
        "start_time": "2024-08-24T21:33:07.063Z"
      },
      {
        "duration": 532,
        "start_time": "2024-08-24T21:33:36.745Z"
      },
      {
        "duration": 552,
        "start_time": "2024-08-24T21:34:08.589Z"
      },
      {
        "duration": 516,
        "start_time": "2024-08-24T21:34:13.275Z"
      },
      {
        "duration": 314,
        "start_time": "2024-08-24T21:36:31.578Z"
      },
      {
        "duration": 4339,
        "start_time": "2024-08-24T21:36:48.441Z"
      },
      {
        "duration": 540,
        "start_time": "2024-08-24T21:37:10.330Z"
      },
      {
        "duration": 4393,
        "start_time": "2024-08-24T21:37:24.630Z"
      },
      {
        "duration": 522,
        "start_time": "2024-08-24T21:37:48.618Z"
      },
      {
        "duration": 489,
        "start_time": "2024-08-24T21:38:12.880Z"
      },
      {
        "duration": 820,
        "start_time": "2024-08-24T21:38:16.691Z"
      },
      {
        "duration": 1109,
        "start_time": "2024-08-24T21:39:15.068Z"
      },
      {
        "duration": 575,
        "start_time": "2024-08-24T21:41:10.045Z"
      },
      {
        "duration": 252,
        "start_time": "2024-08-24T21:42:48.339Z"
      },
      {
        "duration": 580,
        "start_time": "2024-08-24T21:43:00.274Z"
      },
      {
        "duration": 615,
        "start_time": "2024-08-24T21:43:45.033Z"
      },
      {
        "duration": 7,
        "start_time": "2024-08-24T21:45:39.867Z"
      },
      {
        "duration": 19,
        "start_time": "2024-08-24T21:45:40.363Z"
      },
      {
        "duration": 22,
        "start_time": "2024-08-24T21:45:41.073Z"
      },
      {
        "duration": 660,
        "start_time": "2024-08-24T21:45:43.974Z"
      },
      {
        "duration": 7,
        "start_time": "2024-08-24T21:46:14.831Z"
      },
      {
        "duration": 17,
        "start_time": "2024-08-24T21:46:15.054Z"
      },
      {
        "duration": 20,
        "start_time": "2024-08-24T21:46:15.234Z"
      },
      {
        "duration": 608,
        "start_time": "2024-08-24T21:46:15.965Z"
      },
      {
        "duration": 8,
        "start_time": "2024-08-24T21:47:04.600Z"
      },
      {
        "duration": 19,
        "start_time": "2024-08-24T21:47:04.758Z"
      },
      {
        "duration": 23,
        "start_time": "2024-08-24T21:47:04.896Z"
      },
      {
        "duration": 650,
        "start_time": "2024-08-24T21:47:05.008Z"
      },
      {
        "duration": 9,
        "start_time": "2024-08-24T21:47:30.866Z"
      },
      {
        "duration": 19,
        "start_time": "2024-08-24T21:47:32.558Z"
      },
      {
        "duration": 31,
        "start_time": "2024-08-24T21:47:32.711Z"
      },
      {
        "duration": 719,
        "start_time": "2024-08-24T21:47:33.709Z"
      },
      {
        "duration": 8,
        "start_time": "2024-08-24T21:49:23.007Z"
      },
      {
        "duration": 19,
        "start_time": "2024-08-24T21:49:24.424Z"
      },
      {
        "duration": 26,
        "start_time": "2024-08-24T21:49:24.583Z"
      },
      {
        "duration": 599,
        "start_time": "2024-08-24T21:49:24.711Z"
      },
      {
        "duration": 7,
        "start_time": "2024-08-24T21:50:11.003Z"
      },
      {
        "duration": 15,
        "start_time": "2024-08-24T21:50:11.317Z"
      },
      {
        "duration": 8,
        "start_time": "2024-08-24T21:50:11.699Z"
      },
      {
        "duration": 256,
        "start_time": "2024-08-24T21:50:13.537Z"
      },
      {
        "duration": 9,
        "start_time": "2024-08-24T21:50:19.774Z"
      },
      {
        "duration": 17,
        "start_time": "2024-08-24T21:50:19.926Z"
      },
      {
        "duration": 18,
        "start_time": "2024-08-24T21:50:20.066Z"
      },
      {
        "duration": 618,
        "start_time": "2024-08-24T21:50:21.048Z"
      },
      {
        "duration": 1186,
        "start_time": "2024-08-24T21:54:07.319Z"
      },
      {
        "duration": 19,
        "start_time": "2024-08-24T21:54:08.891Z"
      },
      {
        "duration": 18,
        "start_time": "2024-08-24T21:54:20.495Z"
      },
      {
        "duration": 18,
        "start_time": "2024-08-24T21:54:21.853Z"
      },
      {
        "duration": 30,
        "start_time": "2024-08-24T22:00:27.532Z"
      },
      {
        "duration": 8,
        "start_time": "2024-08-24T22:09:38.378Z"
      },
      {
        "duration": 32,
        "start_time": "2024-08-24T22:09:43.904Z"
      },
      {
        "duration": 7,
        "start_time": "2024-08-24T22:09:49.477Z"
      },
      {
        "duration": 273,
        "start_time": "2024-08-24T22:11:17.303Z"
      },
      {
        "duration": 11,
        "start_time": "2024-08-24T22:11:29.532Z"
      },
      {
        "duration": 416,
        "start_time": "2024-08-24T22:16:50.206Z"
      },
      {
        "duration": 392,
        "start_time": "2024-08-24T22:17:01.157Z"
      },
      {
        "duration": 400,
        "start_time": "2024-08-24T22:17:18.071Z"
      },
      {
        "duration": 479,
        "start_time": "2024-08-24T22:17:27.560Z"
      },
      {
        "duration": 362,
        "start_time": "2024-08-24T22:17:34.300Z"
      },
      {
        "duration": 614,
        "start_time": "2024-08-24T22:18:01.770Z"
      },
      {
        "duration": 326,
        "start_time": "2024-08-24T22:20:01.625Z"
      },
      {
        "duration": 7,
        "start_time": "2024-08-24T22:23:15.699Z"
      },
      {
        "duration": 458,
        "start_time": "2024-08-24T22:30:42.978Z"
      },
      {
        "duration": 26511,
        "start_time": "2024-08-24T22:31:00.154Z"
      },
      {
        "duration": 5,
        "start_time": "2024-08-24T22:32:18.295Z"
      },
      {
        "duration": 8,
        "start_time": "2024-08-24T22:35:29.171Z"
      },
      {
        "duration": 10,
        "start_time": "2024-08-24T22:35:36.207Z"
      },
      {
        "duration": 9,
        "start_time": "2024-08-24T22:36:20.994Z"
      },
      {
        "duration": 6,
        "start_time": "2024-08-24T22:38:51.535Z"
      },
      {
        "duration": 7,
        "start_time": "2024-08-24T22:38:52.574Z"
      },
      {
        "duration": 374,
        "start_time": "2024-08-24T22:40:13.961Z"
      },
      {
        "duration": 10,
        "start_time": "2024-08-24T22:40:33.898Z"
      },
      {
        "duration": 10,
        "start_time": "2024-08-24T22:40:34.121Z"
      },
      {
        "duration": 336,
        "start_time": "2024-08-24T22:40:35.296Z"
      },
      {
        "duration": 8,
        "start_time": "2024-08-24T22:40:48.786Z"
      },
      {
        "duration": 7,
        "start_time": "2024-08-24T22:40:50.310Z"
      },
      {
        "duration": 87,
        "start_time": "2024-08-24T22:40:50.834Z"
      },
      {
        "duration": 89,
        "start_time": "2024-08-24T22:41:14.961Z"
      },
      {
        "duration": 91,
        "start_time": "2024-08-24T22:41:28.187Z"
      },
      {
        "duration": 385,
        "start_time": "2024-08-24T22:42:49.737Z"
      },
      {
        "duration": 31,
        "start_time": "2024-08-24T22:43:39.187Z"
      },
      {
        "duration": 367,
        "start_time": "2024-08-24T22:43:54.688Z"
      },
      {
        "duration": 177,
        "start_time": "2024-08-24T22:44:40.292Z"
      },
      {
        "duration": 1007,
        "start_time": "2024-08-24T22:44:56.389Z"
      },
      {
        "duration": 375,
        "start_time": "2024-08-24T22:45:11.278Z"
      },
      {
        "duration": 386,
        "start_time": "2024-08-24T22:46:00.903Z"
      },
      {
        "duration": 11,
        "start_time": "2024-08-24T22:47:01.845Z"
      },
      {
        "duration": 6,
        "start_time": "2024-08-24T22:47:08.666Z"
      },
      {
        "duration": 6,
        "start_time": "2024-08-24T22:47:11.332Z"
      },
      {
        "duration": 419,
        "start_time": "2024-08-24T22:47:24.463Z"
      },
      {
        "duration": 8,
        "start_time": "2024-08-24T22:47:44.078Z"
      },
      {
        "duration": 392,
        "start_time": "2024-08-24T22:47:49.240Z"
      },
      {
        "duration": 7,
        "start_time": "2024-08-24T22:48:22.741Z"
      },
      {
        "duration": 404,
        "start_time": "2024-08-24T22:48:30.255Z"
      },
      {
        "duration": 381,
        "start_time": "2024-08-24T22:49:23.503Z"
      },
      {
        "duration": 384,
        "start_time": "2024-08-24T22:49:34.727Z"
      },
      {
        "duration": 387,
        "start_time": "2024-08-24T22:49:47.480Z"
      },
      {
        "duration": 383,
        "start_time": "2024-08-24T22:50:28.104Z"
      },
      {
        "duration": 372,
        "start_time": "2024-08-24T22:50:42.943Z"
      },
      {
        "duration": 369,
        "start_time": "2024-08-24T22:50:55.056Z"
      },
      {
        "duration": 365,
        "start_time": "2024-08-24T22:51:13.183Z"
      },
      {
        "duration": 394,
        "start_time": "2024-08-24T22:51:28.430Z"
      },
      {
        "duration": 6,
        "start_time": "2024-08-24T22:52:06.881Z"
      },
      {
        "duration": 8,
        "start_time": "2024-08-24T22:52:09.294Z"
      },
      {
        "duration": 9,
        "start_time": "2024-08-24T22:52:18.806Z"
      },
      {
        "duration": 8,
        "start_time": "2024-08-24T22:52:28.159Z"
      },
      {
        "duration": 261,
        "start_time": "2024-08-24T22:52:37.612Z"
      },
      {
        "duration": 406,
        "start_time": "2024-08-24T22:52:39.673Z"
      },
      {
        "duration": 384,
        "start_time": "2024-08-24T22:52:44.693Z"
      },
      {
        "duration": 6,
        "start_time": "2024-08-24T22:53:05.370Z"
      },
      {
        "duration": 4,
        "start_time": "2024-08-24T22:54:13.934Z"
      },
      {
        "duration": 3,
        "start_time": "2024-08-24T22:57:43.997Z"
      },
      {
        "duration": 14,
        "start_time": "2024-08-24T23:01:33.874Z"
      },
      {
        "duration": 6,
        "start_time": "2024-08-24T23:02:06.015Z"
      },
      {
        "duration": 7,
        "start_time": "2024-08-24T23:02:11.726Z"
      },
      {
        "duration": 7,
        "start_time": "2024-08-24T23:02:15.587Z"
      },
      {
        "duration": 608,
        "start_time": "2024-08-24T23:08:37.043Z"
      },
      {
        "duration": 15,
        "start_time": "2024-08-24T23:08:45.371Z"
      },
      {
        "duration": 7,
        "start_time": "2024-08-24T23:08:45.904Z"
      },
      {
        "duration": 6,
        "start_time": "2024-08-24T23:08:47.966Z"
      },
      {
        "duration": 6,
        "start_time": "2024-08-24T23:08:48.966Z"
      },
      {
        "duration": 612,
        "start_time": "2024-08-24T23:08:52.130Z"
      },
      {
        "duration": 14,
        "start_time": "2024-08-24T23:09:01.990Z"
      },
      {
        "duration": 6,
        "start_time": "2024-08-24T23:09:02.254Z"
      },
      {
        "duration": 6,
        "start_time": "2024-08-24T23:09:06.605Z"
      },
      {
        "duration": 799,
        "start_time": "2024-08-24T23:09:07.493Z"
      },
      {
        "duration": 774,
        "start_time": "2024-08-24T23:09:34.284Z"
      },
      {
        "duration": 987,
        "start_time": "2024-08-24T23:09:44.345Z"
      },
      {
        "duration": 763,
        "start_time": "2024-08-24T23:09:52.581Z"
      },
      {
        "duration": 1550,
        "start_time": "2024-08-24T23:10:10.865Z"
      },
      {
        "duration": 769,
        "start_time": "2024-08-24T23:10:18.108Z"
      },
      {
        "duration": 748,
        "start_time": "2024-08-24T23:10:29.044Z"
      },
      {
        "duration": 766,
        "start_time": "2024-08-24T23:10:35.644Z"
      },
      {
        "duration": 733,
        "start_time": "2024-08-24T23:10:39.594Z"
      },
      {
        "duration": 732,
        "start_time": "2024-08-24T23:10:44.482Z"
      },
      {
        "duration": 741,
        "start_time": "2024-08-24T23:10:47.238Z"
      },
      {
        "duration": 6,
        "start_time": "2024-08-24T23:12:37.948Z"
      },
      {
        "duration": 91,
        "start_time": "2024-08-24T23:16:24.028Z"
      },
      {
        "duration": 13,
        "start_time": "2024-08-24T23:16:29.174Z"
      },
      {
        "duration": 8,
        "start_time": "2024-08-24T23:16:41.435Z"
      },
      {
        "duration": 8,
        "start_time": "2024-08-24T23:16:45.122Z"
      },
      {
        "duration": 14,
        "start_time": "2024-08-24T23:16:46.961Z"
      },
      {
        "duration": 582,
        "start_time": "2024-08-24T23:17:40.124Z"
      },
      {
        "duration": 738,
        "start_time": "2024-08-24T23:17:44.899Z"
      },
      {
        "duration": 948,
        "start_time": "2024-08-24T23:18:24.130Z"
      },
      {
        "duration": 922,
        "start_time": "2024-08-24T23:18:38.814Z"
      },
      {
        "duration": 953,
        "start_time": "2024-08-24T23:18:47.589Z"
      },
      {
        "duration": 1116,
        "start_time": "2024-08-24T23:18:59.790Z"
      },
      {
        "duration": 1185,
        "start_time": "2024-08-24T23:19:13.250Z"
      },
      {
        "duration": 1141,
        "start_time": "2024-08-24T23:19:20.865Z"
      },
      {
        "duration": 922,
        "start_time": "2024-08-24T23:19:28.767Z"
      },
      {
        "duration": 915,
        "start_time": "2024-08-24T23:19:36.176Z"
      },
      {
        "duration": 928,
        "start_time": "2024-08-24T23:20:16.864Z"
      },
      {
        "duration": 755,
        "start_time": "2024-08-24T23:47:21.761Z"
      },
      {
        "duration": 4923,
        "start_time": "2024-08-26T15:52:39.171Z"
      },
      {
        "duration": 53,
        "start_time": "2024-08-26T15:52:44.097Z"
      },
      {
        "duration": 22,
        "start_time": "2024-08-26T15:52:44.154Z"
      },
      {
        "duration": 27,
        "start_time": "2024-08-26T15:52:44.180Z"
      },
      {
        "duration": 35,
        "start_time": "2024-08-26T15:52:44.210Z"
      },
      {
        "duration": 43,
        "start_time": "2024-08-26T15:52:44.248Z"
      },
      {
        "duration": 35,
        "start_time": "2024-08-26T15:52:44.294Z"
      },
      {
        "duration": 4,
        "start_time": "2024-08-26T15:52:44.332Z"
      },
      {
        "duration": 62,
        "start_time": "2024-08-26T15:52:44.339Z"
      },
      {
        "duration": 19,
        "start_time": "2024-08-26T15:52:44.407Z"
      },
      {
        "duration": 17,
        "start_time": "2024-08-26T15:52:44.429Z"
      },
      {
        "duration": 48,
        "start_time": "2024-08-26T15:52:44.449Z"
      },
      {
        "duration": 18,
        "start_time": "2024-08-26T15:52:44.500Z"
      },
      {
        "duration": 5,
        "start_time": "2024-08-26T15:52:44.521Z"
      },
      {
        "duration": 13,
        "start_time": "2024-08-26T15:52:44.530Z"
      },
      {
        "duration": 57,
        "start_time": "2024-08-26T15:52:44.546Z"
      },
      {
        "duration": 6,
        "start_time": "2024-08-26T15:52:44.606Z"
      },
      {
        "duration": 16,
        "start_time": "2024-08-26T15:52:44.616Z"
      },
      {
        "duration": 66,
        "start_time": "2024-08-26T15:52:44.636Z"
      },
      {
        "duration": 5,
        "start_time": "2024-08-26T15:52:44.705Z"
      },
      {
        "duration": 13,
        "start_time": "2024-08-26T15:52:44.713Z"
      },
      {
        "duration": 69,
        "start_time": "2024-08-26T15:52:44.730Z"
      },
      {
        "duration": 36,
        "start_time": "2024-08-26T15:52:44.802Z"
      },
      {
        "duration": 7,
        "start_time": "2024-08-26T15:52:44.841Z"
      },
      {
        "duration": 38,
        "start_time": "2024-08-26T15:52:44.852Z"
      },
      {
        "duration": 8,
        "start_time": "2024-08-26T15:52:44.893Z"
      },
      {
        "duration": 20,
        "start_time": "2024-08-26T15:52:44.904Z"
      },
      {
        "duration": 7,
        "start_time": "2024-08-26T15:52:44.933Z"
      },
      {
        "duration": 68,
        "start_time": "2024-08-26T15:52:44.943Z"
      },
      {
        "duration": 6,
        "start_time": "2024-08-26T15:52:45.014Z"
      },
      {
        "duration": 12,
        "start_time": "2024-08-26T15:52:45.023Z"
      },
      {
        "duration": 8,
        "start_time": "2024-08-26T15:52:45.040Z"
      },
      {
        "duration": 56,
        "start_time": "2024-08-26T15:52:45.050Z"
      },
      {
        "duration": 7,
        "start_time": "2024-08-26T15:52:45.110Z"
      },
      {
        "duration": 21,
        "start_time": "2024-08-26T15:52:45.120Z"
      },
      {
        "duration": 48,
        "start_time": "2024-08-26T15:52:45.143Z"
      },
      {
        "duration": 19,
        "start_time": "2024-08-26T15:52:45.194Z"
      },
      {
        "duration": 8,
        "start_time": "2024-08-26T15:52:45.216Z"
      },
      {
        "duration": 5,
        "start_time": "2024-08-26T15:52:45.228Z"
      },
      {
        "duration": 13,
        "start_time": "2024-08-26T15:52:45.236Z"
      },
      {
        "duration": 413,
        "start_time": "2024-08-26T15:52:45.290Z"
      },
      {
        "duration": 8,
        "start_time": "2024-08-26T15:52:45.706Z"
      },
      {
        "duration": 14,
        "start_time": "2024-08-26T15:52:45.717Z"
      },
      {
        "duration": 7,
        "start_time": "2024-08-26T15:52:45.734Z"
      },
      {
        "duration": 51,
        "start_time": "2024-08-26T15:52:45.744Z"
      },
      {
        "duration": 5,
        "start_time": "2024-08-26T15:52:45.799Z"
      },
      {
        "duration": 17,
        "start_time": "2024-08-26T15:52:45.807Z"
      },
      {
        "duration": 473,
        "start_time": "2024-08-26T15:52:45.827Z"
      },
      {
        "duration": 8,
        "start_time": "2024-08-26T15:52:46.304Z"
      },
      {
        "duration": 17,
        "start_time": "2024-08-26T15:52:46.316Z"
      },
      {
        "duration": 54,
        "start_time": "2024-08-26T15:52:46.336Z"
      },
      {
        "duration": 599,
        "start_time": "2024-08-26T15:52:46.393Z"
      },
      {
        "duration": 8,
        "start_time": "2024-08-26T15:52:46.999Z"
      },
      {
        "duration": 281,
        "start_time": "2024-08-26T15:52:47.012Z"
      },
      {
        "duration": 280,
        "start_time": "2024-08-26T15:52:47.296Z"
      },
      {
        "duration": 14,
        "start_time": "2024-08-26T15:52:47.579Z"
      },
      {
        "duration": 8,
        "start_time": "2024-08-26T15:52:47.597Z"
      },
      {
        "duration": 7,
        "start_time": "2024-08-26T15:52:47.609Z"
      },
      {
        "duration": 373,
        "start_time": "2024-08-26T15:52:47.620Z"
      },
      {
        "duration": 3,
        "start_time": "2024-08-26T15:52:47.996Z"
      },
      {
        "duration": 428,
        "start_time": "2024-08-26T15:52:48.002Z"
      },
      {
        "duration": 3,
        "start_time": "2024-08-26T15:52:48.433Z"
      },
      {
        "duration": 15,
        "start_time": "2024-08-26T15:52:48.440Z"
      },
      {
        "duration": 36,
        "start_time": "2024-08-26T15:52:48.459Z"
      },
      {
        "duration": 7,
        "start_time": "2024-08-26T15:52:48.498Z"
      },
      {
        "duration": 6,
        "start_time": "2024-08-26T15:52:48.509Z"
      },
      {
        "duration": 707,
        "start_time": "2024-08-26T15:52:48.519Z"
      },
      {
        "duration": 14,
        "start_time": "2024-08-26T15:52:49.229Z"
      },
      {
        "duration": 8,
        "start_time": "2024-08-26T15:52:49.246Z"
      },
      {
        "duration": 34,
        "start_time": "2024-08-26T15:52:49.258Z"
      },
      {
        "duration": 7,
        "start_time": "2024-08-26T15:52:49.295Z"
      },
      {
        "duration": 827,
        "start_time": "2024-08-26T15:52:49.305Z"
      },
      {
        "duration": 4,
        "start_time": "2024-08-26T15:52:50.135Z"
      },
      {
        "duration": 417,
        "start_time": "2024-08-26T15:52:50.142Z"
      },
      {
        "duration": 0,
        "start_time": "2024-08-26T15:52:50.562Z"
      },
      {
        "duration": 8,
        "start_time": "2024-08-26T15:53:02.874Z"
      },
      {
        "duration": 30,
        "start_time": "2024-08-26T15:53:28.486Z"
      },
      {
        "duration": 35,
        "start_time": "2024-08-26T15:55:38.009Z"
      },
      {
        "duration": 28,
        "start_time": "2024-08-26T15:55:48.415Z"
      },
      {
        "duration": 29,
        "start_time": "2024-08-26T15:55:57.056Z"
      },
      {
        "duration": 8,
        "start_time": "2024-08-26T16:03:15.882Z"
      },
      {
        "duration": 26,
        "start_time": "2024-08-26T16:09:53.623Z"
      },
      {
        "duration": 23,
        "start_time": "2024-08-26T16:14:44.626Z"
      },
      {
        "duration": 5,
        "start_time": "2024-08-26T16:14:46.880Z"
      },
      {
        "duration": 849,
        "start_time": "2024-08-26T16:14:47.431Z"
      },
      {
        "duration": 82,
        "start_time": "2024-08-26T16:14:59.215Z"
      },
      {
        "duration": 10,
        "start_time": "2024-08-26T16:15:08.363Z"
      },
      {
        "duration": 8,
        "start_time": "2024-08-26T16:15:11.049Z"
      },
      {
        "duration": 8,
        "start_time": "2024-08-26T16:16:05.739Z"
      },
      {
        "duration": 8,
        "start_time": "2024-08-26T16:16:10.568Z"
      },
      {
        "duration": 27,
        "start_time": "2024-08-26T16:16:37.416Z"
      },
      {
        "duration": 8,
        "start_time": "2024-08-26T16:16:42.916Z"
      },
      {
        "duration": 6,
        "start_time": "2024-08-26T16:19:08.205Z"
      },
      {
        "duration": 5,
        "start_time": "2024-08-26T16:19:30.418Z"
      },
      {
        "duration": 5,
        "start_time": "2024-08-26T16:19:35.268Z"
      },
      {
        "duration": 10,
        "start_time": "2024-08-26T16:19:44.033Z"
      },
      {
        "duration": 5,
        "start_time": "2024-08-26T16:21:20.972Z"
      },
      {
        "duration": 26,
        "start_time": "2024-08-26T16:21:37.537Z"
      },
      {
        "duration": 41,
        "start_time": "2024-08-26T16:21:42.439Z"
      },
      {
        "duration": 6,
        "start_time": "2024-08-26T16:21:45.136Z"
      },
      {
        "duration": 6,
        "start_time": "2024-08-26T16:21:51.119Z"
      },
      {
        "duration": 4,
        "start_time": "2024-08-26T16:21:52.162Z"
      },
      {
        "duration": 14,
        "start_time": "2024-08-26T16:23:56.708Z"
      },
      {
        "duration": 8,
        "start_time": "2024-08-26T16:23:57.634Z"
      },
      {
        "duration": 9,
        "start_time": "2024-08-26T16:24:00.582Z"
      },
      {
        "duration": 6,
        "start_time": "2024-08-26T16:29:55.875Z"
      },
      {
        "duration": 5,
        "start_time": "2024-08-26T16:29:58.211Z"
      },
      {
        "duration": 4,
        "start_time": "2024-08-26T16:30:22.150Z"
      },
      {
        "duration": 156,
        "start_time": "2024-08-26T19:29:51.956Z"
      },
      {
        "duration": 2471,
        "start_time": "2024-08-26T19:30:03.696Z"
      },
      {
        "duration": 49,
        "start_time": "2024-08-26T19:30:06.169Z"
      },
      {
        "duration": 13,
        "start_time": "2024-08-26T19:30:06.220Z"
      },
      {
        "duration": 10,
        "start_time": "2024-08-26T19:30:06.235Z"
      },
      {
        "duration": 19,
        "start_time": "2024-08-26T19:30:06.247Z"
      },
      {
        "duration": 9,
        "start_time": "2024-08-26T19:30:06.268Z"
      },
      {
        "duration": 46,
        "start_time": "2024-08-26T19:30:06.278Z"
      },
      {
        "duration": 4,
        "start_time": "2024-08-26T19:30:06.325Z"
      },
      {
        "duration": 15,
        "start_time": "2024-08-26T19:30:06.331Z"
      },
      {
        "duration": 12,
        "start_time": "2024-08-26T19:30:06.349Z"
      },
      {
        "duration": 10,
        "start_time": "2024-08-26T19:30:06.362Z"
      },
      {
        "duration": 7,
        "start_time": "2024-08-26T19:30:06.373Z"
      },
      {
        "duration": 41,
        "start_time": "2024-08-26T19:30:06.382Z"
      },
      {
        "duration": 3,
        "start_time": "2024-08-26T19:30:06.424Z"
      },
      {
        "duration": 7,
        "start_time": "2024-08-26T19:30:06.429Z"
      },
      {
        "duration": 10,
        "start_time": "2024-08-26T19:30:06.437Z"
      },
      {
        "duration": 3,
        "start_time": "2024-08-26T19:30:06.449Z"
      },
      {
        "duration": 7,
        "start_time": "2024-08-26T19:30:06.454Z"
      },
      {
        "duration": 15,
        "start_time": "2024-08-26T19:30:06.463Z"
      },
      {
        "duration": 41,
        "start_time": "2024-08-26T19:30:06.479Z"
      },
      {
        "duration": 7,
        "start_time": "2024-08-26T19:30:06.522Z"
      },
      {
        "duration": 15,
        "start_time": "2024-08-26T19:30:06.530Z"
      },
      {
        "duration": 16,
        "start_time": "2024-08-26T19:30:06.546Z"
      },
      {
        "duration": 4,
        "start_time": "2024-08-26T19:30:06.564Z"
      },
      {
        "duration": 5,
        "start_time": "2024-08-26T19:30:06.569Z"
      },
      {
        "duration": 3,
        "start_time": "2024-08-26T19:30:06.576Z"
      },
      {
        "duration": 42,
        "start_time": "2024-08-26T19:30:06.581Z"
      },
      {
        "duration": 4,
        "start_time": "2024-08-26T19:30:06.628Z"
      },
      {
        "duration": 15,
        "start_time": "2024-08-26T19:30:06.634Z"
      },
      {
        "duration": 4,
        "start_time": "2024-08-26T19:30:06.650Z"
      },
      {
        "duration": 7,
        "start_time": "2024-08-26T19:30:06.656Z"
      },
      {
        "duration": 4,
        "start_time": "2024-08-26T19:30:06.664Z"
      },
      {
        "duration": 51,
        "start_time": "2024-08-26T19:30:06.670Z"
      },
      {
        "duration": 5,
        "start_time": "2024-08-26T19:30:06.722Z"
      },
      {
        "duration": 10,
        "start_time": "2024-08-26T19:30:06.729Z"
      },
      {
        "duration": 4,
        "start_time": "2024-08-26T19:30:06.740Z"
      },
      {
        "duration": 10,
        "start_time": "2024-08-26T19:30:06.746Z"
      },
      {
        "duration": 5,
        "start_time": "2024-08-26T19:30:06.758Z"
      },
      {
        "duration": 3,
        "start_time": "2024-08-26T19:30:06.764Z"
      },
      {
        "duration": 6,
        "start_time": "2024-08-26T19:30:06.769Z"
      },
      {
        "duration": 265,
        "start_time": "2024-08-26T19:30:06.776Z"
      },
      {
        "duration": 5,
        "start_time": "2024-08-26T19:30:07.043Z"
      },
      {
        "duration": 7,
        "start_time": "2024-08-26T19:30:07.050Z"
      },
      {
        "duration": 3,
        "start_time": "2024-08-26T19:30:07.059Z"
      },
      {
        "duration": 7,
        "start_time": "2024-08-26T19:30:07.064Z"
      },
      {
        "duration": 3,
        "start_time": "2024-08-26T19:30:07.073Z"
      },
      {
        "duration": 41,
        "start_time": "2024-08-26T19:30:07.078Z"
      },
      {
        "duration": 246,
        "start_time": "2024-08-26T19:30:07.122Z"
      },
      {
        "duration": 6,
        "start_time": "2024-08-26T19:30:07.370Z"
      },
      {
        "duration": 10,
        "start_time": "2024-08-26T19:30:07.377Z"
      },
      {
        "duration": 31,
        "start_time": "2024-08-26T19:30:07.389Z"
      },
      {
        "duration": 362,
        "start_time": "2024-08-26T19:30:07.422Z"
      },
      {
        "duration": 5,
        "start_time": "2024-08-26T19:30:07.786Z"
      },
      {
        "duration": 139,
        "start_time": "2024-08-26T19:30:07.792Z"
      },
      {
        "duration": 150,
        "start_time": "2024-08-26T19:30:07.933Z"
      },
      {
        "duration": 804,
        "start_time": "2024-08-26T19:32:02.856Z"
      },
      {
        "duration": 24,
        "start_time": "2024-08-26T19:32:03.662Z"
      },
      {
        "duration": 13,
        "start_time": "2024-08-26T19:32:03.687Z"
      },
      {
        "duration": 18,
        "start_time": "2024-08-26T19:32:03.702Z"
      },
      {
        "duration": 19,
        "start_time": "2024-08-26T19:32:03.721Z"
      },
      {
        "duration": 9,
        "start_time": "2024-08-26T19:32:03.742Z"
      },
      {
        "duration": 16,
        "start_time": "2024-08-26T19:32:03.752Z"
      },
      {
        "duration": 4,
        "start_time": "2024-08-26T19:32:03.770Z"
      },
      {
        "duration": 44,
        "start_time": "2024-08-26T19:32:03.777Z"
      },
      {
        "duration": 12,
        "start_time": "2024-08-26T19:32:03.825Z"
      },
      {
        "duration": 10,
        "start_time": "2024-08-26T19:32:03.838Z"
      },
      {
        "duration": 7,
        "start_time": "2024-08-26T19:32:03.850Z"
      },
      {
        "duration": 9,
        "start_time": "2024-08-26T19:32:03.859Z"
      },
      {
        "duration": 4,
        "start_time": "2024-08-26T19:32:03.870Z"
      },
      {
        "duration": 7,
        "start_time": "2024-08-26T19:32:03.876Z"
      },
      {
        "duration": 11,
        "start_time": "2024-08-26T19:32:03.920Z"
      },
      {
        "duration": 3,
        "start_time": "2024-08-26T19:32:03.933Z"
      },
      {
        "duration": 7,
        "start_time": "2024-08-26T19:32:03.938Z"
      },
      {
        "duration": 15,
        "start_time": "2024-08-26T19:32:03.947Z"
      },
      {
        "duration": 3,
        "start_time": "2024-08-26T19:32:03.964Z"
      },
      {
        "duration": 7,
        "start_time": "2024-08-26T19:32:03.968Z"
      },
      {
        "duration": 52,
        "start_time": "2024-08-26T19:32:03.977Z"
      },
      {
        "duration": 17,
        "start_time": "2024-08-26T19:32:04.031Z"
      },
      {
        "duration": 4,
        "start_time": "2024-08-26T19:32:04.050Z"
      },
      {
        "duration": 5,
        "start_time": "2024-08-26T19:32:04.055Z"
      },
      {
        "duration": 4,
        "start_time": "2024-08-26T19:32:04.062Z"
      },
      {
        "duration": 10,
        "start_time": "2024-08-26T19:32:04.068Z"
      },
      {
        "duration": 37,
        "start_time": "2024-08-26T19:32:04.083Z"
      },
      {
        "duration": 14,
        "start_time": "2024-08-26T19:32:04.122Z"
      },
      {
        "duration": 5,
        "start_time": "2024-08-26T19:32:04.138Z"
      },
      {
        "duration": 6,
        "start_time": "2024-08-26T19:32:04.146Z"
      },
      {
        "duration": 3,
        "start_time": "2024-08-26T19:32:04.155Z"
      },
      {
        "duration": 11,
        "start_time": "2024-08-26T19:32:04.160Z"
      },
      {
        "duration": 6,
        "start_time": "2024-08-26T19:32:04.172Z"
      },
      {
        "duration": 43,
        "start_time": "2024-08-26T19:32:04.179Z"
      },
      {
        "duration": 5,
        "start_time": "2024-08-26T19:32:04.225Z"
      },
      {
        "duration": 10,
        "start_time": "2024-08-26T19:32:04.232Z"
      },
      {
        "duration": 4,
        "start_time": "2024-08-26T19:32:04.244Z"
      },
      {
        "duration": 3,
        "start_time": "2024-08-26T19:32:04.250Z"
      },
      {
        "duration": 6,
        "start_time": "2024-08-26T19:32:04.256Z"
      },
      {
        "duration": 258,
        "start_time": "2024-08-26T19:32:04.263Z"
      },
      {
        "duration": 5,
        "start_time": "2024-08-26T19:32:04.523Z"
      },
      {
        "duration": 7,
        "start_time": "2024-08-26T19:32:04.529Z"
      },
      {
        "duration": 4,
        "start_time": "2024-08-26T19:32:04.538Z"
      },
      {
        "duration": 7,
        "start_time": "2024-08-26T19:32:04.544Z"
      },
      {
        "duration": 4,
        "start_time": "2024-08-26T19:32:04.553Z"
      },
      {
        "duration": 9,
        "start_time": "2024-08-26T19:32:04.558Z"
      },
      {
        "duration": 265,
        "start_time": "2024-08-26T19:32:04.568Z"
      },
      {
        "duration": 8,
        "start_time": "2024-08-26T19:32:04.835Z"
      },
      {
        "duration": 12,
        "start_time": "2024-08-26T19:32:04.845Z"
      },
      {
        "duration": 11,
        "start_time": "2024-08-26T19:32:04.859Z"
      },
      {
        "duration": 388,
        "start_time": "2024-08-26T19:32:04.872Z"
      },
      {
        "duration": 5,
        "start_time": "2024-08-26T19:32:05.261Z"
      },
      {
        "duration": 139,
        "start_time": "2024-08-26T19:32:05.267Z"
      },
      {
        "duration": 150,
        "start_time": "2024-08-26T19:32:05.408Z"
      },
      {
        "duration": 5,
        "start_time": "2024-08-26T19:32:05.559Z"
      },
      {
        "duration": 5,
        "start_time": "2024-08-26T19:32:05.566Z"
      },
      {
        "duration": 188,
        "start_time": "2024-08-26T19:32:05.573Z"
      },
      {
        "duration": 2,
        "start_time": "2024-08-26T19:32:05.763Z"
      },
      {
        "duration": 186,
        "start_time": "2024-08-26T19:32:05.767Z"
      },
      {
        "duration": 2,
        "start_time": "2024-08-26T19:32:05.955Z"
      },
      {
        "duration": 8,
        "start_time": "2024-08-26T19:32:05.959Z"
      },
      {
        "duration": 4,
        "start_time": "2024-08-26T19:32:05.969Z"
      },
      {
        "duration": 4,
        "start_time": "2024-08-26T19:32:05.974Z"
      },
      {
        "duration": 4,
        "start_time": "2024-08-26T19:32:05.979Z"
      },
      {
        "duration": 409,
        "start_time": "2024-08-26T19:32:05.985Z"
      },
      {
        "duration": 9,
        "start_time": "2024-08-26T19:32:06.396Z"
      },
      {
        "duration": 14,
        "start_time": "2024-08-26T19:32:06.407Z"
      },
      {
        "duration": 7,
        "start_time": "2024-08-26T19:32:06.423Z"
      },
      {
        "duration": 4,
        "start_time": "2024-08-26T19:32:06.431Z"
      },
      {
        "duration": 514,
        "start_time": "2024-08-26T19:32:06.437Z"
      },
      {
        "duration": 3,
        "start_time": "2024-08-26T19:32:06.952Z"
      },
      {
        "duration": 7,
        "start_time": "2024-08-26T19:32:06.957Z"
      },
      {
        "duration": 5,
        "start_time": "2024-08-26T19:32:06.966Z"
      },
      {
        "duration": 5,
        "start_time": "2024-08-26T19:32:06.973Z"
      },
      {
        "duration": 4,
        "start_time": "2024-08-26T19:32:06.979Z"
      },
      {
        "duration": 4,
        "start_time": "2024-08-26T19:32:06.985Z"
      },
      {
        "duration": 36,
        "start_time": "2024-08-26T19:32:06.990Z"
      },
      {
        "duration": 8,
        "start_time": "2024-08-26T19:32:07.028Z"
      },
      {
        "duration": 5,
        "start_time": "2024-08-26T19:32:07.037Z"
      },
      {
        "duration": 5,
        "start_time": "2024-08-26T19:32:07.043Z"
      },
      {
        "duration": 3,
        "start_time": "2024-08-26T19:32:07.055Z"
      },
      {
        "duration": 3,
        "start_time": "2024-08-26T19:32:07.059Z"
      },
      {
        "duration": 5,
        "start_time": "2024-08-26T19:33:35.000Z"
      },
      {
        "duration": 6,
        "start_time": "2024-08-26T19:33:38.720Z"
      },
      {
        "duration": 5,
        "start_time": "2024-08-26T19:33:53.933Z"
      },
      {
        "duration": 4,
        "start_time": "2024-08-26T19:33:54.304Z"
      },
      {
        "duration": 167,
        "start_time": "2024-08-26T19:34:10.067Z"
      },
      {
        "duration": 388,
        "start_time": "2024-08-26T19:34:53.603Z"
      },
      {
        "duration": 170,
        "start_time": "2024-08-26T19:34:59.377Z"
      },
      {
        "duration": 150,
        "start_time": "2024-08-26T19:35:09.620Z"
      },
      {
        "duration": 176,
        "start_time": "2024-08-26T19:35:16.987Z"
      },
      {
        "duration": 4,
        "start_time": "2024-08-26T19:36:08.558Z"
      },
      {
        "duration": 7,
        "start_time": "2024-08-26T19:36:10.665Z"
      },
      {
        "duration": 205,
        "start_time": "2024-08-26T19:36:14.843Z"
      },
      {
        "duration": 5,
        "start_time": "2024-08-26T19:36:26.834Z"
      },
      {
        "duration": 5,
        "start_time": "2024-08-26T19:36:27.309Z"
      },
      {
        "duration": 170,
        "start_time": "2024-08-26T19:36:28.523Z"
      },
      {
        "duration": 7,
        "start_time": "2024-08-26T19:42:38.576Z"
      },
      {
        "duration": 5,
        "start_time": "2024-08-26T19:42:39.908Z"
      },
      {
        "duration": 5,
        "start_time": "2024-08-26T19:42:43.590Z"
      },
      {
        "duration": 6,
        "start_time": "2024-08-26T19:42:51.830Z"
      },
      {
        "duration": 6,
        "start_time": "2024-08-26T19:42:54.771Z"
      },
      {
        "duration": 5,
        "start_time": "2024-08-26T19:42:57.240Z"
      },
      {
        "duration": 3,
        "start_time": "2024-08-28T16:20:53.776Z"
      },
      {
        "duration": 24,
        "start_time": "2024-08-28T16:20:53.781Z"
      },
      {
        "duration": 11,
        "start_time": "2024-08-28T16:20:53.807Z"
      },
      {
        "duration": 11,
        "start_time": "2024-08-28T16:20:53.821Z"
      },
      {
        "duration": 19,
        "start_time": "2024-08-28T16:20:53.834Z"
      },
      {
        "duration": 38,
        "start_time": "2024-08-28T16:20:53.855Z"
      },
      {
        "duration": 17,
        "start_time": "2024-08-28T16:20:53.894Z"
      },
      {
        "duration": 2,
        "start_time": "2024-08-28T16:20:53.913Z"
      },
      {
        "duration": 14,
        "start_time": "2024-08-28T16:20:53.919Z"
      },
      {
        "duration": 12,
        "start_time": "2024-08-28T16:20:53.935Z"
      },
      {
        "duration": 38,
        "start_time": "2024-08-28T16:20:53.949Z"
      },
      {
        "duration": 7,
        "start_time": "2024-08-28T16:20:53.988Z"
      },
      {
        "duration": 10,
        "start_time": "2024-08-28T16:20:53.996Z"
      },
      {
        "duration": 3,
        "start_time": "2024-08-28T16:20:54.007Z"
      },
      {
        "duration": 6,
        "start_time": "2024-08-28T16:20:54.012Z"
      },
      {
        "duration": 10,
        "start_time": "2024-08-28T16:20:54.020Z"
      },
      {
        "duration": 5,
        "start_time": "2024-08-28T16:20:54.031Z"
      },
      {
        "duration": 7,
        "start_time": "2024-08-28T16:20:54.037Z"
      },
      {
        "duration": 50,
        "start_time": "2024-08-28T16:20:54.046Z"
      },
      {
        "duration": 3,
        "start_time": "2024-08-28T16:20:54.098Z"
      },
      {
        "duration": 6,
        "start_time": "2024-08-28T16:20:54.102Z"
      },
      {
        "duration": 14,
        "start_time": "2024-08-28T16:20:54.109Z"
      },
      {
        "duration": 5,
        "start_time": "2024-08-28T16:21:15.318Z"
      },
      {
        "duration": 5,
        "start_time": "2024-08-28T16:21:16.557Z"
      },
      {
        "duration": 11,
        "start_time": "2024-08-28T16:22:25.468Z"
      },
      {
        "duration": 129,
        "start_time": "2024-08-28T16:22:33.462Z"
      },
      {
        "duration": 4,
        "start_time": "2024-08-28T16:22:36.645Z"
      },
      {
        "duration": 5,
        "start_time": "2024-08-28T16:25:36.235Z"
      },
      {
        "duration": 107,
        "start_time": "2024-08-28T16:30:19.385Z"
      },
      {
        "duration": 728,
        "start_time": "2024-08-28T16:30:32.615Z"
      },
      {
        "duration": 4,
        "start_time": "2024-08-28T16:32:20.502Z"
      },
      {
        "duration": 644,
        "start_time": "2024-08-28T16:33:03.633Z"
      },
      {
        "duration": 17,
        "start_time": "2024-08-28T16:33:40.356Z"
      },
      {
        "duration": 5,
        "start_time": "2024-08-28T16:34:45.151Z"
      },
      {
        "duration": 4,
        "start_time": "2024-08-28T16:34:47.006Z"
      },
      {
        "duration": 5,
        "start_time": "2024-08-28T16:34:50.626Z"
      },
      {
        "duration": 12,
        "start_time": "2024-08-28T16:34:54.616Z"
      },
      {
        "duration": 240,
        "start_time": "2024-08-28T16:35:05.583Z"
      },
      {
        "duration": 15,
        "start_time": "2024-08-28T16:36:28.418Z"
      },
      {
        "duration": 146,
        "start_time": "2024-08-28T16:36:37.414Z"
      },
      {
        "duration": 143,
        "start_time": "2024-08-28T16:37:07.567Z"
      },
      {
        "duration": 143,
        "start_time": "2024-08-28T16:53:11.429Z"
      },
      {
        "duration": 250,
        "start_time": "2024-08-28T16:59:23.159Z"
      },
      {
        "duration": 141,
        "start_time": "2024-08-28T17:00:07.419Z"
      },
      {
        "duration": 258,
        "start_time": "2024-08-28T17:00:33.043Z"
      },
      {
        "duration": 142,
        "start_time": "2024-08-28T17:01:52.899Z"
      },
      {
        "duration": 141,
        "start_time": "2024-08-28T17:02:00.357Z"
      },
      {
        "duration": 234,
        "start_time": "2024-08-28T17:02:06.411Z"
      },
      {
        "duration": 4,
        "start_time": "2024-08-28T17:04:35.809Z"
      },
      {
        "duration": 3,
        "start_time": "2024-08-28T17:04:36.526Z"
      },
      {
        "duration": 232,
        "start_time": "2024-08-28T17:04:45.461Z"
      },
      {
        "duration": 301,
        "start_time": "2024-08-28T17:04:48.997Z"
      },
      {
        "duration": 783,
        "start_time": "2024-08-28T17:07:15.434Z"
      },
      {
        "duration": 27,
        "start_time": "2024-08-28T17:07:16.220Z"
      },
      {
        "duration": 14,
        "start_time": "2024-08-28T17:07:16.249Z"
      },
      {
        "duration": 26,
        "start_time": "2024-08-28T17:07:16.265Z"
      },
      {
        "duration": 20,
        "start_time": "2024-08-28T17:07:16.294Z"
      },
      {
        "duration": 8,
        "start_time": "2024-08-28T17:07:16.316Z"
      },
      {
        "duration": 16,
        "start_time": "2024-08-28T17:07:16.326Z"
      },
      {
        "duration": 2,
        "start_time": "2024-08-28T17:07:16.344Z"
      },
      {
        "duration": 39,
        "start_time": "2024-08-28T17:07:16.348Z"
      },
      {
        "duration": 11,
        "start_time": "2024-08-28T17:07:16.389Z"
      },
      {
        "duration": 10,
        "start_time": "2024-08-28T17:07:16.401Z"
      },
      {
        "duration": 7,
        "start_time": "2024-08-28T17:07:16.413Z"
      },
      {
        "duration": 10,
        "start_time": "2024-08-28T17:07:16.421Z"
      },
      {
        "duration": 3,
        "start_time": "2024-08-28T17:07:16.436Z"
      },
      {
        "duration": 47,
        "start_time": "2024-08-28T17:07:16.440Z"
      },
      {
        "duration": 10,
        "start_time": "2024-08-28T17:07:16.488Z"
      },
      {
        "duration": 5,
        "start_time": "2024-08-28T17:07:16.500Z"
      },
      {
        "duration": 7,
        "start_time": "2024-08-28T17:07:16.506Z"
      },
      {
        "duration": 15,
        "start_time": "2024-08-28T17:07:16.515Z"
      },
      {
        "duration": 3,
        "start_time": "2024-08-28T17:07:16.531Z"
      },
      {
        "duration": 6,
        "start_time": "2024-08-28T17:07:16.536Z"
      },
      {
        "duration": 50,
        "start_time": "2024-08-28T17:07:16.545Z"
      },
      {
        "duration": 3,
        "start_time": "2024-08-28T17:07:16.597Z"
      },
      {
        "duration": 4,
        "start_time": "2024-08-28T17:07:16.602Z"
      },
      {
        "duration": 4,
        "start_time": "2024-08-28T17:07:16.608Z"
      },
      {
        "duration": 15,
        "start_time": "2024-08-28T17:07:16.614Z"
      },
      {
        "duration": 4,
        "start_time": "2024-08-28T17:07:16.631Z"
      },
      {
        "duration": 4,
        "start_time": "2024-08-28T17:07:16.637Z"
      },
      {
        "duration": 4,
        "start_time": "2024-08-28T17:07:16.642Z"
      },
      {
        "duration": 47,
        "start_time": "2024-08-28T17:07:16.647Z"
      },
      {
        "duration": 270,
        "start_time": "2024-08-28T17:07:16.696Z"
      },
      {
        "duration": 194,
        "start_time": "2024-08-28T17:07:16.968Z"
      },
      {
        "duration": 4,
        "start_time": "2024-08-28T17:07:17.164Z"
      },
      {
        "duration": 3,
        "start_time": "2024-08-28T17:07:17.169Z"
      },
      {
        "duration": 4,
        "start_time": "2024-08-28T17:07:17.186Z"
      },
      {
        "duration": 16,
        "start_time": "2024-08-28T17:07:17.191Z"
      },
      {
        "duration": 4,
        "start_time": "2024-08-28T17:07:17.208Z"
      },
      {
        "duration": 8,
        "start_time": "2024-08-28T17:07:17.213Z"
      },
      {
        "duration": 5,
        "start_time": "2024-08-28T17:07:17.222Z"
      },
      {
        "duration": 10,
        "start_time": "2024-08-28T17:07:17.229Z"
      },
      {
        "duration": 43,
        "start_time": "2024-08-28T17:07:17.246Z"
      },
      {
        "duration": 11,
        "start_time": "2024-08-28T17:07:17.291Z"
      },
      {
        "duration": 4,
        "start_time": "2024-08-28T17:07:17.304Z"
      },
      {
        "duration": 10,
        "start_time": "2024-08-28T17:07:17.310Z"
      },
      {
        "duration": 5,
        "start_time": "2024-08-28T17:07:17.322Z"
      },
      {
        "duration": 3,
        "start_time": "2024-08-28T17:07:17.329Z"
      },
      {
        "duration": 6,
        "start_time": "2024-08-28T17:07:17.334Z"
      },
      {
        "duration": 241,
        "start_time": "2024-08-28T17:07:17.341Z"
      },
      {
        "duration": 5,
        "start_time": "2024-08-28T17:07:17.584Z"
      },
      {
        "duration": 7,
        "start_time": "2024-08-28T17:07:17.590Z"
      },
      {
        "duration": 4,
        "start_time": "2024-08-28T17:07:17.599Z"
      },
      {
        "duration": 7,
        "start_time": "2024-08-28T17:07:17.605Z"
      },
      {
        "duration": 3,
        "start_time": "2024-08-28T17:07:17.614Z"
      },
      {
        "duration": 8,
        "start_time": "2024-08-28T17:07:17.620Z"
      },
      {
        "duration": 274,
        "start_time": "2024-08-28T17:07:17.630Z"
      },
      {
        "duration": 5,
        "start_time": "2024-08-28T17:07:17.906Z"
      },
      {
        "duration": 9,
        "start_time": "2024-08-28T17:07:17.914Z"
      },
      {
        "duration": 10,
        "start_time": "2024-08-28T17:07:17.924Z"
      },
      {
        "duration": 331,
        "start_time": "2024-08-28T17:07:17.936Z"
      },
      {
        "duration": 5,
        "start_time": "2024-08-28T17:07:18.269Z"
      },
      {
        "duration": 147,
        "start_time": "2024-08-28T17:07:18.275Z"
      },
      {
        "duration": 145,
        "start_time": "2024-08-28T17:07:18.424Z"
      },
      {
        "duration": 4,
        "start_time": "2024-08-28T17:07:18.571Z"
      },
      {
        "duration": 13,
        "start_time": "2024-08-28T17:07:18.576Z"
      },
      {
        "duration": 173,
        "start_time": "2024-08-28T17:07:18.591Z"
      },
      {
        "duration": 2,
        "start_time": "2024-08-28T17:07:18.766Z"
      },
      {
        "duration": 186,
        "start_time": "2024-08-28T17:07:18.769Z"
      },
      {
        "duration": 2,
        "start_time": "2024-08-28T17:07:18.957Z"
      },
      {
        "duration": 9,
        "start_time": "2024-08-28T17:07:18.961Z"
      },
      {
        "duration": 4,
        "start_time": "2024-08-28T17:07:18.986Z"
      },
      {
        "duration": 4,
        "start_time": "2024-08-28T17:07:18.991Z"
      },
      {
        "duration": 5,
        "start_time": "2024-08-28T17:07:18.997Z"
      },
      {
        "duration": 452,
        "start_time": "2024-08-28T17:07:19.004Z"
      },
      {
        "duration": 8,
        "start_time": "2024-08-28T17:07:19.458Z"
      },
      {
        "duration": 4,
        "start_time": "2024-08-28T17:07:19.468Z"
      },
      {
        "duration": 4,
        "start_time": "2024-08-28T17:07:19.487Z"
      },
      {
        "duration": 5,
        "start_time": "2024-08-28T17:07:19.492Z"
      },
      {
        "duration": 470,
        "start_time": "2024-08-28T17:07:19.498Z"
      },
      {
        "duration": 3,
        "start_time": "2024-08-28T17:07:19.970Z"
      },
      {
        "duration": 14,
        "start_time": "2024-08-28T17:07:19.975Z"
      },
      {
        "duration": 4,
        "start_time": "2024-08-28T17:07:19.991Z"
      },
      {
        "duration": 6,
        "start_time": "2024-08-28T17:07:19.997Z"
      },
      {
        "duration": 4,
        "start_time": "2024-08-28T17:07:20.004Z"
      },
      {
        "duration": 2,
        "start_time": "2024-08-28T17:07:20.010Z"
      },
      {
        "duration": 3,
        "start_time": "2024-08-28T17:07:20.014Z"
      },
      {
        "duration": 6,
        "start_time": "2024-08-28T17:07:20.019Z"
      },
      {
        "duration": 4,
        "start_time": "2024-08-28T17:07:20.027Z"
      },
      {
        "duration": 54,
        "start_time": "2024-08-28T17:07:20.032Z"
      },
      {
        "duration": 3,
        "start_time": "2024-08-28T17:07:20.088Z"
      },
      {
        "duration": 3,
        "start_time": "2024-08-28T17:07:20.093Z"
      },
      {
        "duration": 3,
        "start_time": "2024-08-28T17:16:30.817Z"
      },
      {
        "duration": 2623,
        "start_time": "2024-08-28T20:06:44.295Z"
      },
      {
        "duration": 37,
        "start_time": "2024-08-28T20:06:46.920Z"
      },
      {
        "duration": 16,
        "start_time": "2024-08-28T20:06:46.959Z"
      },
      {
        "duration": 13,
        "start_time": "2024-08-28T20:06:46.977Z"
      },
      {
        "duration": 20,
        "start_time": "2024-08-28T20:06:46.992Z"
      },
      {
        "duration": 9,
        "start_time": "2024-08-28T20:06:47.014Z"
      },
      {
        "duration": 17,
        "start_time": "2024-08-28T20:06:47.025Z"
      },
      {
        "duration": 28,
        "start_time": "2024-08-28T20:06:47.043Z"
      },
      {
        "duration": 17,
        "start_time": "2024-08-28T20:06:47.073Z"
      },
      {
        "duration": 12,
        "start_time": "2024-08-28T20:06:47.093Z"
      },
      {
        "duration": 11,
        "start_time": "2024-08-28T20:06:47.107Z"
      },
      {
        "duration": 7,
        "start_time": "2024-08-28T20:06:47.120Z"
      },
      {
        "duration": 41,
        "start_time": "2024-08-28T20:06:47.129Z"
      },
      {
        "duration": 5,
        "start_time": "2024-08-28T20:06:47.173Z"
      },
      {
        "duration": 9,
        "start_time": "2024-08-28T20:06:47.180Z"
      },
      {
        "duration": 12,
        "start_time": "2024-08-28T20:06:47.192Z"
      },
      {
        "duration": 4,
        "start_time": "2024-08-28T20:06:47.206Z"
      },
      {
        "duration": 8,
        "start_time": "2024-08-28T20:06:47.211Z"
      },
      {
        "duration": 15,
        "start_time": "2024-08-28T20:06:47.221Z"
      },
      {
        "duration": 4,
        "start_time": "2024-08-28T20:06:47.271Z"
      },
      {
        "duration": 7,
        "start_time": "2024-08-28T20:06:47.276Z"
      },
      {
        "duration": 16,
        "start_time": "2024-08-28T20:06:47.285Z"
      },
      {
        "duration": 3,
        "start_time": "2024-08-28T20:06:47.302Z"
      },
      {
        "duration": 5,
        "start_time": "2024-08-28T20:06:47.307Z"
      },
      {
        "duration": 4,
        "start_time": "2024-08-28T20:06:47.314Z"
      },
      {
        "duration": 57,
        "start_time": "2024-08-28T20:06:47.320Z"
      },
      {
        "duration": 6,
        "start_time": "2024-08-28T20:06:47.379Z"
      },
      {
        "duration": 5,
        "start_time": "2024-08-28T20:06:47.390Z"
      },
      {
        "duration": 5,
        "start_time": "2024-08-28T20:06:47.396Z"
      },
      {
        "duration": 11,
        "start_time": "2024-08-28T20:06:47.402Z"
      },
      {
        "duration": 281,
        "start_time": "2024-08-28T20:06:47.415Z"
      },
      {
        "duration": 150,
        "start_time": "2024-08-28T20:06:47.698Z"
      },
      {
        "duration": 4,
        "start_time": "2024-08-28T20:06:47.850Z"
      },
      {
        "duration": 19,
        "start_time": "2024-08-28T20:06:47.855Z"
      },
      {
        "duration": 6,
        "start_time": "2024-08-28T20:06:47.876Z"
      },
      {
        "duration": 16,
        "start_time": "2024-08-28T20:06:47.884Z"
      },
      {
        "duration": 3,
        "start_time": "2024-08-28T20:06:47.901Z"
      },
      {
        "duration": 6,
        "start_time": "2024-08-28T20:06:47.906Z"
      },
      {
        "duration": 4,
        "start_time": "2024-08-28T20:06:47.914Z"
      },
      {
        "duration": 12,
        "start_time": "2024-08-28T20:06:47.920Z"
      },
      {
        "duration": 41,
        "start_time": "2024-08-28T20:06:47.933Z"
      },
      {
        "duration": 10,
        "start_time": "2024-08-28T20:06:47.976Z"
      },
      {
        "duration": 6,
        "start_time": "2024-08-28T20:06:47.988Z"
      },
      {
        "duration": 11,
        "start_time": "2024-08-28T20:06:47.996Z"
      },
      {
        "duration": 4,
        "start_time": "2024-08-28T20:06:48.009Z"
      },
      {
        "duration": 3,
        "start_time": "2024-08-28T20:06:48.015Z"
      },
      {
        "duration": 7,
        "start_time": "2024-08-28T20:06:48.019Z"
      },
      {
        "duration": 265,
        "start_time": "2024-08-28T20:06:48.028Z"
      },
      {
        "duration": 5,
        "start_time": "2024-08-28T20:06:48.295Z"
      },
      {
        "duration": 7,
        "start_time": "2024-08-28T20:06:48.302Z"
      },
      {
        "duration": 3,
        "start_time": "2024-08-28T20:06:48.311Z"
      },
      {
        "duration": 9,
        "start_time": "2024-08-28T20:06:48.316Z"
      },
      {
        "duration": 3,
        "start_time": "2024-08-28T20:06:48.327Z"
      },
      {
        "duration": 40,
        "start_time": "2024-08-28T20:06:48.331Z"
      },
      {
        "duration": 248,
        "start_time": "2024-08-28T20:06:48.373Z"
      },
      {
        "duration": 6,
        "start_time": "2024-08-28T20:06:48.623Z"
      },
      {
        "duration": 11,
        "start_time": "2024-08-28T20:06:48.631Z"
      },
      {
        "duration": 31,
        "start_time": "2024-08-28T20:06:48.644Z"
      },
      {
        "duration": 321,
        "start_time": "2024-08-28T20:06:48.677Z"
      },
      {
        "duration": 5,
        "start_time": "2024-08-28T20:06:49.000Z"
      },
      {
        "duration": 202,
        "start_time": "2024-08-28T20:06:49.008Z"
      },
      {
        "duration": 148,
        "start_time": "2024-08-28T20:06:49.212Z"
      },
      {
        "duration": 10,
        "start_time": "2024-08-28T20:06:49.362Z"
      },
      {
        "duration": 4,
        "start_time": "2024-08-28T20:06:49.374Z"
      },
      {
        "duration": 178,
        "start_time": "2024-08-28T20:06:49.380Z"
      },
      {
        "duration": 10,
        "start_time": "2024-08-28T20:06:49.560Z"
      },
      {
        "duration": 189,
        "start_time": "2024-08-28T20:06:49.572Z"
      },
      {
        "duration": 2,
        "start_time": "2024-08-28T20:06:49.763Z"
      },
      {
        "duration": 8,
        "start_time": "2024-08-28T20:06:49.771Z"
      },
      {
        "duration": 4,
        "start_time": "2024-08-28T20:06:49.780Z"
      },
      {
        "duration": 4,
        "start_time": "2024-08-28T20:06:49.786Z"
      },
      {
        "duration": 5,
        "start_time": "2024-08-28T20:06:49.791Z"
      },
      {
        "duration": 447,
        "start_time": "2024-08-28T20:06:49.797Z"
      },
      {
        "duration": 8,
        "start_time": "2024-08-28T20:06:50.246Z"
      },
      {
        "duration": 15,
        "start_time": "2024-08-28T20:06:50.255Z"
      },
      {
        "duration": 5,
        "start_time": "2024-08-28T20:06:50.272Z"
      },
      {
        "duration": 4,
        "start_time": "2024-08-28T20:06:50.278Z"
      },
      {
        "duration": 492,
        "start_time": "2024-08-28T20:06:50.285Z"
      },
      {
        "duration": 3,
        "start_time": "2024-08-28T20:06:50.779Z"
      },
      {
        "duration": 3,
        "start_time": "2024-08-28T20:06:50.783Z"
      },
      {
        "duration": 7,
        "start_time": "2024-08-28T20:06:50.788Z"
      },
      {
        "duration": 4,
        "start_time": "2024-08-28T20:06:50.802Z"
      },
      {
        "duration": 6,
        "start_time": "2024-08-28T20:06:50.808Z"
      },
      {
        "duration": 4,
        "start_time": "2024-08-28T20:06:50.815Z"
      },
      {
        "duration": 3,
        "start_time": "2024-08-28T20:06:50.820Z"
      },
      {
        "duration": 3,
        "start_time": "2024-08-28T20:06:50.825Z"
      },
      {
        "duration": 7,
        "start_time": "2024-08-28T20:06:50.871Z"
      },
      {
        "duration": 5,
        "start_time": "2024-08-28T20:06:50.879Z"
      },
      {
        "duration": 4,
        "start_time": "2024-08-28T20:06:50.886Z"
      },
      {
        "duration": 4,
        "start_time": "2024-08-28T20:06:50.892Z"
      },
      {
        "duration": 4,
        "start_time": "2024-08-28T20:06:50.897Z"
      },
      {
        "duration": 4,
        "start_time": "2024-08-28T20:34:18.739Z"
      },
      {
        "duration": 4,
        "start_time": "2024-08-28T20:34:29.248Z"
      },
      {
        "duration": 5,
        "start_time": "2024-08-28T20:34:36.013Z"
      },
      {
        "duration": 3,
        "start_time": "2024-08-28T20:37:50.225Z"
      },
      {
        "duration": 4,
        "start_time": "2024-08-28T20:38:07.448Z"
      },
      {
        "duration": 3,
        "start_time": "2024-08-28T20:38:41.555Z"
      },
      {
        "duration": 4,
        "start_time": "2024-08-28T20:38:51.034Z"
      },
      {
        "duration": 3,
        "start_time": "2024-08-28T20:38:51.730Z"
      },
      {
        "duration": 211,
        "start_time": "2024-08-28T20:40:44.495Z"
      },
      {
        "duration": 4,
        "start_time": "2024-08-28T20:40:55.956Z"
      },
      {
        "duration": 3,
        "start_time": "2024-08-28T20:41:17.763Z"
      },
      {
        "duration": 15,
        "start_time": "2024-08-28T20:41:51.139Z"
      },
      {
        "duration": 13,
        "start_time": "2024-08-28T20:41:57.685Z"
      },
      {
        "duration": 4,
        "start_time": "2024-08-28T20:42:00.209Z"
      },
      {
        "duration": 3,
        "start_time": "2024-08-28T20:42:13.408Z"
      }
    ],
    "kernelspec": {
      "display_name": "Python 3 (ipykernel)",
      "language": "python",
      "name": "python3"
    },
    "language_info": {
      "codemirror_mode": {
        "name": "ipython",
        "version": 3
      },
      "file_extension": ".py",
      "mimetype": "text/x-python",
      "name": "python",
      "nbconvert_exporter": "python",
      "pygments_lexer": "ipython3",
      "version": "3.9.19"
    },
    "toc": {
      "base_numbering": 1,
      "nav_menu": {},
      "number_sections": true,
      "sideBar": true,
      "skip_h1_title": true,
      "title_cell": "Table of Contents",
      "title_sidebar": "Contents",
      "toc_cell": false,
      "toc_position": {},
      "toc_section_display": true,
      "toc_window_display": false
    },
    "colab": {
      "provenance": []
    }
  },
  "nbformat": 4,
  "nbformat_minor": 0
}